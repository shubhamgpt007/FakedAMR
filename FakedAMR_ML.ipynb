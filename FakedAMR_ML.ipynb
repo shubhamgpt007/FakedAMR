{
 "cells": [
  {
   "cell_type": "code",
   "execution_count": 5,
   "id": "b04ce158",
   "metadata": {},
   "outputs": [
    {
     "name": "stdout",
     "output_type": "stream",
     "text": [
      "Defaulting to user installation because normal site-packages is not writeable\n",
      "Requirement already satisfied: karateclub in /DATA/gupta37/.local/lib/python3.7/site-packages (1.3.3)\n",
      "Requirement already satisfied: numpy<1.23.0 in /DATA/gupta37/.local/lib/python3.7/site-packages (from karateclub) (1.20.3)\n",
      "Requirement already satisfied: networkx<2.7 in /DATA/gupta37/.local/lib/python3.7/site-packages (from karateclub) (2.6.3)\n",
      "Requirement already satisfied: decorator==4.4.2 in /DATA/gupta37/.local/lib/python3.7/site-packages (from karateclub) (4.4.2)\n",
      "Requirement already satisfied: tqdm in /DATA/gupta37/.local/lib/python3.7/site-packages (from karateclub) (4.62.2)\n",
      "Requirement already satisfied: python-louvain in /DATA/gupta37/.local/lib/python3.7/site-packages (from karateclub) (0.16)\n",
      "Requirement already satisfied: scikit-learn in /DATA/gupta37/.local/lib/python3.7/site-packages (from karateclub) (1.0.1)\n",
      "Requirement already satisfied: scipy in /usr/local/lib/python3.7/dist-packages (from karateclub) (1.5.3)\n",
      "Requirement already satisfied: pygsp in /DATA/gupta37/.local/lib/python3.7/site-packages (from karateclub) (0.5.1)\n",
      "Requirement already satisfied: gensim>=4.0.0 in /DATA/gupta37/.local/lib/python3.7/site-packages (from karateclub) (4.2.0)\n",
      "Requirement already satisfied: pandas<=1.3.5 in /DATA/gupta37/.local/lib/python3.7/site-packages (from karateclub) (1.3.5)\n",
      "Requirement already satisfied: six in /DATA/gupta37/.local/lib/python3.7/site-packages (from karateclub) (1.16.0)\n",
      "Requirement already satisfied: python-Levenshtein in /DATA/gupta37/.local/lib/python3.7/site-packages (from karateclub) (0.12.2)\n",
      "Requirement already satisfied: smart-open>=1.8.1 in /DATA/gupta37/.local/lib/python3.7/site-packages (from gensim>=4.0.0->karateclub) (6.3.0)\n",
      "Requirement already satisfied: python-dateutil>=2.7.3 in /DATA/gupta37/.local/lib/python3.7/site-packages (from pandas<=1.3.5->karateclub) (2.8.2)\n",
      "Requirement already satisfied: pytz>=2017.3 in /DATA/gupta37/.local/lib/python3.7/site-packages (from pandas<=1.3.5->karateclub) (2022.2.1)\n",
      "Requirement already satisfied: setuptools in /usr/local/lib/python3.7/dist-packages (from python-Levenshtein->karateclub) (47.1.1)\n",
      "Requirement already satisfied: joblib>=0.11 in /usr/local/lib/python3.7/dist-packages (from scikit-learn->karateclub) (0.17.0)\n",
      "Requirement already satisfied: threadpoolctl>=2.0.0 in /usr/local/lib/python3.7/dist-packages (from scikit-learn->karateclub) (2.1.0)\n"
     ]
    }
   ],
   "source": [
    "!pip install karateclub"
   ]
  },
  {
   "cell_type": "code",
   "execution_count": 6,
   "id": "da7941af",
   "metadata": {},
   "outputs": [
    {
     "name": "stdout",
     "output_type": "stream",
     "text": [
      "Defaulting to user installation because normal site-packages is not writeable\n",
      "Requirement already satisfied: keras-embed-sim in /DATA/gupta37/.local/lib/python3.7/site-packages (0.10.0)\n",
      "Requirement already satisfied: numpy in /DATA/gupta37/.local/lib/python3.7/site-packages (from keras-embed-sim) (1.20.3)\n"
     ]
    }
   ],
   "source": [
    "!pip install keras-embed-sim"
   ]
  },
  {
   "cell_type": "code",
   "execution_count": 2,
   "id": "ab006da4",
   "metadata": {},
   "outputs": [],
   "source": [
    "import os\n",
    "os.environ[\"CUDA_DEVICE_ORDER\"]=\"PCI_BUS_ID\"\n",
    "os.environ[\"CUDA_VISIBLE_DEVICES\"]=\"1\""
   ]
  },
  {
   "cell_type": "code",
   "execution_count": 1,
   "id": "ff9b85dc",
   "metadata": {
    "tags": []
   },
   "outputs": [
    {
     "ename": "ModuleNotFoundError",
     "evalue": "No module named 'pandas'",
     "output_type": "error",
     "traceback": [
      "\u001b[0;31m---------------------------------------------------------------------------\u001b[0m",
      "\u001b[0;31mModuleNotFoundError\u001b[0m                       Traceback (most recent call last)",
      "Cell \u001b[0;32mIn[1], line 1\u001b[0m\n\u001b[0;32m----> 1\u001b[0m \u001b[38;5;28;01mimport\u001b[39;00m \u001b[38;5;21;01mpandas\u001b[39;00m \u001b[38;5;28;01mas\u001b[39;00m \u001b[38;5;21;01mpd\u001b[39;00m\n\u001b[1;32m      2\u001b[0m \u001b[38;5;28;01mimport\u001b[39;00m \u001b[38;5;21;01mnumpy\u001b[39;00m \u001b[38;5;28;01mas\u001b[39;00m \u001b[38;5;21;01mnp\u001b[39;00m\n\u001b[1;32m      3\u001b[0m \u001b[38;5;28;01mimport\u001b[39;00m \u001b[38;5;21;01mpickle\u001b[39;00m\n",
      "\u001b[0;31mModuleNotFoundError\u001b[0m: No module named 'pandas'"
     ]
    }
   ],
   "source": [
    "import pandas as pd\n",
    "import numpy as np\n",
    "import pickle\n",
    "from tensorflow.keras.layers import Embedding\n",
    "from keras.models import Model\n",
    "import string\n",
    "import re\n",
    "from keras.preprocessing.text import Tokenizer\n",
    "from sklearn.preprocessing import LabelBinarizer\n",
    "from keras_preprocessing.sequence import pad_sequences\n",
    "import keras"
   ]
  },
  {
   "cell_type": "code",
   "execution_count": null,
   "id": "8bbc49b4",
   "metadata": {},
   "outputs": [],
   "source": [
    "import amrlib\n",
    "stog = amrlib.load_stog_model()"
   ]
  },
  {
   "cell_type": "code",
   "execution_count": 27,
   "id": "8817f161",
   "metadata": {},
   "outputs": [],
   "source": [
    "df=pd.read_csv(r'all_true_fake_merged.csv')"
   ]
  },
  {
   "cell_type": "code",
   "execution_count": 32,
   "id": "a9e00e1e",
   "metadata": {},
   "outputs": [
    {
     "name": "stderr",
     "output_type": "stream",
     "text": [
      "/DATA/gupta37/.local/lib/python3.7/site-packages/ipykernel_launcher.py:1: FutureWarning: The default value of regex will change from True to False in a future version.\n",
      "  \"\"\"Entry point for launching an IPython kernel.\n",
      "/DATA/gupta37/.local/lib/python3.7/site-packages/ipykernel_launcher.py:1: FutureWarning: The default value of regex will change from True to False in a future version. In addition, single character regular expressions will *not* be treated as literal strings when regex=True.\n",
      "  \"\"\"Entry point for launching an IPython kernel.\n"
     ]
    }
   ],
   "source": [
    "df['tweet']=df['tweet'].str.replace(r'http\\S+', '').str.replace(r'@\\S+','').str.replace(r'#\\S+','').str.replace(r'|','').str.replace(r',','').str.replace(r'-','').str.replace(r'\\'','').str.replace(r'%','').str.replace(r'\\d','').str.replace(r'\\n','')#.str.replace(r';','.')"
   ]
  },
  {
   "cell_type": "code",
   "execution_count": 33,
   "id": "756dae88",
   "metadata": {},
   "outputs": [],
   "source": [
    "df['no_of_sent']=0"
   ]
  },
  {
   "cell_type": "code",
   "execution_count": 34,
   "id": "9e916791",
   "metadata": {
    "scrolled": true
   },
   "outputs": [
    {
     "name": "stderr",
     "output_type": "stream",
     "text": [
      "[nltk_data] Downloading package punkt to /DATA/gupta37/nltk_data...\n",
      "[nltk_data]   Package punkt is already up-to-date!\n"
     ]
    }
   ],
   "source": [
    "import nltk\n",
    "nltk.download('punkt')\n",
    "from nltk.tokenize import sent_tokenize\n",
    "df['no_of_sent']= df['tweet'].apply(lambda x: len(sent_tokenize(x)))\n",
    "# for i in range(df.shape[0]):\n",
    "#     df['no_of_sent'][i] = len(sent_tokenize(df['tweet'][i]))"
   ]
  },
  {
   "cell_type": "code",
   "execution_count": 35,
   "id": "ed70f5da",
   "metadata": {},
   "outputs": [
    {
     "data": {
      "text/html": [
       "<div>\n",
       "<style scoped>\n",
       "    .dataframe tbody tr th:only-of-type {\n",
       "        vertical-align: middle;\n",
       "    }\n",
       "\n",
       "    .dataframe tbody tr th {\n",
       "        vertical-align: top;\n",
       "    }\n",
       "\n",
       "    .dataframe thead th {\n",
       "        text-align: right;\n",
       "    }\n",
       "</style>\n",
       "<table border=\"1\" class=\"dataframe\">\n",
       "  <thead>\n",
       "    <tr style=\"text-align: right;\">\n",
       "      <th></th>\n",
       "      <th>author id</th>\n",
       "      <th>created_at</th>\n",
       "      <th>mentions_id</th>\n",
       "      <th>mentions_username</th>\n",
       "      <th>hashtags</th>\n",
       "      <th>geo</th>\n",
       "      <th>longitude</th>\n",
       "      <th>latitude</th>\n",
       "      <th>id</th>\n",
       "      <th>lang</th>\n",
       "      <th>like_count</th>\n",
       "      <th>quote_count</th>\n",
       "      <th>reply_count</th>\n",
       "      <th>retweet_count</th>\n",
       "      <th>follower_count</th>\n",
       "      <th>source</th>\n",
       "      <th>tweet</th>\n",
       "      <th>target</th>\n",
       "      <th>no_of_sent</th>\n",
       "    </tr>\n",
       "  </thead>\n",
       "  <tbody>\n",
       "    <tr>\n",
       "      <th>20</th>\n",
       "      <td>1.039760e+18</td>\n",
       "      <td>2022-06-07 10:09:34+00:00</td>\n",
       "      <td>[]</td>\n",
       "      <td>[]</td>\n",
       "      <td>['NupurSharma', 'BJP', 'PMModi']</td>\n",
       "      <td>NaN</td>\n",
       "      <td>NaN</td>\n",
       "      <td>NaN</td>\n",
       "      <td>1.534115e+18</td>\n",
       "      <td>hi</td>\n",
       "      <td>11.0</td>\n",
       "      <td>0.0</td>\n",
       "      <td>0.0</td>\n",
       "      <td>0.0</td>\n",
       "      <td>218235.0</td>\n",
       "      <td>TweetDeck</td>\n",
       "      <td>After all what happened that BJP took such a b...</td>\n",
       "      <td>1</td>\n",
       "      <td>2</td>\n",
       "    </tr>\n",
       "    <tr>\n",
       "      <th>25</th>\n",
       "      <td>1.039760e+18</td>\n",
       "      <td>2022-06-07 05:04:00+00:00</td>\n",
       "      <td>[]</td>\n",
       "      <td>[]</td>\n",
       "      <td>['NupurSharmaCase', 'IndiaAndGulfRelation']</td>\n",
       "      <td>NaN</td>\n",
       "      <td>NaN</td>\n",
       "      <td>NaN</td>\n",
       "      <td>1.534038e+18</td>\n",
       "      <td>hi</td>\n",
       "      <td>5.0</td>\n",
       "      <td>0.0</td>\n",
       "      <td>0.0</td>\n",
       "      <td>1.0</td>\n",
       "      <td>218235.0</td>\n",
       "      <td>TweetDeck</td>\n",
       "      <td>Nupur Sharma is protesting in the case how man...</td>\n",
       "      <td>1</td>\n",
       "      <td>2</td>\n",
       "    </tr>\n",
       "    <tr>\n",
       "      <th>75</th>\n",
       "      <td>1.039760e+18</td>\n",
       "      <td>2022-06-09 16:16:38+00:00</td>\n",
       "      <td>[]</td>\n",
       "      <td>[]</td>\n",
       "      <td>['TV9D', 'ControversialRemarksAgainstProphetMu...</td>\n",
       "      <td>NaN</td>\n",
       "      <td>NaN</td>\n",
       "      <td>NaN</td>\n",
       "      <td>1.534932e+18</td>\n",
       "      <td>und</td>\n",
       "      <td>2.0</td>\n",
       "      <td>0.0</td>\n",
       "      <td>0.0</td>\n",
       "      <td>1.0</td>\n",
       "      <td>218233.0</td>\n",
       "      <td>TweetDeck</td>\n",
       "      <td>Understand the difference between Nupur Sharma...</td>\n",
       "      <td>1</td>\n",
       "      <td>2</td>\n",
       "    </tr>\n",
       "    <tr>\n",
       "      <th>80</th>\n",
       "      <td>1.039760e+18</td>\n",
       "      <td>2022-06-11 10:05:26+00:00</td>\n",
       "      <td>['324467993', '209663295']</td>\n",
       "      <td>['Surbhi_R_Sharma', 'GauravAgrawaal']</td>\n",
       "      <td>['NupurSharmaControversy', 'JamaMasjid', 'UPAl...</td>\n",
       "      <td>NaN</td>\n",
       "      <td>NaN</td>\n",
       "      <td>NaN</td>\n",
       "      <td>1.535564e+18</td>\n",
       "      <td>hi</td>\n",
       "      <td>13.0</td>\n",
       "      <td>0.0</td>\n",
       "      <td>1.0</td>\n",
       "      <td>4.0</td>\n",
       "      <td>218233.0</td>\n",
       "      <td>Twitter Media Studio - LiveCut</td>\n",
       "      <td>Inflation reached . percent in US in May      ...</td>\n",
       "      <td>1</td>\n",
       "      <td>2</td>\n",
       "    </tr>\n",
       "    <tr>\n",
       "      <th>90</th>\n",
       "      <td>1.039760e+18</td>\n",
       "      <td>2022-06-11 07:33:51+00:00</td>\n",
       "      <td>['1502627969722105867']</td>\n",
       "      <td>['DivyaKocharr']</td>\n",
       "      <td>['TV9Digital', 'nupursharma', 'prophetmuhammad']</td>\n",
       "      <td>NaN</td>\n",
       "      <td>NaN</td>\n",
       "      <td>NaN</td>\n",
       "      <td>1.535526e+18</td>\n",
       "      <td>und</td>\n",
       "      <td>4.0</td>\n",
       "      <td>0.0</td>\n",
       "      <td>2.0</td>\n",
       "      <td>1.0</td>\n",
       "      <td>218233.0</td>\n",
       "      <td>Twitter Media Studio</td>\n",
       "      <td>Why did Qatar first raise anti India flag in N...</td>\n",
       "      <td>1</td>\n",
       "      <td>2</td>\n",
       "    </tr>\n",
       "    <tr>\n",
       "      <th>173</th>\n",
       "      <td>1.039760e+18</td>\n",
       "      <td>2022-06-13 11:36:21+00:00</td>\n",
       "      <td>[]</td>\n",
       "      <td>[]</td>\n",
       "      <td>['Kuwait', 'NupurSharma']</td>\n",
       "      <td>NaN</td>\n",
       "      <td>NaN</td>\n",
       "      <td>NaN</td>\n",
       "      <td>1.536312e+18</td>\n",
       "      <td>hi</td>\n",
       "      <td>10.0</td>\n",
       "      <td>0.0</td>\n",
       "      <td>0.0</td>\n",
       "      <td>2.0</td>\n",
       "      <td>218235.0</td>\n",
       "      <td>TweetDeck</td>\n",
       "      <td>Those who performed in Kuwait will have to ret...</td>\n",
       "      <td>1</td>\n",
       "      <td>2</td>\n",
       "    </tr>\n",
       "  </tbody>\n",
       "</table>\n",
       "</div>"
      ],
      "text/plain": [
       "        author id                 created_at                 mentions_id  \\\n",
       "20   1.039760e+18  2022-06-07 10:09:34+00:00                          []   \n",
       "25   1.039760e+18  2022-06-07 05:04:00+00:00                          []   \n",
       "75   1.039760e+18  2022-06-09 16:16:38+00:00                          []   \n",
       "80   1.039760e+18  2022-06-11 10:05:26+00:00  ['324467993', '209663295']   \n",
       "90   1.039760e+18  2022-06-11 07:33:51+00:00     ['1502627969722105867']   \n",
       "173  1.039760e+18  2022-06-13 11:36:21+00:00                          []   \n",
       "\n",
       "                         mentions_username  \\\n",
       "20                                      []   \n",
       "25                                      []   \n",
       "75                                      []   \n",
       "80   ['Surbhi_R_Sharma', 'GauravAgrawaal']   \n",
       "90                        ['DivyaKocharr']   \n",
       "173                                     []   \n",
       "\n",
       "                                              hashtags  geo  longitude  \\\n",
       "20                    ['NupurSharma', 'BJP', 'PMModi']  NaN        NaN   \n",
       "25         ['NupurSharmaCase', 'IndiaAndGulfRelation']  NaN        NaN   \n",
       "75   ['TV9D', 'ControversialRemarksAgainstProphetMu...  NaN        NaN   \n",
       "80   ['NupurSharmaControversy', 'JamaMasjid', 'UPAl...  NaN        NaN   \n",
       "90    ['TV9Digital', 'nupursharma', 'prophetmuhammad']  NaN        NaN   \n",
       "173                          ['Kuwait', 'NupurSharma']  NaN        NaN   \n",
       "\n",
       "     latitude            id lang  like_count  quote_count  reply_count  \\\n",
       "20        NaN  1.534115e+18   hi        11.0          0.0          0.0   \n",
       "25        NaN  1.534038e+18   hi         5.0          0.0          0.0   \n",
       "75        NaN  1.534932e+18  und         2.0          0.0          0.0   \n",
       "80        NaN  1.535564e+18   hi        13.0          0.0          1.0   \n",
       "90        NaN  1.535526e+18  und         4.0          0.0          2.0   \n",
       "173       NaN  1.536312e+18   hi        10.0          0.0          0.0   \n",
       "\n",
       "     retweet_count  follower_count                          source  \\\n",
       "20             0.0        218235.0                       TweetDeck   \n",
       "25             1.0        218235.0                       TweetDeck   \n",
       "75             1.0        218233.0                       TweetDeck   \n",
       "80             4.0        218233.0  Twitter Media Studio - LiveCut   \n",
       "90             1.0        218233.0            Twitter Media Studio   \n",
       "173            2.0        218235.0                       TweetDeck   \n",
       "\n",
       "                                                 tweet  target  no_of_sent  \n",
       "20   After all what happened that BJP took such a b...       1           2  \n",
       "25   Nupur Sharma is protesting in the case how man...       1           2  \n",
       "75   Understand the difference between Nupur Sharma...       1           2  \n",
       "80   Inflation reached . percent in US in May      ...       1           2  \n",
       "90   Why did Qatar first raise anti India flag in N...       1           2  \n",
       "173  Those who performed in Kuwait will have to ret...       1           2  "
      ]
     },
     "execution_count": 35,
     "metadata": {},
     "output_type": "execute_result"
    }
   ],
   "source": [
    "df[df['no_of_sent']>1][:6]"
   ]
  },
  {
   "cell_type": "code",
   "execution_count": 36,
   "id": "125075ee",
   "metadata": {},
   "outputs": [
    {
     "data": {
      "text/html": [
       "<div>\n",
       "<style scoped>\n",
       "    .dataframe tbody tr th:only-of-type {\n",
       "        vertical-align: middle;\n",
       "    }\n",
       "\n",
       "    .dataframe tbody tr th {\n",
       "        vertical-align: top;\n",
       "    }\n",
       "\n",
       "    .dataframe thead th {\n",
       "        text-align: right;\n",
       "    }\n",
       "</style>\n",
       "<table border=\"1\" class=\"dataframe\">\n",
       "  <thead>\n",
       "    <tr style=\"text-align: right;\">\n",
       "      <th></th>\n",
       "      <th>author id</th>\n",
       "      <th>created_at</th>\n",
       "      <th>mentions_id</th>\n",
       "      <th>mentions_username</th>\n",
       "      <th>hashtags</th>\n",
       "      <th>geo</th>\n",
       "      <th>longitude</th>\n",
       "      <th>latitude</th>\n",
       "      <th>id</th>\n",
       "      <th>lang</th>\n",
       "      <th>like_count</th>\n",
       "      <th>quote_count</th>\n",
       "      <th>reply_count</th>\n",
       "      <th>retweet_count</th>\n",
       "      <th>follower_count</th>\n",
       "      <th>source</th>\n",
       "      <th>tweet</th>\n",
       "      <th>target</th>\n",
       "      <th>no_of_sent</th>\n",
       "    </tr>\n",
       "  </thead>\n",
       "  <tbody>\n",
       "    <tr>\n",
       "      <th>32</th>\n",
       "      <td>1.039760e+18</td>\n",
       "      <td>2022-06-07 15:08:01+00:00</td>\n",
       "      <td>[]</td>\n",
       "      <td>[]</td>\n",
       "      <td>['News', 'LatestNews', 'ProphetMuhammad']</td>\n",
       "      <td>NaN</td>\n",
       "      <td>NaN</td>\n",
       "      <td>NaN</td>\n",
       "      <td>1.534190e+18</td>\n",
       "      <td>hi</td>\n",
       "      <td>9.0</td>\n",
       "      <td>0.0</td>\n",
       "      <td>3.0</td>\n",
       "      <td>0.0</td>\n",
       "      <td>218233.0</td>\n",
       "      <td>TweetDeck</td>\n",
       "      <td></td>\n",
       "      <td>1</td>\n",
       "      <td>0</td>\n",
       "    </tr>\n",
       "    <tr>\n",
       "      <th>40</th>\n",
       "      <td>1.039760e+18</td>\n",
       "      <td>2022-06-09 04:50:20+00:00</td>\n",
       "      <td>[]</td>\n",
       "      <td>[]</td>\n",
       "      <td>['ProphetMuhammad', 'NupurSharma', 'AMuS']</td>\n",
       "      <td>NaN</td>\n",
       "      <td>NaN</td>\n",
       "      <td>NaN</td>\n",
       "      <td>1.534760e+18</td>\n",
       "      <td>hi</td>\n",
       "      <td>9.0</td>\n",
       "      <td>1.0</td>\n",
       "      <td>7.0</td>\n",
       "      <td>0.0</td>\n",
       "      <td>218235.0</td>\n",
       "      <td>TweetDeck</td>\n",
       "      <td></td>\n",
       "      <td>1</td>\n",
       "      <td>0</td>\n",
       "    </tr>\n",
       "    <tr>\n",
       "      <th>42</th>\n",
       "      <td>1.039760e+18</td>\n",
       "      <td>2022-06-10 13:21:56+00:00</td>\n",
       "      <td>['250246659', '3305343308', '90098179537345740...</td>\n",
       "      <td>['ProfKapilKumar', 'QasmiMufti', 'avanijeshDU'...</td>\n",
       "      <td>['Adi', 'NupurSharmaControversy', 'JamaMasjid'...</td>\n",
       "      <td>NaN</td>\n",
       "      <td>NaN</td>\n",
       "      <td>NaN</td>\n",
       "      <td>1.535251e+18</td>\n",
       "      <td>hi</td>\n",
       "      <td>37.0</td>\n",
       "      <td>2.0</td>\n",
       "      <td>6.0</td>\n",
       "      <td>11.0</td>\n",
       "      <td>218233.0</td>\n",
       "      <td>Twitter Media Studio - LiveCut</td>\n",
       "      <td></td>\n",
       "      <td>1</td>\n",
       "      <td>0</td>\n",
       "    </tr>\n",
       "    <tr>\n",
       "      <th>43</th>\n",
       "      <td>1.039760e+18</td>\n",
       "      <td>2022-06-10 13:19:16+00:00</td>\n",
       "      <td>['250246659', '3305343308', '90098179537345740...</td>\n",
       "      <td>['ProfKapilKumar', 'QasmiMufti', 'avanijeshDU'...</td>\n",
       "      <td>['Adi', 'NupurSharmaControversy', 'JamaMasjid'...</td>\n",
       "      <td>NaN</td>\n",
       "      <td>NaN</td>\n",
       "      <td>NaN</td>\n",
       "      <td>1.535250e+18</td>\n",
       "      <td>hi</td>\n",
       "      <td>15.0</td>\n",
       "      <td>0.0</td>\n",
       "      <td>1.0</td>\n",
       "      <td>5.0</td>\n",
       "      <td>218233.0</td>\n",
       "      <td>Twitter Media Studio - LiveCut</td>\n",
       "      <td></td>\n",
       "      <td>1</td>\n",
       "      <td>0</td>\n",
       "    </tr>\n",
       "    <tr>\n",
       "      <th>47</th>\n",
       "      <td>1.039760e+18</td>\n",
       "      <td>2022-06-10 13:14:16+00:00</td>\n",
       "      <td>['250246659', '3305343308', '90098179537345740...</td>\n",
       "      <td>['ProfKapilKumar', 'QasmiMufti', 'avanijeshDU'...</td>\n",
       "      <td>['Adi', 'NupurSharmaControversy', 'JamaMasjid'...</td>\n",
       "      <td>NaN</td>\n",
       "      <td>NaN</td>\n",
       "      <td>NaN</td>\n",
       "      <td>1.535249e+18</td>\n",
       "      <td>hi</td>\n",
       "      <td>10.0</td>\n",
       "      <td>0.0</td>\n",
       "      <td>1.0</td>\n",
       "      <td>3.0</td>\n",
       "      <td>218233.0</td>\n",
       "      <td>Twitter Media Studio - LiveCut</td>\n",
       "      <td></td>\n",
       "      <td>1</td>\n",
       "      <td>0</td>\n",
       "    </tr>\n",
       "    <tr>\n",
       "      <th>...</th>\n",
       "      <td>...</td>\n",
       "      <td>...</td>\n",
       "      <td>...</td>\n",
       "      <td>...</td>\n",
       "      <td>...</td>\n",
       "      <td>...</td>\n",
       "      <td>...</td>\n",
       "      <td>...</td>\n",
       "      <td>...</td>\n",
       "      <td>...</td>\n",
       "      <td>...</td>\n",
       "      <td>...</td>\n",
       "      <td>...</td>\n",
       "      <td>...</td>\n",
       "      <td>...</td>\n",
       "      <td>...</td>\n",
       "      <td>...</td>\n",
       "      <td>...</td>\n",
       "      <td>...</td>\n",
       "    </tr>\n",
       "    <tr>\n",
       "      <th>8971</th>\n",
       "      <td>1.338488e+18</td>\n",
       "      <td>2022-07-02 06:11:52+00:00</td>\n",
       "      <td>[]</td>\n",
       "      <td>[]</td>\n",
       "      <td>[]</td>\n",
       "      <td>NaN</td>\n",
       "      <td>NaN</td>\n",
       "      <td>NaN</td>\n",
       "      <td>1.543115e+18</td>\n",
       "      <td>qme</td>\n",
       "      <td>0.0</td>\n",
       "      <td>0.0</td>\n",
       "      <td>0.0</td>\n",
       "      <td>0.0</td>\n",
       "      <td>8788.0</td>\n",
       "      <td>Twitter Web App</td>\n",
       "      <td></td>\n",
       "      <td>0</td>\n",
       "      <td>0</td>\n",
       "    </tr>\n",
       "    <tr>\n",
       "      <th>8974</th>\n",
       "      <td>1.338488e+18</td>\n",
       "      <td>2022-07-07 12:32:22+00:00</td>\n",
       "      <td>['1469675106', '1207634475254865921', '1034742...</td>\n",
       "      <td>['BPPIND', 'PIBFactCheck', 'timesfactcheck', '...</td>\n",
       "      <td>[]</td>\n",
       "      <td>NaN</td>\n",
       "      <td>NaN</td>\n",
       "      <td>NaN</td>\n",
       "      <td>1.545023e+18</td>\n",
       "      <td>qme</td>\n",
       "      <td>1.0</td>\n",
       "      <td>1.0</td>\n",
       "      <td>0.0</td>\n",
       "      <td>1.0</td>\n",
       "      <td>8788.0</td>\n",
       "      <td>Twitter Web App</td>\n",
       "      <td></td>\n",
       "      <td>0</td>\n",
       "      <td>0</td>\n",
       "    </tr>\n",
       "    <tr>\n",
       "      <th>9136</th>\n",
       "      <td>1.338488e+18</td>\n",
       "      <td>2022-07-02 06:16:57+00:00</td>\n",
       "      <td>['1503977335329988608']</td>\n",
       "      <td>['beer_shishir']</td>\n",
       "      <td>[]</td>\n",
       "      <td>NaN</td>\n",
       "      <td>NaN</td>\n",
       "      <td>NaN</td>\n",
       "      <td>1.543116e+18</td>\n",
       "      <td>qme</td>\n",
       "      <td>0.0</td>\n",
       "      <td>0.0</td>\n",
       "      <td>0.0</td>\n",
       "      <td>0.0</td>\n",
       "      <td>8788.0</td>\n",
       "      <td>Twitter Web App</td>\n",
       "      <td></td>\n",
       "      <td>0</td>\n",
       "      <td>0</td>\n",
       "    </tr>\n",
       "    <tr>\n",
       "      <th>9138</th>\n",
       "      <td>1.338488e+18</td>\n",
       "      <td>2022-07-02 06:11:52+00:00</td>\n",
       "      <td>[]</td>\n",
       "      <td>[]</td>\n",
       "      <td>[]</td>\n",
       "      <td>NaN</td>\n",
       "      <td>NaN</td>\n",
       "      <td>NaN</td>\n",
       "      <td>1.543115e+18</td>\n",
       "      <td>qme</td>\n",
       "      <td>0.0</td>\n",
       "      <td>0.0</td>\n",
       "      <td>0.0</td>\n",
       "      <td>0.0</td>\n",
       "      <td>8788.0</td>\n",
       "      <td>Twitter Web App</td>\n",
       "      <td></td>\n",
       "      <td>0</td>\n",
       "      <td>0</td>\n",
       "    </tr>\n",
       "    <tr>\n",
       "      <th>9141</th>\n",
       "      <td>1.338488e+18</td>\n",
       "      <td>2022-07-07 12:32:22+00:00</td>\n",
       "      <td>['1469675106', '1207634475254865921', '1034742...</td>\n",
       "      <td>['BPPIND', 'PIBFactCheck', 'timesfactcheck', '...</td>\n",
       "      <td>[]</td>\n",
       "      <td>NaN</td>\n",
       "      <td>NaN</td>\n",
       "      <td>NaN</td>\n",
       "      <td>1.545023e+18</td>\n",
       "      <td>qme</td>\n",
       "      <td>1.0</td>\n",
       "      <td>1.0</td>\n",
       "      <td>0.0</td>\n",
       "      <td>1.0</td>\n",
       "      <td>8788.0</td>\n",
       "      <td>Twitter Web App</td>\n",
       "      <td></td>\n",
       "      <td>0</td>\n",
       "      <td>0</td>\n",
       "    </tr>\n",
       "  </tbody>\n",
       "</table>\n",
       "<p>2544 rows × 19 columns</p>\n",
       "</div>"
      ],
      "text/plain": [
       "         author id                 created_at  \\\n",
       "32    1.039760e+18  2022-06-07 15:08:01+00:00   \n",
       "40    1.039760e+18  2022-06-09 04:50:20+00:00   \n",
       "42    1.039760e+18  2022-06-10 13:21:56+00:00   \n",
       "43    1.039760e+18  2022-06-10 13:19:16+00:00   \n",
       "47    1.039760e+18  2022-06-10 13:14:16+00:00   \n",
       "...            ...                        ...   \n",
       "8971  1.338488e+18  2022-07-02 06:11:52+00:00   \n",
       "8974  1.338488e+18  2022-07-07 12:32:22+00:00   \n",
       "9136  1.338488e+18  2022-07-02 06:16:57+00:00   \n",
       "9138  1.338488e+18  2022-07-02 06:11:52+00:00   \n",
       "9141  1.338488e+18  2022-07-07 12:32:22+00:00   \n",
       "\n",
       "                                            mentions_id  \\\n",
       "32                                                   []   \n",
       "40                                                   []   \n",
       "42    ['250246659', '3305343308', '90098179537345740...   \n",
       "43    ['250246659', '3305343308', '90098179537345740...   \n",
       "47    ['250246659', '3305343308', '90098179537345740...   \n",
       "...                                                 ...   \n",
       "8971                                                 []   \n",
       "8974  ['1469675106', '1207634475254865921', '1034742...   \n",
       "9136                            ['1503977335329988608']   \n",
       "9138                                                 []   \n",
       "9141  ['1469675106', '1207634475254865921', '1034742...   \n",
       "\n",
       "                                      mentions_username  \\\n",
       "32                                                   []   \n",
       "40                                                   []   \n",
       "42    ['ProfKapilKumar', 'QasmiMufti', 'avanijeshDU'...   \n",
       "43    ['ProfKapilKumar', 'QasmiMufti', 'avanijeshDU'...   \n",
       "47    ['ProfKapilKumar', 'QasmiMufti', 'avanijeshDU'...   \n",
       "...                                                 ...   \n",
       "8971                                                 []   \n",
       "8974  ['BPPIND', 'PIBFactCheck', 'timesfactcheck', '...   \n",
       "9136                                   ['beer_shishir']   \n",
       "9138                                                 []   \n",
       "9141  ['BPPIND', 'PIBFactCheck', 'timesfactcheck', '...   \n",
       "\n",
       "                                               hashtags  geo  longitude  \\\n",
       "32            ['News', 'LatestNews', 'ProphetMuhammad']  NaN        NaN   \n",
       "40           ['ProphetMuhammad', 'NupurSharma', 'AMuS']  NaN        NaN   \n",
       "42    ['Adi', 'NupurSharmaControversy', 'JamaMasjid'...  NaN        NaN   \n",
       "43    ['Adi', 'NupurSharmaControversy', 'JamaMasjid'...  NaN        NaN   \n",
       "47    ['Adi', 'NupurSharmaControversy', 'JamaMasjid'...  NaN        NaN   \n",
       "...                                                 ...  ...        ...   \n",
       "8971                                                 []  NaN        NaN   \n",
       "8974                                                 []  NaN        NaN   \n",
       "9136                                                 []  NaN        NaN   \n",
       "9138                                                 []  NaN        NaN   \n",
       "9141                                                 []  NaN        NaN   \n",
       "\n",
       "      latitude            id lang  like_count  quote_count  reply_count  \\\n",
       "32         NaN  1.534190e+18   hi         9.0          0.0          3.0   \n",
       "40         NaN  1.534760e+18   hi         9.0          1.0          7.0   \n",
       "42         NaN  1.535251e+18   hi        37.0          2.0          6.0   \n",
       "43         NaN  1.535250e+18   hi        15.0          0.0          1.0   \n",
       "47         NaN  1.535249e+18   hi        10.0          0.0          1.0   \n",
       "...        ...           ...  ...         ...          ...          ...   \n",
       "8971       NaN  1.543115e+18  qme         0.0          0.0          0.0   \n",
       "8974       NaN  1.545023e+18  qme         1.0          1.0          0.0   \n",
       "9136       NaN  1.543116e+18  qme         0.0          0.0          0.0   \n",
       "9138       NaN  1.543115e+18  qme         0.0          0.0          0.0   \n",
       "9141       NaN  1.545023e+18  qme         1.0          1.0          0.0   \n",
       "\n",
       "      retweet_count  follower_count                          source tweet  \\\n",
       "32              0.0        218233.0                       TweetDeck         \n",
       "40              0.0        218235.0                       TweetDeck         \n",
       "42             11.0        218233.0  Twitter Media Studio - LiveCut         \n",
       "43              5.0        218233.0  Twitter Media Studio - LiveCut         \n",
       "47              3.0        218233.0  Twitter Media Studio - LiveCut         \n",
       "...             ...             ...                             ...   ...   \n",
       "8971            0.0          8788.0                 Twitter Web App         \n",
       "8974            1.0          8788.0                 Twitter Web App         \n",
       "9136            0.0          8788.0                 Twitter Web App         \n",
       "9138            0.0          8788.0                 Twitter Web App         \n",
       "9141            1.0          8788.0                 Twitter Web App         \n",
       "\n",
       "      target  no_of_sent  \n",
       "32         1           0  \n",
       "40         1           0  \n",
       "42         1           0  \n",
       "43         1           0  \n",
       "47         1           0  \n",
       "...      ...         ...  \n",
       "8971       0           0  \n",
       "8974       0           0  \n",
       "9136       0           0  \n",
       "9138       0           0  \n",
       "9141       0           0  \n",
       "\n",
       "[2544 rows x 19 columns]"
      ]
     },
     "execution_count": 36,
     "metadata": {},
     "output_type": "execute_result"
    }
   ],
   "source": [
    "df[df['no_of_sent']==0]"
   ]
  },
  {
   "cell_type": "code",
   "execution_count": 37,
   "id": "1debf5bf",
   "metadata": {},
   "outputs": [],
   "source": [
    "import networkx as nx\n",
    "\n",
    "__all__ = [\"convert_node_labels_to_integers\", \"relabel_nodes\"]\n",
    "\n",
    "def relabel_nodes(G, mapping, copy=True):\n",
    "    m = {n: mapping(n) for n in G} if callable(mapping) else mapping\n",
    "\n",
    "    if copy:\n",
    "        return _relabel_copy(G, m)\n",
    "    else:\n",
    "        return _relabel_inplace(G, m)\n",
    "\n",
    "\n",
    "\n",
    "def _relabel_inplace(G, mapping):\n",
    "    if len(mapping.keys() & mapping.values()) > 0:\n",
    "        # labels sets overlap\n",
    "        # can we topological sort and still do the relabeling?\n",
    "        D = nx.DiGraph(list(mapping.items()))\n",
    "        D.remove_edges_from(nx.selfloop_edges(D))\n",
    "        try:\n",
    "            nodes = reversed(list(nx.topological_sort(D)))\n",
    "        except nx.NetworkXUnfeasible as err:\n",
    "            raise nx.NetworkXUnfeasible(\n",
    "            ) from err\n",
    "    else:\n",
    "        # non-overlapping label sets, sort them in the order of G nodes\n",
    "        nodes = [n for n in G if n in mapping]\n",
    "\n",
    "    multigraph = G.is_multigraph()\n",
    "    directed = G.is_directed()\n",
    "\n",
    "    for old in nodes:\n",
    "        # Test that old is in both mapping and G, otherwise ignore.\n",
    "        try:\n",
    "            new = mapping[old]\n",
    "            G.add_node(new, **G.nodes[old])\n",
    "        except KeyError:\n",
    "            continue\n",
    "        if new == old:\n",
    "            continue\n",
    "        if multigraph:\n",
    "            new_edges = [\n",
    "                (new, new if old == target else target, key, data)\n",
    "                for (_, target, key, data) in G.edges(old, data=True, keys=True)\n",
    "            ]\n",
    "            if directed:\n",
    "                new_edges += [\n",
    "                    (new if old == source else source, new, key, data)\n",
    "                    for (source, _, key, data) in G.in_edges(old, data=True, keys=True)\n",
    "                ]\n",
    "            # Ensure new edges won't overwrite existing ones\n",
    "            seen = set()\n",
    "            for i, (source, target, key, data) in enumerate(new_edges):\n",
    "                if target in G[source] and key in G[source][target]:\n",
    "                    new_key = 0 if not isinstance(key, (int, float)) else key\n",
    "                    while new_key in G[source][target] or (target, new_key) in seen:\n",
    "                        new_key += 1\n",
    "                    new_edges[i] = (source, target, new_key, data)\n",
    "                    seen.add((target, new_key))\n",
    "        else:\n",
    "            new_edges = [\n",
    "                (new, new if old == target else target, data)\n",
    "                for (_, target, data) in G.edges(old, data=True)\n",
    "            ]\n",
    "            if directed:\n",
    "                new_edges += [\n",
    "                    (new if old == source else source, new, data)\n",
    "                    for (source, _, data) in G.in_edges(old, data=True)\n",
    "                ]\n",
    "        G.remove_node(old)\n",
    "        G.add_edges_from(new_edges)\n",
    "    return G\n",
    "\n",
    "\n",
    "def _relabel_copy(G, mapping):\n",
    "    H = G.__class__()\n",
    "    H.add_nodes_from(mapping.get(n, n) for n in G)\n",
    "    H._node.update((mapping.get(n, n), d.copy()) for n, d in G.nodes.items())\n",
    "    if G.is_multigraph():\n",
    "        new_edges = [\n",
    "            (mapping.get(n1, n1), mapping.get(n2, n2), k, d.copy())\n",
    "            for (n1, n2, k, d) in G.edges(keys=True, data=True)\n",
    "        ]\n",
    "\n",
    "        # check for conflicting edge-keys\n",
    "        undirected = not G.is_directed()\n",
    "        seen_edges = set()\n",
    "        for i, (source, target, key, data) in enumerate(new_edges):\n",
    "            while (source, target, key) in seen_edges:\n",
    "                if not isinstance(key, (int, float)):\n",
    "                    key = 0\n",
    "                key += 1\n",
    "            seen_edges.add((source, target, key))\n",
    "            if undirected:\n",
    "                seen_edges.add((target, source, key))\n",
    "            new_edges[i] = (source, target, key, data)\n",
    "\n",
    "        H.add_edges_from(new_edges)\n",
    "    else:\n",
    "        H.add_edges_from(\n",
    "            (mapping.get(n1, n1), mapping.get(n2, n2), d.copy())\n",
    "            for (n1, n2, d) in G.edges(data=True)\n",
    "        )\n",
    "    H.graph.update(G.graph)\n",
    "    return H\n",
    "\n",
    "\n",
    "def convert_node_labels_to_integers(\n",
    "    G, first_label=0, ordering=\"default\", label_attribute=None\n",
    "):\n",
    "    N = G.number_of_nodes() + first_label\n",
    "    if ordering == \"default\":\n",
    "        mapping = dict(zip(G.nodes(), range(first_label, N)))\n",
    "    elif ordering == \"sorted\":\n",
    "        nlist = sorted(G.nodes())\n",
    "        mapping = dict(zip(nlist, range(first_label, N)))\n",
    "    elif ordering == \"increasing degree\":\n",
    "        dv_pairs = [(d, n) for (n, d) in G.degree()]\n",
    "        dv_pairs.sort()  # in-place sort from lowest to highest degree\n",
    "        mapping = dict(zip([n for d, n in dv_pairs], range(first_label, N)))\n",
    "    elif ordering == \"decreasing degree\":\n",
    "        dv_pairs = [(d, n) for (n, d) in G.degree()]\n",
    "        dv_pairs.sort()  # in-place sort from lowest to highest degree\n",
    "        dv_pairs.reverse()\n",
    "        mapping = dict(zip([n for d, n in dv_pairs], range(first_label, N)))\n",
    "    else:\n",
    "        raise nx.NetworkXError(f\"Unknown node ordering: {ordering}\")\n",
    "    H = relabel_nodes(G, mapping)\n",
    "    # create node attribute with the old label\n",
    "    if label_attribute is not None:\n",
    "        nx.set_node_attributes(H, {v: k for k, v in mapping.items()}, label_attribute)\n",
    "    return H\n"
   ]
  },
  {
   "cell_type": "code",
   "execution_count": 14,
   "id": "ef1c24d6",
   "metadata": {},
   "outputs": [],
   "source": [
    "import networkx as nx\n",
    "import penman\n",
    "from karateclub import Graph2Vec\n",
    "from karateclub import GL2Vec\n",
    "from karateclub import Node2Vec"
   ]
  },
  {
   "cell_type": "code",
   "execution_count": 41,
   "id": "559a2556",
   "metadata": {},
   "outputs": [],
   "source": [
    "sent=[]\n",
    "for i in range(10):\n",
    "    for j in sent_tokenize(df['tweet'][i]):\n",
    "        sent.append(j)"
   ]
  },
  {
   "cell_type": "code",
   "execution_count": 42,
   "id": "69287f09",
   "metadata": {},
   "outputs": [
    {
     "data": {
      "text/plain": [
       "['Delhi: The dome of the Jama Masjid damaged after thunderstorms and heavy rains damage to the tower.',\n",
       " 'Death of a person',\n",
       " 'The most elevated symbol of the Mughalia era is Jama Masjid where Maulana Azad and Swami Shraddhanand gave the argument',\n",
       " 'What is the story behind Nupur Sharmas suspension from BJP and Naveen Jindals dismissal?',\n",
       " 'After BJPs action Nupur Sharma expressed regret over his statement said could not tolerate insult to Mahadev',\n",
       " 'Who are BJP spokesperson Nupur Sharma and Naveen Jindal who suspended the party after commenting on Prophet Mohammed?',\n",
       " 'BJP spokesperson Nupur Sharma and Naveen Jindal suspended for commenting on Prophet Mohammed',\n",
       " 'Agnipath Scheme: Information about Agneepath scheme given to PM Modi top military officials told how the scheme will work',\n",
       " 'Why do the Arab countries who flares up on Nupur Sharmas statement do not peek in their own Giriban?',\n",
       " 'Prophet Mohammad comment dispute Pakistans entry in charge of Indian High Commission summoned',\n",
       " 'Remarks on Prophet Muhammad: Rahul Gandhis attack on BJP said shameful bigotry damaged Indias image']"
      ]
     },
     "execution_count": 42,
     "metadata": {},
     "output_type": "execute_result"
    }
   ],
   "source": [
    "sent"
   ]
  },
  {
   "cell_type": "code",
   "execution_count": 43,
   "id": "4e610d20",
   "metadata": {},
   "outputs": [],
   "source": [
    "graphs=stog.parse_sents(sent)"
   ]
  },
  {
   "cell_type": "code",
   "execution_count": 75,
   "id": "7fb26aa5",
   "metadata": {},
   "outputs": [],
   "source": [
    "import penman\n",
    "import networkx as nx\n",
    "\n",
    "# Define a function to extract nodes and edges from an AMR graph\n",
    "def extract_graph(amr):\n",
    "    nodes = {}\n",
    "    edges = []\n",
    "    for triple in amr.triples:\n",
    "        if triple[1] == ':instance':\n",
    "            nodes[triple[2]] = triple[0]\n",
    "        elif triple[1].startswith(':'):\n",
    "            edges.append((triple[0], triple[1][1:], triple[2]))\n",
    "        elif triple[1] == 'TOP':\n",
    "            pass\n",
    "        else:\n",
    "            nodes[triple[0]][triple[1]] = triple[2]\n",
    "    return nodes, edges\n",
    "\n",
    "# Define a function to merge multiple AMR graphs into a single knowledge graph\n",
    "def merge_graphs(graphs):\n",
    "    merged_nodes = {}\n",
    "    merged_edges = []\n",
    "    for nodes, edges in graphs:\n",
    "        for node_id, node_data in nodes.items():\n",
    "            if node_id not in merged_nodes:\n",
    "                merged_nodes[node_id] = node_data\n",
    "#                 merged_nodes[node_id] = node_data\n",
    "#             else:\n",
    "#                 merged_nodes[node_id].update(node_data)\n",
    "        merged_edges.extend(edges)\n",
    "    return merged_nodes, merged_edges\n",
    "\n"
   ]
  },
  {
   "cell_type": "code",
   "execution_count": 76,
   "id": "8bb35c7e",
   "metadata": {},
   "outputs": [],
   "source": [
    "single_graph_lst=[]\n",
    "for graph in graphs:\n",
    "    amr = penman.decode(graph)\n",
    "    nodes, edges = extract_graph(amr)\n",
    "    single_graph_lst.append((nodes,edges))"
   ]
  },
  {
   "cell_type": "code",
   "execution_count": 77,
   "id": "0f166d88",
   "metadata": {},
   "outputs": [],
   "source": [
    "merged_nodes, merged_edges = merge_graphs(single_graph_lst)"
   ]
  },
  {
   "cell_type": "code",
   "execution_count": 2,
   "id": "94b192c0",
   "metadata": {
    "tags": []
   },
   "outputs": [],
   "source": [
    "# Create a NetworkX graph from the merged nodes and edges\n",
    "graph = nx.Graph()\n",
    "for node_id, node_data in merged_nodes.items():\n",
    "    graph.add_node(node_id, **node_data)\n",
    "for source, relation, target in merged_edges:\n",
    "    graph.add_edge(source, target, label=relation)"
   ]
  },
  {
   "cell_type": "code",
   "execution_count": 16,
   "id": "ccd66394",
   "metadata": {},
   "outputs": [],
   "source": [
    "graphs_list=[]"
   ]
  },
  {
   "cell_type": "code",
   "execution_count": 17,
   "id": "18020b65",
   "metadata": {},
   "outputs": [
    {
     "name": "stdout",
     "output_type": "stream",
     "text": [
      "9309\n"
     ]
    }
   ],
   "source": [
    "print(len(df))"
   ]
  },
  {
   "cell_type": "code",
   "execution_count": 18,
   "id": "b617293a",
   "metadata": {},
   "outputs": [],
   "source": [
    "# for i in range(100):\n",
    "#     print(i)\n",
    "#     sents = sent_tokenize(df['tweet'][i])\n",
    "#     if len(sents)>0:\n",
    "#         for j  in  range(len(sents)):\n",
    "#             #print(len(graphs))\n",
    "#             graphs=stog.parse_sents([sents[j]])\n",
    "#             gph = nx.Graph()\n",
    "#             #print(graphs[j])\n",
    "#             g = penman.decode(graphs[0])\n",
    "#             if len(g.edges())>0:\n",
    "#                 for i in range(len(g.edges())):\n",
    "#                     gph.add_edges_from([(g.edges()[i][0],g.edges()[i][2])])\n",
    "#                 gph=convert_node_labels_to_integers(gph, first_label=0, ordering='default', label_attribute=None)\n",
    "#                 graphs_list.append(gph)\n",
    "#                 #print(graphs_list)\n",
    "#             else:\n",
    "#                 print('list is empty')\n",
    "#                 graphs_list.append(gph)\n",
    "                \n",
    "#     else:\n",
    "#         gph = nx.Graph()\n",
    "#         print('list is empty')\n",
    "#         graphs_list.append(gph)\n",
    "\n"
   ]
  },
  {
   "cell_type": "code",
   "execution_count": 19,
   "id": "0aa3f3cd",
   "metadata": {},
   "outputs": [],
   "source": [
    "\n",
    "# with open('fake_amr_graph_lst.pkl', 'wb') as f:\n",
    "#        pickle.dump(graphs_list, f)"
   ]
  },
  {
   "cell_type": "code",
   "execution_count": 18,
   "id": "dbaa855d",
   "metadata": {},
   "outputs": [],
   "source": [
    "with open('fake_amr_graph_lst.pkl', 'rb') as f:\n",
    "    graphs_list = pickle.load(f)"
   ]
  },
  {
   "cell_type": "code",
   "execution_count": 26,
   "id": "e04f0c5f",
   "metadata": {},
   "outputs": [
    {
     "data": {
      "text/plain": [
       "11618"
      ]
     },
     "execution_count": 26,
     "metadata": {},
     "output_type": "execute_result"
    }
   ],
   "source": [
    "len(g2ve)"
   ]
  },
  {
   "cell_type": "code",
   "execution_count": 25,
   "id": "57f15b3a",
   "metadata": {},
   "outputs": [],
   "source": [
    "model = Graph2Vec(dimensions=200)\n",
    "model.fit(graphs_list)\n",
    "g2ve=model.get_embedding()"
   ]
  },
  {
   "cell_type": "code",
   "execution_count": 129,
   "id": "96ecebc0",
   "metadata": {},
   "outputs": [],
   "source": [
    "model = GL2Vec(dimensions=500)\n",
    "model.fit(graphs_list)\n",
    "gl2ve=model.get_embedding()"
   ]
  },
  {
   "cell_type": "code",
   "execution_count": 152,
   "id": "661a5653",
   "metadata": {},
   "outputs": [
    {
     "data": {
      "text/plain": [
       "16"
      ]
     },
     "execution_count": 152,
     "metadata": {},
     "output_type": "execute_result"
    }
   ],
   "source": [
    "graphs_list[0].number_of_nodes()"
   ]
  },
  {
   "cell_type": "code",
   "execution_count": 153,
   "id": "797fb63b",
   "metadata": {},
   "outputs": [],
   "source": [
    "model = Node2Vec()\n",
    "model.fit(graphs_list[0])\n",
    "n2ve=model.get_embedding()"
   ]
  },
  {
   "cell_type": "code",
   "execution_count": 156,
   "id": "4902c5f0",
   "metadata": {},
   "outputs": [
    {
     "data": {
      "text/plain": [
       "16"
      ]
     },
     "execution_count": 156,
     "metadata": {},
     "output_type": "execute_result"
    }
   ],
   "source": [
    "graphs_list[0].number_of_nodes()"
   ]
  },
  {
   "cell_type": "code",
   "execution_count": 38,
   "id": "e4318ff5",
   "metadata": {},
   "outputs": [],
   "source": [
    "for i in (df[df['no_of_sent']>1].index):\n",
    "    g2ve[i]=np.mean(g2ve[i:i+df['no_of_sent'][i]],axis=0)\n",
    "    g2ve=np.delete(g2ve,np.arange(i+1,i+df['no_of_sent'][i]),axis=0)\n",
    "    "
   ]
  },
  {
   "cell_type": "code",
   "execution_count": 132,
   "id": "169c2362",
   "metadata": {},
   "outputs": [],
   "source": [
    "for i in (df[df['no_of_sent']>1].index):\n",
    "    gl2ve[i]=np.mean(gl2ve[i:i+df['no_of_sent'][i]],axis=0)\n",
    "    gl2ve=np.delete(gl2ve,np.arange(i+1,i+df['no_of_sent'][i]),axis=0)\n",
    "    "
   ]
  },
  {
   "cell_type": "code",
   "execution_count": 88,
   "id": "51a48766",
   "metadata": {},
   "outputs": [
    {
     "data": {
      "text/plain": [
       "9309"
      ]
     },
     "execution_count": 88,
     "metadata": {},
     "output_type": "execute_result"
    }
   ],
   "source": [
    "len(gl2ve)"
   ]
  },
  {
   "cell_type": "code",
   "execution_count": 47,
   "id": "598962e7",
   "metadata": {},
   "outputs": [],
   "source": [
    "#tweet=['His grandmother looked after him. He was looked after by his grandmother.','They will send him away to school.He will be sent away to school.']"
   ]
  },
  {
   "cell_type": "markdown",
   "id": "33c666fb",
   "metadata": {},
   "source": [
    "# TFIDF"
   ]
  },
  {
   "cell_type": "code",
   "execution_count": 146,
   "id": "ce46d887",
   "metadata": {},
   "outputs": [],
   "source": [
    "from sklearn.feature_extraction.text import TfidfVectorizer\n",
    "from nltk.corpus import stopwords\n",
    "stop_words = set(stopwords.words(\"english\"))\n",
    "sklearn_tfidf = TfidfVectorizer(max_features=128,stop_words=stop_words)\n",
    "text_tfidf = sklearn_tfidf.fit_transform(df[\"tweet\"])"
   ]
  },
  {
   "cell_type": "code",
   "execution_count": 147,
   "id": "431cb090",
   "metadata": {},
   "outputs": [],
   "source": [
    "y_final=np.array(df['target'])"
   ]
  },
  {
   "cell_type": "code",
   "execution_count": 148,
   "id": "a62acaeb",
   "metadata": {},
   "outputs": [],
   "source": [
    "# Modelling Helpers\n",
    "from sklearn.model_selection import train_test_split\n",
    "# Dividing the training set by using train_test_split\n",
    "X_train, X_test, y_train, y_test = train_test_split(text_tfidf.toarray(), y_final, test_size=0.20, random_state=0)"
   ]
  },
  {
   "cell_type": "code",
   "execution_count": 149,
   "id": "89286106",
   "metadata": {},
   "outputs": [
    {
     "name": "stdout",
     "output_type": "stream",
     "text": [
      "0.8533834586466166\n"
     ]
    }
   ],
   "source": [
    "from sklearn.linear_model import LogisticRegression\n",
    "from sklearn import metrics\n",
    "#Logistic Regression with CountVectorizer\n",
    "logreg = LogisticRegression(solver='lbfgs', max_iter=1000)\n",
    "logreg.fit(X_train, y_train)\n",
    "pred_logreg_tfidf = logreg.predict(X_test)\n",
    "acc_logreg_tfidf = metrics.accuracy_score(y_test,pred_logreg_tfidf)\n",
    "print(acc_logreg_tfidf)"
   ]
  },
  {
   "cell_type": "markdown",
   "id": "74872815",
   "metadata": {},
   "source": [
    "# Semantic "
   ]
  },
  {
   "cell_type": "code",
   "execution_count": 138,
   "id": "b5bc468a",
   "metadata": {},
   "outputs": [],
   "source": [
    "# Modelling Helpers\n",
    "from sklearn.model_selection import train_test_split\n",
    "# Dividing the training set by using train_test_split\n",
    "X_train, X_test, y_train, y_test = train_test_split(gl2ve, y_final, test_size=0.20, random_state=0)"
   ]
  },
  {
   "cell_type": "code",
   "execution_count": 139,
   "id": "c605081e",
   "metadata": {},
   "outputs": [
    {
     "name": "stdout",
     "output_type": "stream",
     "text": [
      "0.7261009667024705\n"
     ]
    }
   ],
   "source": [
    "from sklearn.linear_model import LogisticRegression\n",
    "from sklearn import metrics\n",
    "#Logistic Regression with CountVectorizer\n",
    "logreg = LogisticRegression(solver='lbfgs', max_iter=1000)\n",
    "logreg.fit(X_train, y_train)\n",
    "pred_logreg_tfidf = logreg.predict(X_test)\n",
    "acc_logreg_tfidf = metrics.accuracy_score(y_test,pred_logreg_tfidf)\n",
    "print(acc_logreg_tfidf)"
   ]
  },
  {
   "cell_type": "markdown",
   "id": "37eda2e2",
   "metadata": {},
   "source": [
    "# Syntactic + Semantic"
   ]
  },
  {
   "cell_type": "code",
   "execution_count": 143,
   "id": "d150f3ec",
   "metadata": {},
   "outputs": [],
   "source": [
    "ssvec = np.concatenate((text_tfidf.toarray(), gl2ve), axis=1)#[text_tfidf[i].extend(g2ve[i]) for i in range(len(g2ve))]"
   ]
  },
  {
   "cell_type": "code",
   "execution_count": 144,
   "id": "f42a5572",
   "metadata": {},
   "outputs": [],
   "source": [
    "# Modelling Helpers\n",
    "from sklearn.model_selection import train_test_split\n",
    "# Dividing the training set by using train_test_split\n",
    "X_train, X_test, y_train, y_test = train_test_split(ssvec, y_final, test_size=0.20, random_state=0)"
   ]
  },
  {
   "cell_type": "code",
   "execution_count": 145,
   "id": "7bd881f2",
   "metadata": {},
   "outputs": [
    {
     "name": "stdout",
     "output_type": "stream",
     "text": [
      "0.8576799140708915\n"
     ]
    }
   ],
   "source": [
    "from sklearn.linear_model import LogisticRegression\n",
    "from sklearn import metrics\n",
    "#Logistic Regression with CountVectorizer\n",
    "logreg = LogisticRegression(solver='lbfgs', max_iter=1000)\n",
    "logreg.fit(X_train, y_train)\n",
    "pred_logreg_tfidf = logreg.predict(X_test)\n",
    "acc_logreg_tfidf = metrics.accuracy_score(y_test,pred_logreg_tfidf)\n",
    "print(acc_logreg_tfidf)"
   ]
  },
  {
   "cell_type": "code",
   "execution_count": null,
   "id": "2bf1300f",
   "metadata": {},
   "outputs": [],
   "source": []
  }
 ],
 "metadata": {
  "kernelspec": {
   "display_name": "Python 3 (ipykernel)",
   "language": "python",
   "name": "python3"
  },
  "language_info": {
   "codemirror_mode": {
    "name": "ipython",
    "version": 3
   },
   "file_extension": ".py",
   "mimetype": "text/x-python",
   "name": "python",
   "nbconvert_exporter": "python",
   "pygments_lexer": "ipython3",
   "version": "3.9.7"
  }
 },
 "nbformat": 4,
 "nbformat_minor": 5
}
