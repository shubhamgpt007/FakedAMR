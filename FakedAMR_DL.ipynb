{
 "cells": [
  {
   "cell_type": "code",
   "execution_count": 1,
   "id": "c00b3a3a",
   "metadata": {},
   "outputs": [
    {
     "name": "stderr",
     "output_type": "stream",
     "text": [
      "/DATA/gupta37/.local/lib/python3.7/site-packages/pandas/compat/_optional.py:138: UserWarning: Pandas requires version '2.7.0' or newer of 'numexpr' (version '2.6.9' currently installed).\n",
      "  warnings.warn(msg, UserWarning)\n",
      "2023-07-05 17:37:12.846194: I tensorflow/core/platform/cpu_feature_guard.cc:193] This TensorFlow binary is optimized with oneAPI Deep Neural Network Library (oneDNN) to use the following CPU instructions in performance-critical operations:  AVX2 FMA\n",
      "To enable them in other operations, rebuild TensorFlow with the appropriate compiler flags.\n",
      "2023-07-05 17:37:13.023140: W tensorflow/compiler/xla/stream_executor/platform/default/dso_loader.cc:64] Could not load dynamic library 'libcudart.so.11.0'; dlerror: libcudart.so.11.0: cannot open shared object file: No such file or directory\n",
      "2023-07-05 17:37:13.023183: I tensorflow/compiler/xla/stream_executor/cuda/cudart_stub.cc:29] Ignore above cudart dlerror if you do not have a GPU set up on your machine.\n",
      "2023-07-05 17:37:13.941440: W tensorflow/compiler/xla/stream_executor/platform/default/dso_loader.cc:64] Could not load dynamic library 'libnvinfer.so.7'; dlerror: libnvinfer.so.7: cannot open shared object file: No such file or directory\n",
      "2023-07-05 17:37:13.941561: W tensorflow/compiler/xla/stream_executor/platform/default/dso_loader.cc:64] Could not load dynamic library 'libnvinfer_plugin.so.7'; dlerror: libnvinfer_plugin.so.7: cannot open shared object file: No such file or directory\n",
      "2023-07-05 17:37:13.941574: W tensorflow/compiler/tf2tensorrt/utils/py_utils.cc:38] TF-TRT Warning: Cannot dlopen some TensorRT libraries. If you would like to use Nvidia GPU with TensorRT, please make sure the missing libraries mentioned above are installed properly.\n"
     ]
    }
   ],
   "source": [
    "import numpy as np\n",
    "import pandas as pd\n",
    "import seaborn as sns\n",
    "import matplotlib.pyplot as plt\n",
    "import nltk\n",
    "from nltk.tokenize import sent_tokenize\n",
    "from sklearn.preprocessing import LabelBinarizer\n",
    "from nltk.corpus import stopwords\n",
    "from nltk.stem.porter import PorterStemmer\n",
    "from wordcloud import WordCloud,STOPWORDS\n",
    "from nltk.stem import WordNetLemmatizer\n",
    "from nltk.tokenize import word_tokenize,sent_tokenize\n",
    "from bs4 import BeautifulSoup\n",
    "import re,string,unicodedata\n",
    "from keras_preprocessing import text, sequence\n",
    "from sklearn.metrics import classification_report,confusion_matrix,accuracy_score\n",
    "from sklearn.model_selection import train_test_split\n",
    "from string import punctuation\n",
    "from nltk import pos_tag\n",
    "from nltk.corpus import wordnet\n",
    "import keras\n",
    "from keras.models import Sequential, Model\n",
    "from keras.layers import Dense,Embedding,LSTM,Dropout,Conv1D,MaxPooling1D, Input, Concatenate, Reshape, Bidirectional,Flatten\n",
    "from keras.callbacks import ReduceLROnPlateau, EarlyStopping\n",
    "import tensorflow as tf\n",
    "import pickle\n",
    "import networkx as nx\n",
    "import penman\n",
    "from karateclub import Graph2Vec"
   ]
  },
  {
   "cell_type": "code",
   "execution_count": 2,
   "id": "95c41a9c",
   "metadata": {},
   "outputs": [],
   "source": [
    "train_df=pd.read_csv(r'./covid_dataset/Constraint_English_Train - Sheet1.csv')\n",
    "dev_df=pd.read_csv(r'./covid_dataset/Constraint_English_Val - Sheet1.csv')\n",
    "test_df=pd.read_csv(r'./covid_dataset/english_test_with_labels - Sheet1.csv')\n"
   ]
  },
  {
   "cell_type": "code",
   "execution_count": 3,
   "id": "8875beac",
   "metadata": {},
   "outputs": [],
   "source": [
    "# Concatenate the dataframes vertically\n",
    "df = pd.concat([train_df, dev_df, test_df], axis=0)\n",
    "\n",
    "# Reset the index of the combined dataframe\n",
    "df.reset_index(drop=True, inplace=True)"
   ]
  },
  {
   "cell_type": "code",
   "execution_count": 4,
   "id": "2421dd01",
   "metadata": {},
   "outputs": [],
   "source": [
    "df['label'] = df['label'].replace({'real': 1, 'fake': 0})"
   ]
  },
  {
   "cell_type": "code",
   "execution_count": 5,
   "id": "0198a9a2",
   "metadata": {},
   "outputs": [],
   "source": [
    "df['tweet']= df['tweet'].apply(lambda x: re.sub(r'[\\n\\r;@#~.!\"()%]|http[s]?://\\S+|', '', x))"
   ]
  },
  {
   "cell_type": "code",
   "execution_count": 6,
   "id": "dc02e2e4",
   "metadata": {},
   "outputs": [
    {
     "data": {
      "text/plain": [
       "10700"
      ]
     },
     "execution_count": 6,
     "metadata": {},
     "output_type": "execute_result"
    }
   ],
   "source": [
    "len(df)"
   ]
  },
  {
   "cell_type": "code",
   "execution_count": 7,
   "id": "82ed7306",
   "metadata": {},
   "outputs": [],
   "source": [
    "df['no_of_sent']= df['tweet'].apply(lambda x: len(sent_tokenize(x)))"
   ]
  },
  {
   "cell_type": "code",
   "execution_count": 8,
   "id": "e94d83d1",
   "metadata": {},
   "outputs": [
    {
     "data": {
      "text/html": [
       "<div>\n",
       "<style scoped>\n",
       "    .dataframe tbody tr th:only-of-type {\n",
       "        vertical-align: middle;\n",
       "    }\n",
       "\n",
       "    .dataframe tbody tr th {\n",
       "        vertical-align: top;\n",
       "    }\n",
       "\n",
       "    .dataframe thead th {\n",
       "        text-align: right;\n",
       "    }\n",
       "</style>\n",
       "<table border=\"1\" class=\"dataframe\">\n",
       "  <thead>\n",
       "    <tr style=\"text-align: right;\">\n",
       "      <th></th>\n",
       "      <th>id</th>\n",
       "      <th>tweet</th>\n",
       "      <th>label</th>\n",
       "      <th>no_of_sent</th>\n",
       "    </tr>\n",
       "  </thead>\n",
       "  <tbody>\n",
       "    <tr>\n",
       "      <th>0</th>\n",
       "      <td>1</td>\n",
       "      <td>The CDC currently reports 99031 deaths In gene...</td>\n",
       "      <td>1</td>\n",
       "      <td>1</td>\n",
       "    </tr>\n",
       "    <tr>\n",
       "      <th>1</th>\n",
       "      <td>2</td>\n",
       "      <td>States reported 1121 deaths a small rise from ...</td>\n",
       "      <td>1</td>\n",
       "      <td>1</td>\n",
       "    </tr>\n",
       "    <tr>\n",
       "      <th>3</th>\n",
       "      <td>4</td>\n",
       "      <td>IndiaFightsCorona: We have 1524 COVID testing ...</td>\n",
       "      <td>1</td>\n",
       "      <td>1</td>\n",
       "    </tr>\n",
       "    <tr>\n",
       "      <th>4</th>\n",
       "      <td>5</td>\n",
       "      <td>Populous states can generate large case counts...</td>\n",
       "      <td>1</td>\n",
       "      <td>1</td>\n",
       "    </tr>\n",
       "    <tr>\n",
       "      <th>5</th>\n",
       "      <td>6</td>\n",
       "      <td>Covid Act Now found on average each person in ...</td>\n",
       "      <td>1</td>\n",
       "      <td>1</td>\n",
       "    </tr>\n",
       "    <tr>\n",
       "      <th>...</th>\n",
       "      <td>...</td>\n",
       "      <td>...</td>\n",
       "      <td>...</td>\n",
       "      <td>...</td>\n",
       "    </tr>\n",
       "    <tr>\n",
       "      <th>10693</th>\n",
       "      <td>2134</td>\n",
       "      <td>RT WHOAFRO: The COVID19 virus hasn't been foun...</td>\n",
       "      <td>1</td>\n",
       "      <td>1</td>\n",
       "    </tr>\n",
       "    <tr>\n",
       "      <th>10695</th>\n",
       "      <td>2136</td>\n",
       "      <td>CoronaVirusUpdates: State-wise details of Tota...</td>\n",
       "      <td>1</td>\n",
       "      <td>1</td>\n",
       "    </tr>\n",
       "    <tr>\n",
       "      <th>10697</th>\n",
       "      <td>2138</td>\n",
       "      <td>296 new cases of COVID19Nigeria Plateau-85 Enu...</td>\n",
       "      <td>1</td>\n",
       "      <td>1</td>\n",
       "    </tr>\n",
       "    <tr>\n",
       "      <th>10698</th>\n",
       "      <td>2139</td>\n",
       "      <td>RT CDCemergency: DYK? CDCgov’s One-Stop Shop f...</td>\n",
       "      <td>1</td>\n",
       "      <td>2</td>\n",
       "    </tr>\n",
       "    <tr>\n",
       "      <th>10699</th>\n",
       "      <td>2140</td>\n",
       "      <td>More than half of pregnant women recently admi...</td>\n",
       "      <td>1</td>\n",
       "      <td>1</td>\n",
       "    </tr>\n",
       "  </tbody>\n",
       "</table>\n",
       "<p>5600 rows × 4 columns</p>\n",
       "</div>"
      ],
      "text/plain": [
       "         id                                              tweet  label  \\\n",
       "0         1  The CDC currently reports 99031 deaths In gene...      1   \n",
       "1         2  States reported 1121 deaths a small rise from ...      1   \n",
       "3         4  IndiaFightsCorona: We have 1524 COVID testing ...      1   \n",
       "4         5  Populous states can generate large case counts...      1   \n",
       "5         6  Covid Act Now found on average each person in ...      1   \n",
       "...     ...                                                ...    ...   \n",
       "10693  2134  RT WHOAFRO: The COVID19 virus hasn't been foun...      1   \n",
       "10695  2136  CoronaVirusUpdates: State-wise details of Tota...      1   \n",
       "10697  2138  296 new cases of COVID19Nigeria Plateau-85 Enu...      1   \n",
       "10698  2139  RT CDCemergency: DYK? CDCgov’s One-Stop Shop f...      1   \n",
       "10699  2140  More than half of pregnant women recently admi...      1   \n",
       "\n",
       "       no_of_sent  \n",
       "0               1  \n",
       "1               1  \n",
       "3               1  \n",
       "4               1  \n",
       "5               1  \n",
       "...           ...  \n",
       "10693           1  \n",
       "10695           1  \n",
       "10697           1  \n",
       "10698           2  \n",
       "10699           1  \n",
       "\n",
       "[5600 rows x 4 columns]"
      ]
     },
     "execution_count": 8,
     "metadata": {},
     "output_type": "execute_result"
    }
   ],
   "source": [
    "df[df['label']==1]"
   ]
  },
  {
   "cell_type": "code",
   "execution_count": 9,
   "id": "e0b4383d",
   "metadata": {},
   "outputs": [],
   "source": [
    "stop = set(stopwords.words('english'))\n",
    "punctuation = list(string.punctuation)\n",
    "stop.update(punctuation)"
   ]
  },
  {
   "cell_type": "code",
   "execution_count": 10,
   "id": "eb649db0",
   "metadata": {},
   "outputs": [
    {
     "name": "stderr",
     "output_type": "stream",
     "text": [
      "/DATA/gupta37/.local/lib/python3.7/site-packages/bs4/__init__.py:439: MarkupResemblesLocatorWarning: The input looks more like a filename than markup. You may want to open this file and pass the filehandle into Beautiful Soup.\n",
      "  MarkupResemblesLocatorWarning\n"
     ]
    }
   ],
   "source": [
    "def strip_html(text):\n",
    "    soup = BeautifulSoup(text, \"html.parser\")\n",
    "    return soup.get_text()\n",
    "\n",
    "#Removing the square brackets\n",
    "def remove_between_square_brackets(text):\n",
    "    return re.sub('\\[[^]]*\\]', '', text)\n",
    "# Removing URL's\n",
    "def remove_between_square_brackets(text):\n",
    "    return re.sub(r'http\\S+', '', text)\n",
    "#Removing the stopwords from text\n",
    "def remove_stopwords(text):\n",
    "    final_text = []\n",
    "    for i in text.split():\n",
    "        if i.strip().lower() not in stop:\n",
    "            final_text.append(i.strip())\n",
    "    return \" \".join(final_text)\n",
    "#Removing the noisy text\n",
    "def denoise_text(text):\n",
    "    text = strip_html(text)\n",
    "    text = remove_between_square_brackets(text)\n",
    "    text = remove_stopwords(text)\n",
    "    return text\n",
    "#Apply function on review column\n",
    "df['tweet']=df['tweet'].apply(denoise_text)"
   ]
  },
  {
   "cell_type": "code",
   "execution_count": 11,
   "id": "69c47f18",
   "metadata": {},
   "outputs": [],
   "source": [
    "def get_corpus(text):\n",
    "    words = []\n",
    "    for i in text:\n",
    "        for j in i.split():\n",
    "            words.append(j.strip())\n",
    "    return words\n",
    "corpus = get_corpus(df.tweet)\n"
   ]
  },
  {
   "cell_type": "code",
   "execution_count": 12,
   "id": "b18ddc0b",
   "metadata": {},
   "outputs": [],
   "source": [
    "def get_max_len(text):\n",
    "    words_len = []\n",
    "    for i in text:\n",
    "        words=[]\n",
    "        for j in i.split():\n",
    "            words.append(j.strip())\n",
    "        words_len.append(len(words))\n",
    "    return words_len\n",
    "max_len = max(get_max_len(df.tweet))"
   ]
  },
  {
   "cell_type": "code",
   "execution_count": 13,
   "id": "574c875e",
   "metadata": {},
   "outputs": [
    {
     "data": {
      "text/plain": [
       "888"
      ]
     },
     "execution_count": 13,
     "metadata": {},
     "output_type": "execute_result"
    }
   ],
   "source": [
    "max_len"
   ]
  },
  {
   "cell_type": "markdown",
   "id": "e57f7471",
   "metadata": {},
   "source": [
    "# Glove Emebedding"
   ]
  },
  {
   "cell_type": "code",
   "execution_count": 14,
   "id": "40a74454",
   "metadata": {},
   "outputs": [],
   "source": [
    "x_train,x_test,y_train,y_test = train_test_split(df.tweet,df.label,random_state = 42)"
   ]
  },
  {
   "cell_type": "code",
   "execution_count": 15,
   "id": "22a74da1",
   "metadata": {},
   "outputs": [],
   "source": [
    "max_features = 8231\n",
    "maxlen = 100\n",
    "max_sent_len=7"
   ]
  },
  {
   "cell_type": "code",
   "execution_count": 16,
   "id": "55bc755d",
   "metadata": {},
   "outputs": [],
   "source": [
    "\n",
    "tokenizer = text.Tokenizer(num_words=max_features)\n",
    "tokenizer.fit_on_texts(x_train)\n",
    "tokenized_train = tokenizer.texts_to_sequences(x_train)\n",
    "x_train = sequence.pad_sequences(tokenized_train, maxlen=maxlen)"
   ]
  },
  {
   "cell_type": "code",
   "execution_count": 17,
   "id": "da161562",
   "metadata": {},
   "outputs": [],
   "source": [
    "tokenized_test = tokenizer.texts_to_sequences(x_test)\n",
    "X_test = sequence.pad_sequences(tokenized_test, maxlen=maxlen)"
   ]
  },
  {
   "cell_type": "code",
   "execution_count": 18,
   "id": "24748b2d",
   "metadata": {},
   "outputs": [],
   "source": [
    "EMBEDDING_FILE = './glove.twitter.27B.100d.txt'"
   ]
  },
  {
   "cell_type": "code",
   "execution_count": 19,
   "id": "8a9f171e",
   "metadata": {},
   "outputs": [],
   "source": [
    "def get_coefs(word, *arr): \n",
    "    return word, np.asarray(arr, dtype='float32')\n",
    "embeddings_index = dict(get_coefs(*o.rstrip().rsplit(' ')) for o in open(EMBEDDING_FILE))"
   ]
  },
  {
   "cell_type": "code",
   "execution_count": 20,
   "id": "6a29cd87",
   "metadata": {},
   "outputs": [
    {
     "name": "stderr",
     "output_type": "stream",
     "text": [
      "/DATA/gupta37/.local/lib/python3.7/site-packages/IPython/core/interactiveshell.py:3473: FutureWarning: arrays to stack must be passed as a \"sequence\" type such as list or tuple. Support for non-sequence iterables such as generators is deprecated as of NumPy 1.16 and will raise an error in the future.\n",
      "  if (await self.run_code(code, result,  async_=asy)):\n"
     ]
    }
   ],
   "source": [
    "all_embs = np.stack(embeddings_index.values())\n",
    "emb_mean,emb_std = all_embs.mean(), all_embs.std()\n",
    "embed_size = all_embs.shape[1]\n",
    "\n",
    "word_index = tokenizer.word_index\n",
    "nb_words = min(max_features, len(word_index))\n",
    "#change below line if computing normal stats is too slow\n",
    "embedding_matrix = embedding_matrix = np.random.normal(emb_mean, emb_std, (nb_words, embed_size))\n",
    "for word, i in word_index.items():\n",
    "    if i >= max_features: continue\n",
    "    embedding_vector = embeddings_index.get(word)\n",
    "    if embedding_vector is not None: embedding_matrix[i] = embedding_vector"
   ]
  },
  {
   "cell_type": "markdown",
   "id": "a02c703f",
   "metadata": {},
   "source": [
    "# Graph Embedding"
   ]
  },
  {
   "cell_type": "code",
   "execution_count": 26,
   "id": "8a27fc4f",
   "metadata": {},
   "outputs": [],
   "source": [
    "with open('covid_fake_amr_graph_lst.pkl', 'rb') as f:\n",
    "    graphs_list = pickle.load(f)"
   ]
  },
  {
   "cell_type": "code",
   "execution_count": 27,
   "id": "5c6ab7ba",
   "metadata": {},
   "outputs": [
    {
     "data": {
      "text/plain": [
       "11739"
      ]
     },
     "execution_count": 27,
     "metadata": {},
     "output_type": "execute_result"
    }
   ],
   "source": [
    "len(graphs_list)"
   ]
  },
  {
   "cell_type": "code",
   "execution_count": 28,
   "id": "822e3a68",
   "metadata": {},
   "outputs": [],
   "source": [
    "g_model = Graph2Vec(dimensions=100)\n",
    "g_model.fit(graphs_list)\n",
    "g2ve=g_model.get_embedding()"
   ]
  },
  {
   "cell_type": "markdown",
   "id": "5543036f",
   "metadata": {},
   "source": [
    "# Creating matrix with size (max_sen_len,100)"
   ]
  },
  {
   "cell_type": "code",
   "execution_count": 29,
   "id": "d0588a4e",
   "metadata": {},
   "outputs": [],
   "source": [
    "g2ve_list=[]\n",
    "for i in (df.index):\n",
    "    g2ve_list.append([g2ve[j] for j in range(i,i+df['no_of_sent'][i])])\n",
    "    g2ve=np.delete(g2ve,np.arange(i+1,i+df['no_of_sent'][i]),axis=0)"
   ]
  },
  {
   "cell_type": "code",
   "execution_count": 30,
   "id": "138c92af",
   "metadata": {},
   "outputs": [
    {
     "data": {
      "text/plain": [
       "10700"
      ]
     },
     "execution_count": 30,
     "metadata": {},
     "output_type": "execute_result"
    }
   ],
   "source": [
    "len(g2ve)"
   ]
  },
  {
   "cell_type": "code",
   "execution_count": 31,
   "id": "6dca0a86",
   "metadata": {},
   "outputs": [],
   "source": [
    "for i in (df.index):\n",
    "    if df['no_of_sent'][i] == 0:\n",
    "        padded_vector = np.zeros((max_sent_len, 100))\n",
    "        g2ve_list[i] = padded_vector\n",
    "    elif df['no_of_sent'][i] < max_sent_len:\n",
    "        padded_vector = np.zeros((max_sent_len, 100))\n",
    "        padded_vector[:df['no_of_sent'][i], :] = g2ve_list[i]\n",
    "        g2ve_list[i] = padded_vector\n",
    "    else:\n",
    "        padded_vector = np.zeros((max_sent_len, 100))\n",
    "        padded_vector[:max_sent_len, :] = g2ve_list[i][:max_sent_len]\n",
    "        g2ve_list[i] = padded_vector"
   ]
  },
  {
   "cell_type": "code",
   "execution_count": 32,
   "id": "ec2f6a56",
   "metadata": {},
   "outputs": [],
   "source": [
    "#max([len(i) for i in g2ve_list])"
   ]
  },
  {
   "cell_type": "markdown",
   "id": "84366c63",
   "metadata": {},
   "source": [
    "# mean vector"
   ]
  },
  {
   "cell_type": "code",
   "execution_count": 33,
   "id": "5206c49f",
   "metadata": {},
   "outputs": [],
   "source": [
    "# for i in (df[df['no_of_sent']>1].index):\n",
    "#     g2ve[i]=np.mean(g2ve[i:i+df['no_of_sent'][i]],axis=0)\n",
    "#     g2ve=np.delete(g2ve,np.arange(i+1,i+df['no_of_sent'][i]),axis=0)\n",
    "    "
   ]
  },
  {
   "cell_type": "code",
   "execution_count": 34,
   "id": "50f2df1a",
   "metadata": {},
   "outputs": [],
   "source": [
    "x_g_train,x_g_test,y_g_train,y_g_test = train_test_split(g2ve_list,df.label,random_state = 42)"
   ]
  },
  {
   "cell_type": "markdown",
   "id": "7dab82b7",
   "metadata": {},
   "source": [
    "# CNN"
   ]
  },
  {
   "cell_type": "code",
   "execution_count": 35,
   "id": "a15ec880",
   "metadata": {},
   "outputs": [],
   "source": [
    "batch_size = 256\n",
    "epochs = 200\n",
    "embed_size = 100"
   ]
  },
  {
   "cell_type": "code",
   "execution_count": 36,
   "id": "613b0673",
   "metadata": {},
   "outputs": [],
   "source": [
    "learning_rate_reduction = ReduceLROnPlateau(monitor='val_accuracy', patience = 2, verbose=1,factor=0.5, min_lr=0.00001)"
   ]
  },
  {
   "cell_type": "code",
   "execution_count": 37,
   "id": "157c4f0d",
   "metadata": {},
   "outputs": [],
   "source": [
    "# Define the EarlyStopping callback\n",
    "early_stopping = EarlyStopping(monitor='val_loss', patience=5, verbose=1)"
   ]
  },
  {
   "cell_type": "code",
   "execution_count": 119,
   "id": "d5a7d2cc",
   "metadata": {},
   "outputs": [
    {
     "name": "stderr",
     "output_type": "stream",
     "text": [
      "/DATA/gupta37/.local/lib/python3.7/site-packages/keras/optimizers/optimizer_v2/adam.py:117: UserWarning: The `lr` argument is deprecated, use `learning_rate` instead.\n",
      "  super().__init__(name, **kwargs)\n"
     ]
    }
   ],
   "source": [
    "input1=Input(shape=(maxlen,))\n",
    "embed1=Embedding(max_features, output_dim=embed_size, weights=[embedding_matrix], input_length=maxlen, trainable=False)(input1)\n",
    "layer1 =Conv1D(filters=128, kernel_size=3, activation='relu')(embed1)\n",
    "layer2 = MaxPooling1D(pool_size=2)(layer1)\n",
    "layer3 = Flatten()(layer2)\n",
    "layer4 = Dropout(0.8)(layer3)\n",
    "layer5 = Dense(1, activation='sigmoid')(layer4)\n",
    "model_cnn = Model(input1, layer5)\n",
    "model_cnn.compile(optimizer=keras.optimizers.Adam(lr = 0.01), loss='binary_crossentropy', metrics=['accuracy'])"
   ]
  },
  {
   "cell_type": "code",
   "execution_count": 120,
   "id": "8d450e4e",
   "metadata": {},
   "outputs": [
    {
     "name": "stdout",
     "output_type": "stream",
     "text": [
      "Model: \"model_8\"\n",
      "_________________________________________________________________\n",
      " Layer (type)                Output Shape              Param #   \n",
      "=================================================================\n",
      " input_12 (InputLayer)       [(None, 100)]             0         \n",
      "                                                                 \n",
      " embedding_8 (Embedding)     (None, 100, 100)          823100    \n",
      "                                                                 \n",
      " conv1d_4 (Conv1D)           (None, 98, 128)           38528     \n",
      "                                                                 \n",
      " max_pooling1d_4 (MaxPooling  (None, 49, 128)          0         \n",
      " 1D)                                                             \n",
      "                                                                 \n",
      " flatten_2 (Flatten)         (None, 6272)              0         \n",
      "                                                                 \n",
      " dropout_6 (Dropout)         (None, 6272)              0         \n",
      "                                                                 \n",
      " dense_12 (Dense)            (None, 1)                 6273      \n",
      "                                                                 \n",
      "=================================================================\n",
      "Total params: 867,901\n",
      "Trainable params: 44,801\n",
      "Non-trainable params: 823,100\n",
      "_________________________________________________________________\n"
     ]
    }
   ],
   "source": [
    "model_cnn.summary()"
   ]
  },
  {
   "cell_type": "code",
   "execution_count": 121,
   "id": "78aecf64",
   "metadata": {},
   "outputs": [
    {
     "name": "stdout",
     "output_type": "stream",
     "text": [
      "Epoch 1/200\n",
      "WARNING:tensorflow:AutoGraph could not transform <function Model.make_train_function.<locals>.train_function at 0x7fa3269f7ea0> and will run it as-is.\n",
      "Please report this to the TensorFlow team. When filing the bug, set the verbosity to 10 (on Linux, `export AUTOGRAPH_VERBOSITY=10`) and attach the full output.\n",
      "Cause: 'arguments' object has no attribute 'posonlyargs'\n",
      "To silence this warning, decorate the function with @tf.autograph.experimental.do_not_convert\n",
      "WARNING: AutoGraph could not transform <function Model.make_train_function.<locals>.train_function at 0x7fa3269f7ea0> and will run it as-is.\n",
      "Please report this to the TensorFlow team. When filing the bug, set the verbosity to 10 (on Linux, `export AUTOGRAPH_VERBOSITY=10`) and attach the full output.\n",
      "Cause: 'arguments' object has no attribute 'posonlyargs'\n",
      "To silence this warning, decorate the function with @tf.autograph.experimental.do_not_convert\n",
      "26/26 [==============================] - ETA: 0s - loss: 1.0407 - accuracy: 0.6903WARNING:tensorflow:AutoGraph could not transform <function Model.make_test_function.<locals>.test_function at 0x7fa3140a6d90> and will run it as-is.\n",
      "Please report this to the TensorFlow team. When filing the bug, set the verbosity to 10 (on Linux, `export AUTOGRAPH_VERBOSITY=10`) and attach the full output.\n",
      "Cause: 'arguments' object has no attribute 'posonlyargs'\n",
      "To silence this warning, decorate the function with @tf.autograph.experimental.do_not_convert\n",
      "WARNING: AutoGraph could not transform <function Model.make_test_function.<locals>.test_function at 0x7fa3140a6d90> and will run it as-is.\n",
      "Please report this to the TensorFlow team. When filing the bug, set the verbosity to 10 (on Linux, `export AUTOGRAPH_VERBOSITY=10`) and attach the full output.\n",
      "Cause: 'arguments' object has no attribute 'posonlyargs'\n",
      "To silence this warning, decorate the function with @tf.autograph.experimental.do_not_convert\n",
      "26/26 [==============================] - 1s 34ms/step - loss: 1.0407 - accuracy: 0.6903 - val_loss: 0.3902 - val_accuracy: 0.8368 - lr: 0.0100\n",
      "Epoch 2/200\n",
      "26/26 [==============================] - 1s 25ms/step - loss: 0.3977 - accuracy: 0.8371 - val_loss: 0.3328 - val_accuracy: 0.8592 - lr: 0.0100\n",
      "Epoch 3/200\n",
      "26/26 [==============================] - 1s 26ms/step - loss: 0.3531 - accuracy: 0.8550 - val_loss: 0.2941 - val_accuracy: 0.8791 - lr: 0.0100\n",
      "Epoch 4/200\n",
      "26/26 [==============================] - 1s 27ms/step - loss: 0.3239 - accuracy: 0.8634 - val_loss: 0.2807 - val_accuracy: 0.8816 - lr: 0.0100\n",
      "Epoch 5/200\n",
      "26/26 [==============================] - 1s 27ms/step - loss: 0.3211 - accuracy: 0.8665 - val_loss: 0.2778 - val_accuracy: 0.8841 - lr: 0.0100\n",
      "Epoch 6/200\n",
      "26/26 [==============================] - 1s 26ms/step - loss: 0.3005 - accuracy: 0.8801 - val_loss: 0.2731 - val_accuracy: 0.8866 - lr: 0.0100\n",
      "Epoch 7/200\n",
      "26/26 [==============================] - 1s 25ms/step - loss: 0.2844 - accuracy: 0.8874 - val_loss: 0.2756 - val_accuracy: 0.8866 - lr: 0.0100\n",
      "Epoch 8/200\n",
      "26/26 [==============================] - 1s 24ms/step - loss: 0.2649 - accuracy: 0.8970 - val_loss: 0.2622 - val_accuracy: 0.8947 - lr: 0.0100\n",
      "Epoch 9/200\n",
      "26/26 [==============================] - 1s 25ms/step - loss: 0.2642 - accuracy: 0.8900 - val_loss: 0.2939 - val_accuracy: 0.8872 - lr: 0.0100\n",
      "Epoch 10/200\n",
      "25/26 [===========================>..] - ETA: 0s - loss: 0.2609 - accuracy: 0.8948\n",
      "Epoch 10: ReduceLROnPlateau reducing learning rate to 0.004999999888241291.\n",
      "26/26 [==============================] - 1s 25ms/step - loss: 0.2611 - accuracy: 0.8947 - val_loss: 0.2709 - val_accuracy: 0.8810 - lr: 0.0100\n",
      "Epoch 11/200\n",
      "26/26 [==============================] - 1s 25ms/step - loss: 0.2403 - accuracy: 0.9025 - val_loss: 0.2741 - val_accuracy: 0.8879 - lr: 0.0050\n",
      "Epoch 12/200\n",
      "25/26 [===========================>..] - ETA: 0s - loss: 0.2275 - accuracy: 0.9087\n",
      "Epoch 12: ReduceLROnPlateau reducing learning rate to 0.0024999999441206455.\n",
      "26/26 [==============================] - 1s 25ms/step - loss: 0.2279 - accuracy: 0.9086 - val_loss: 0.2647 - val_accuracy: 0.8854 - lr: 0.0050\n",
      "Epoch 13/200\n",
      "26/26 [==============================] - 1s 26ms/step - loss: 0.2212 - accuracy: 0.9120 - val_loss: 0.2584 - val_accuracy: 0.8891 - lr: 0.0025\n",
      "Epoch 14/200\n",
      "24/26 [==========================>...] - ETA: 0s - loss: 0.2122 - accuracy: 0.9149\n",
      "Epoch 14: ReduceLROnPlateau reducing learning rate to 0.0012499999720603228.\n",
      "26/26 [==============================] - 1s 26ms/step - loss: 0.2114 - accuracy: 0.9151 - val_loss: 0.2558 - val_accuracy: 0.8910 - lr: 0.0025\n",
      "Epoch 15/200\n",
      "26/26 [==============================] - 1s 27ms/step - loss: 0.2052 - accuracy: 0.9212 - val_loss: 0.2569 - val_accuracy: 0.8910 - lr: 0.0012\n",
      "Epoch 16/200\n",
      "26/26 [==============================] - ETA: 0s - loss: 0.2027 - accuracy: 0.9241\n",
      "Epoch 16: ReduceLROnPlateau reducing learning rate to 0.0006249999860301614.\n",
      "26/26 [==============================] - 1s 27ms/step - loss: 0.2027 - accuracy: 0.9241 - val_loss: 0.2560 - val_accuracy: 0.8922 - lr: 0.0012\n",
      "Epoch 17/200\n",
      "26/26 [==============================] - 1s 27ms/step - loss: 0.1877 - accuracy: 0.9277 - val_loss: 0.2554 - val_accuracy: 0.8947 - lr: 6.2500e-04\n",
      "Epoch 18/200\n",
      "23/26 [=========================>....] - ETA: 0s - loss: 0.1955 - accuracy: 0.9197\n",
      "Epoch 18: ReduceLROnPlateau reducing learning rate to 0.0003124999930150807.\n",
      "26/26 [==============================] - 1s 27ms/step - loss: 0.1940 - accuracy: 0.9199 - val_loss: 0.2546 - val_accuracy: 0.8941 - lr: 6.2500e-04\n",
      "Epoch 19/200\n",
      "26/26 [==============================] - 1s 27ms/step - loss: 0.1892 - accuracy: 0.9215 - val_loss: 0.2538 - val_accuracy: 0.8966 - lr: 3.1250e-04\n",
      "Epoch 20/200\n",
      "26/26 [==============================] - 1s 26ms/step - loss: 0.1830 - accuracy: 0.9304 - val_loss: 0.2529 - val_accuracy: 0.8953 - lr: 3.1250e-04\n",
      "Epoch 21/200\n",
      "24/26 [==========================>...] - ETA: 0s - loss: 0.1892 - accuracy: 0.9256\n",
      "Epoch 21: ReduceLROnPlateau reducing learning rate to 0.00015624999650754035.\n",
      "26/26 [==============================] - 1s 25ms/step - loss: 0.1882 - accuracy: 0.9262 - val_loss: 0.2521 - val_accuracy: 0.8947 - lr: 3.1250e-04\n",
      "Epoch 22/200\n",
      "26/26 [==============================] - 1s 26ms/step - loss: 0.1856 - accuracy: 0.9269 - val_loss: 0.2521 - val_accuracy: 0.8966 - lr: 1.5625e-04\n",
      "Epoch 23/200\n",
      "26/26 [==============================] - 1s 27ms/step - loss: 0.1858 - accuracy: 0.9290 - val_loss: 0.2520 - val_accuracy: 0.8972 - lr: 1.5625e-04\n",
      "Epoch 24/200\n",
      "26/26 [==============================] - 1s 27ms/step - loss: 0.1800 - accuracy: 0.9262 - val_loss: 0.2521 - val_accuracy: 0.8978 - lr: 1.5625e-04\n",
      "Epoch 25/200\n",
      "26/26 [==============================] - 1s 27ms/step - loss: 0.1831 - accuracy: 0.9282 - val_loss: 0.2521 - val_accuracy: 0.8978 - lr: 1.5625e-04\n",
      "Epoch 26/200\n",
      "25/26 [===========================>..] - ETA: 0s - loss: 0.1809 - accuracy: 0.9298\n",
      "Epoch 26: ReduceLROnPlateau reducing learning rate to 7.812499825377017e-05.\n",
      "26/26 [==============================] - 1s 28ms/step - loss: 0.1807 - accuracy: 0.9299 - val_loss: 0.2517 - val_accuracy: 0.8972 - lr: 1.5625e-04\n",
      "Epoch 27/200\n",
      "26/26 [==============================] - 1s 27ms/step - loss: 0.1851 - accuracy: 0.9288 - val_loss: 0.2516 - val_accuracy: 0.8972 - lr: 7.8125e-05\n",
      "Epoch 28/200\n",
      "26/26 [==============================] - 1s 27ms/step - loss: 0.1846 - accuracy: 0.9269 - val_loss: 0.2517 - val_accuracy: 0.8984 - lr: 7.8125e-05\n",
      "Epoch 29/200\n",
      "26/26 [==============================] - 1s 28ms/step - loss: 0.1662 - accuracy: 0.9347 - val_loss: 0.2516 - val_accuracy: 0.8972 - lr: 7.8125e-05\n",
      "Epoch 30/200\n",
      "26/26 [==============================] - ETA: 0s - loss: 0.1780 - accuracy: 0.9302\n",
      "Epoch 30: ReduceLROnPlateau reducing learning rate to 3.9062499126885086e-05.\n",
      "26/26 [==============================] - 1s 27ms/step - loss: 0.1780 - accuracy: 0.9302 - val_loss: 0.2516 - val_accuracy: 0.8978 - lr: 7.8125e-05\n",
      "Epoch 31/200\n",
      "26/26 [==============================] - 1s 28ms/step - loss: 0.1827 - accuracy: 0.9263 - val_loss: 0.2516 - val_accuracy: 0.8978 - lr: 3.9062e-05\n",
      "Epoch 32/200\n",
      "24/26 [==========================>...] - ETA: 0s - loss: 0.1816 - accuracy: 0.9297\n",
      "Epoch 32: ReduceLROnPlateau reducing learning rate to 1.9531249563442543e-05.\n"
     ]
    },
    {
     "name": "stdout",
     "output_type": "stream",
     "text": [
      "26/26 [==============================] - 1s 26ms/step - loss: 0.1831 - accuracy: 0.9280 - val_loss: 0.2516 - val_accuracy: 0.8978 - lr: 3.9062e-05\n",
      "Epoch 33/200\n",
      "26/26 [==============================] - 1s 26ms/step - loss: 0.1830 - accuracy: 0.9268 - val_loss: 0.2516 - val_accuracy: 0.8978 - lr: 1.9531e-05\n",
      "Epoch 34/200\n",
      "24/26 [==========================>...] - ETA: 0s - loss: 0.1916 - accuracy: 0.9250\n",
      "Epoch 34: ReduceLROnPlateau reducing learning rate to 1e-05.\n",
      "26/26 [==============================] - 1s 28ms/step - loss: 0.1907 - accuracy: 0.9249 - val_loss: 0.2515 - val_accuracy: 0.8978 - lr: 1.9531e-05\n",
      "Epoch 35/200\n",
      "26/26 [==============================] - 1s 27ms/step - loss: 0.1817 - accuracy: 0.9287 - val_loss: 0.2515 - val_accuracy: 0.8984 - lr: 1.0000e-05\n",
      "Epoch 36/200\n",
      "26/26 [==============================] - 1s 27ms/step - loss: 0.1766 - accuracy: 0.9336 - val_loss: 0.2515 - val_accuracy: 0.8984 - lr: 1.0000e-05\n",
      "Epoch 37/200\n",
      "26/26 [==============================] - 1s 28ms/step - loss: 0.1720 - accuracy: 0.9322 - val_loss: 0.2516 - val_accuracy: 0.8984 - lr: 1.0000e-05\n",
      "Epoch 38/200\n",
      "26/26 [==============================] - 1s 27ms/step - loss: 0.1764 - accuracy: 0.9340 - val_loss: 0.2516 - val_accuracy: 0.8984 - lr: 1.0000e-05\n",
      "Epoch 39/200\n",
      "26/26 [==============================] - 1s 26ms/step - loss: 0.1810 - accuracy: 0.9268 - val_loss: 0.2516 - val_accuracy: 0.8984 - lr: 1.0000e-05\n",
      "Epoch 39: early stopping\n"
     ]
    }
   ],
   "source": [
    "history_cnn = model_cnn.fit(x_train, y_train, batch_size = batch_size , validation_split = .2 , epochs = epochs , callbacks = [learning_rate_reduction, early_stopping])"
   ]
  },
  {
   "cell_type": "code",
   "execution_count": 122,
   "id": "0deb5fcb",
   "metadata": {},
   "outputs": [
    {
     "name": "stdout",
     "output_type": "stream",
     "text": [
      "WARNING:tensorflow:AutoGraph could not transform <function Model.make_predict_function.<locals>.predict_function at 0x7fa31404af28> and will run it as-is.\n",
      "Please report this to the TensorFlow team. When filing the bug, set the verbosity to 10 (on Linux, `export AUTOGRAPH_VERBOSITY=10`) and attach the full output.\n",
      "Cause: 'arguments' object has no attribute 'posonlyargs'\n",
      "To silence this warning, decorate the function with @tf.autograph.experimental.do_not_convert\n",
      "WARNING: AutoGraph could not transform <function Model.make_predict_function.<locals>.predict_function at 0x7fa31404af28> and will run it as-is.\n",
      "Please report this to the TensorFlow team. When filing the bug, set the verbosity to 10 (on Linux, `export AUTOGRAPH_VERBOSITY=10`) and attach the full output.\n",
      "Cause: 'arguments' object has no attribute 'posonlyargs'\n",
      "To silence this warning, decorate the function with @tf.autograph.experimental.do_not_convert\n",
      "84/84 [==============================] - 0s 3ms/step\n"
     ]
    }
   ],
   "source": [
    "y_pred = (model_cnn.predict(X_test) > 0.5).astype(\"int32\")"
   ]
  },
  {
   "cell_type": "code",
   "execution_count": 123,
   "id": "fa5085d6",
   "metadata": {},
   "outputs": [
    {
     "data": {
      "text/plain": [
       "0.9121495327102803"
      ]
     },
     "execution_count": 123,
     "metadata": {},
     "output_type": "execute_result"
    }
   ],
   "source": [
    "accuracy_score(y_test,y_pred)"
   ]
  },
  {
   "cell_type": "code",
   "execution_count": 124,
   "id": "27c5eaa7",
   "metadata": {},
   "outputs": [],
   "source": [
    "from sklearn.metrics import classification_report"
   ]
  },
  {
   "cell_type": "code",
   "execution_count": 125,
   "id": "99819800",
   "metadata": {},
   "outputs": [
    {
     "name": "stdout",
     "output_type": "stream",
     "text": [
      "              precision    recall  f1-score   support\n",
      "\n",
      "           0    0.88931   0.92829   0.90838      1255\n",
      "           1    0.93407   0.89789   0.91562      1420\n",
      "\n",
      "    accuracy                        0.91215      2675\n",
      "   macro avg    0.91169   0.91309   0.91200      2675\n",
      "weighted avg    0.91307   0.91215   0.91222      2675\n",
      "\n"
     ]
    }
   ],
   "source": [
    "print(classification_report(y_test, y_pred,digits=5))"
   ]
  },
  {
   "cell_type": "code",
   "execution_count": 126,
   "id": "a091e437",
   "metadata": {},
   "outputs": [
    {
     "name": "stderr",
     "output_type": "stream",
     "text": [
      "/DATA/gupta37/.local/lib/python3.7/site-packages/keras/optimizers/optimizer_v2/adam.py:117: UserWarning: The `lr` argument is deprecated, use `learning_rate` instead.\n",
      "  super().__init__(name, **kwargs)\n"
     ]
    }
   ],
   "source": [
    "input1=Input(shape=(maxlen,))\n",
    "embed1=Embedding(max_features, output_dim=embed_size, weights=[embedding_matrix], input_length=maxlen, trainable=False)(input1)\n",
    "input2=Input(shape=(max_sent_len,100,))\n",
    "#reshaped_input_2 = Reshape((1, 100))(input2)\n",
    "feature =  Concatenate(axis=1)([embed1, input2])\n",
    "layer1 =Conv1D(filters=128, kernel_size=3, activation='relu')(feature)\n",
    "layer2 = MaxPooling1D(pool_size=2)(layer1)\n",
    "layer3 = Flatten()(layer2)\n",
    "layer4 = Dropout(0.8)(layer3)\n",
    "layer5 = Dense(1, activation='sigmoid')(layer4)\n",
    "model_cnn_graph = Model([input1, input2], layer5)\n",
    "model_cnn_graph.compile(optimizer=keras.optimizers.Adam(lr = 0.01), loss='binary_crossentropy', metrics=['accuracy'])"
   ]
  },
  {
   "cell_type": "code",
   "execution_count": 127,
   "id": "e1c7f2cd",
   "metadata": {},
   "outputs": [
    {
     "name": "stdout",
     "output_type": "stream",
     "text": [
      "Model: \"model_9\"\n",
      "__________________________________________________________________________________________________\n",
      " Layer (type)                   Output Shape         Param #     Connected to                     \n",
      "==================================================================================================\n",
      " input_13 (InputLayer)          [(None, 100)]        0           []                               \n",
      "                                                                                                  \n",
      " embedding_9 (Embedding)        (None, 100, 100)     823100      ['input_13[0][0]']               \n",
      "                                                                                                  \n",
      " input_14 (InputLayer)          [(None, 7, 100)]     0           []                               \n",
      "                                                                                                  \n",
      " concatenate_3 (Concatenate)    (None, 107, 100)     0           ['embedding_9[0][0]',            \n",
      "                                                                  'input_14[0][0]']               \n",
      "                                                                                                  \n",
      " conv1d_5 (Conv1D)              (None, 105, 128)     38528       ['concatenate_3[0][0]']          \n",
      "                                                                                                  \n",
      " max_pooling1d_5 (MaxPooling1D)  (None, 52, 128)     0           ['conv1d_5[0][0]']               \n",
      "                                                                                                  \n",
      " flatten_3 (Flatten)            (None, 6656)         0           ['max_pooling1d_5[0][0]']        \n",
      "                                                                                                  \n",
      " dropout_7 (Dropout)            (None, 6656)         0           ['flatten_3[0][0]']              \n",
      "                                                                                                  \n",
      " dense_13 (Dense)               (None, 1)            6657        ['dropout_7[0][0]']              \n",
      "                                                                                                  \n",
      "==================================================================================================\n",
      "Total params: 868,285\n",
      "Trainable params: 45,185\n",
      "Non-trainable params: 823,100\n",
      "__________________________________________________________________________________________________\n"
     ]
    }
   ],
   "source": [
    "model_cnn_graph.summary()"
   ]
  },
  {
   "cell_type": "code",
   "execution_count": 131,
   "id": "6af3fdff",
   "metadata": {
    "scrolled": true
   },
   "outputs": [
    {
     "name": "stdout",
     "output_type": "stream",
     "text": [
      "Epoch 1/200\n",
      "250/250 [==============================] - 6s 25ms/step - loss: 0.1670 - accuracy: 0.9342 - val_loss: 0.2333 - val_accuracy: 0.9072 - lr: 0.0025\n",
      "Epoch 2/200\n",
      "250/250 [==============================] - 6s 24ms/step - loss: 0.1359 - accuracy: 0.9469 - val_loss: 0.2341 - val_accuracy: 0.9109 - lr: 0.0025\n",
      "Epoch 3/200\n",
      "250/250 [==============================] - 6s 24ms/step - loss: 0.1177 - accuracy: 0.9537 - val_loss: 0.2471 - val_accuracy: 0.9084 - lr: 0.0025\n",
      "Epoch 4/200\n",
      "249/250 [============================>.] - ETA: 0s - loss: 0.1071 - accuracy: 0.9585\n",
      "Epoch 4: ReduceLROnPlateau reducing learning rate to 0.0012499999720603228.\n",
      "250/250 [==============================] - 6s 25ms/step - loss: 0.1070 - accuracy: 0.9585 - val_loss: 0.2450 - val_accuracy: 0.9097 - lr: 0.0025\n",
      "Epoch 5/200\n",
      "250/250 [==============================] - 6s 25ms/step - loss: 0.0920 - accuracy: 0.9653 - val_loss: 0.2452 - val_accuracy: 0.9103 - lr: 0.0012\n",
      "Epoch 6/200\n",
      "250/250 [==============================] - 6s 25ms/step - loss: 0.0839 - accuracy: 0.9691 - val_loss: 0.2490 - val_accuracy: 0.9134 - lr: 0.0012\n",
      "Epoch 6: early stopping\n"
     ]
    }
   ],
   "source": [
    "history_cnn_graph = model_cnn_graph.fit([x_train,np.array(x_g_train)], y_train, batch_size = batch_size , validation_split = .2 , epochs = epochs , callbacks = [learning_rate_reduction, early_stopping], steps_per_epoch=len(x_train) // 32)"
   ]
  },
  {
   "cell_type": "code",
   "execution_count": 132,
   "id": "34b1d418",
   "metadata": {},
   "outputs": [
    {
     "name": "stdout",
     "output_type": "stream",
     "text": [
      "84/84 [==============================] - 0s 3ms/step\n"
     ]
    }
   ],
   "source": [
    "y_pred = (model_cnn_graph.predict([X_test,np.array(x_g_test)]) > 0.5).astype(\"int32\")"
   ]
  },
  {
   "cell_type": "code",
   "execution_count": 133,
   "id": "d59b1978",
   "metadata": {},
   "outputs": [
    {
     "data": {
      "text/plain": [
       "0.9271028037383178"
      ]
     },
     "execution_count": 133,
     "metadata": {},
     "output_type": "execute_result"
    }
   ],
   "source": [
    "accuracy_score(y_test,y_pred)"
   ]
  },
  {
   "cell_type": "code",
   "execution_count": 134,
   "id": "066b4501",
   "metadata": {},
   "outputs": [
    {
     "name": "stdout",
     "output_type": "stream",
     "text": [
      "              precision    recall  f1-score   support\n",
      "\n",
      "           0    0.91277   0.93386   0.92320      1255\n",
      "           1    0.94033   0.92113   0.93063      1420\n",
      "\n",
      "    accuracy                        0.92710      2675\n",
      "   macro avg    0.92655   0.92750   0.92691      2675\n",
      "weighted avg    0.92740   0.92710   0.92714      2675\n",
      "\n"
     ]
    }
   ],
   "source": [
    "print(classification_report(y_test, y_pred,digits=5))"
   ]
  },
  {
   "cell_type": "markdown",
   "id": "009eadbd",
   "metadata": {},
   "source": [
    "# CLSTM"
   ]
  },
  {
   "cell_type": "code",
   "execution_count": 46,
   "id": "03e05a0e",
   "metadata": {},
   "outputs": [
    {
     "name": "stderr",
     "output_type": "stream",
     "text": [
      "/DATA/gupta37/.local/lib/python3.7/site-packages/keras/optimizers/optimizer_v2/adam.py:117: UserWarning: The `lr` argument is deprecated, use `learning_rate` instead.\n",
      "  super().__init__(name, **kwargs)\n"
     ]
    }
   ],
   "source": [
    "#Defining Neural Network\n",
    "# model = Sequential()\n",
    "#Non-trainable embeddidng layer\n",
    "input1=Input(shape=(maxlen,))\n",
    "embed1=Embedding(max_features, output_dim=embed_size, weights=[embedding_matrix], input_length=maxlen, trainable=False)(input1)\n",
    "layer1 =Conv1D(filters=128, kernel_size=3, activation='relu')(embed1)\n",
    "layer2 = MaxPooling1D(pool_size=2)(layer1)\n",
    "layer3 = LSTM(units=100, recurrent_dropout = 0.25 , dropout = 0.2)(layer2)\n",
    "layer4 = Dense(1, activation='sigmoid')(layer3)\n",
    "model_clstm = Model(input1, layer4)\n",
    "model_clstm.compile(optimizer=keras.optimizers.Adam(lr = 0.01), loss='binary_crossentropy', metrics=['accuracy'])"
   ]
  },
  {
   "cell_type": "code",
   "execution_count": 47,
   "id": "38b61682",
   "metadata": {},
   "outputs": [
    {
     "name": "stdout",
     "output_type": "stream",
     "text": [
      "Model: \"model_2\"\n",
      "_________________________________________________________________\n",
      " Layer (type)                Output Shape              Param #   \n",
      "=================================================================\n",
      " input_5 (InputLayer)        [(None, 100)]             0         \n",
      "                                                                 \n",
      " embedding_2 (Embedding)     (None, 100, 100)          823100    \n",
      "                                                                 \n",
      " conv1d_2 (Conv1D)           (None, 98, 128)           38528     \n",
      "                                                                 \n",
      " max_pooling1d_2 (MaxPooling  (None, 49, 128)          0         \n",
      " 1D)                                                             \n",
      "                                                                 \n",
      " lstm_2 (LSTM)               (None, 100)               91600     \n",
      "                                                                 \n",
      " dense_2 (Dense)             (None, 1)                 101       \n",
      "                                                                 \n",
      "=================================================================\n",
      "Total params: 953,329\n",
      "Trainable params: 130,229\n",
      "Non-trainable params: 823,100\n",
      "_________________________________________________________________\n"
     ]
    }
   ],
   "source": [
    "model_clstm.summary()"
   ]
  },
  {
   "cell_type": "code",
   "execution_count": 48,
   "id": "a3276ea6",
   "metadata": {
    "scrolled": true
   },
   "outputs": [
    {
     "name": "stdout",
     "output_type": "stream",
     "text": [
      "Epoch 1/200\n",
      "WARNING:tensorflow:AutoGraph could not transform <function Model.make_train_function.<locals>.train_function at 0x7fbb643b9730> and will run it as-is.\n",
      "Please report this to the TensorFlow team. When filing the bug, set the verbosity to 10 (on Linux, `export AUTOGRAPH_VERBOSITY=10`) and attach the full output.\n",
      "Cause: 'arguments' object has no attribute 'posonlyargs'\n",
      "To silence this warning, decorate the function with @tf.autograph.experimental.do_not_convert\n",
      "WARNING: AutoGraph could not transform <function Model.make_train_function.<locals>.train_function at 0x7fbb643b9730> and will run it as-is.\n",
      "Please report this to the TensorFlow team. When filing the bug, set the verbosity to 10 (on Linux, `export AUTOGRAPH_VERBOSITY=10`) and attach the full output.\n",
      "Cause: 'arguments' object has no attribute 'posonlyargs'\n",
      "To silence this warning, decorate the function with @tf.autograph.experimental.do_not_convert\n",
      "25/26 [===========================>..] - ETA: 0s - loss: 0.5182 - accuracy: 0.7406WARNING:tensorflow:AutoGraph could not transform <function Model.make_test_function.<locals>.test_function at 0x7fbb63632510> and will run it as-is.\n",
      "Please report this to the TensorFlow team. When filing the bug, set the verbosity to 10 (on Linux, `export AUTOGRAPH_VERBOSITY=10`) and attach the full output.\n",
      "Cause: 'arguments' object has no attribute 'posonlyargs'\n",
      "To silence this warning, decorate the function with @tf.autograph.experimental.do_not_convert\n",
      "WARNING: AutoGraph could not transform <function Model.make_test_function.<locals>.test_function at 0x7fbb63632510> and will run it as-is.\n",
      "Please report this to the TensorFlow team. When filing the bug, set the verbosity to 10 (on Linux, `export AUTOGRAPH_VERBOSITY=10`) and attach the full output.\n",
      "Cause: 'arguments' object has no attribute 'posonlyargs'\n",
      "To silence this warning, decorate the function with @tf.autograph.experimental.do_not_convert\n",
      "26/26 [==============================] - 7s 142ms/step - loss: 0.5183 - accuracy: 0.7407 - val_loss: 0.3441 - val_accuracy: 0.8586 - lr: 0.0100\n",
      "Epoch 2/200\n",
      "26/26 [==============================] - 3s 121ms/step - loss: 0.2932 - accuracy: 0.8782 - val_loss: 0.2983 - val_accuracy: 0.8766 - lr: 0.0100\n",
      "Epoch 3/200\n",
      "26/26 [==============================] - 3s 121ms/step - loss: 0.2362 - accuracy: 0.9059 - val_loss: 0.2791 - val_accuracy: 0.8903 - lr: 0.0100\n",
      "Epoch 4/200\n",
      "26/26 [==============================] - 3s 120ms/step - loss: 0.1961 - accuracy: 0.9245 - val_loss: 0.2713 - val_accuracy: 0.8947 - lr: 0.0100\n",
      "Epoch 5/200\n",
      "26/26 [==============================] - 3s 122ms/step - loss: 0.1300 - accuracy: 0.9540 - val_loss: 0.2489 - val_accuracy: 0.9065 - lr: 0.0100\n",
      "Epoch 6/200\n",
      "26/26 [==============================] - 3s 123ms/step - loss: 0.0948 - accuracy: 0.9674 - val_loss: 0.2901 - val_accuracy: 0.9059 - lr: 0.0100\n",
      "Epoch 7/200\n",
      "26/26 [==============================] - 3s 122ms/step - loss: 0.0675 - accuracy: 0.9760 - val_loss: 0.3062 - val_accuracy: 0.9078 - lr: 0.0100\n",
      "Epoch 8/200\n",
      "26/26 [==============================] - 3s 122ms/step - loss: 0.0378 - accuracy: 0.9893 - val_loss: 0.3579 - val_accuracy: 0.9097 - lr: 0.0100\n",
      "Epoch 9/200\n",
      "26/26 [==============================] - 3s 123ms/step - loss: 0.0319 - accuracy: 0.9900 - val_loss: 0.4348 - val_accuracy: 0.8822 - lr: 0.0100\n",
      "Epoch 10/200\n",
      "25/26 [===========================>..] - ETA: 0s - loss: 0.0318 - accuracy: 0.9889\n",
      "Epoch 10: ReduceLROnPlateau reducing learning rate to 0.004999999888241291.\n",
      "26/26 [==============================] - 3s 122ms/step - loss: 0.0321 - accuracy: 0.9886 - val_loss: 0.3820 - val_accuracy: 0.8991 - lr: 0.0100\n",
      "Epoch 10: early stopping\n"
     ]
    }
   ],
   "source": [
    "history_csltm = model_clstm.fit(x_train, y_train, batch_size = batch_size , validation_split = 0.2 , epochs = epochs , callbacks = [learning_rate_reduction, early_stopping])"
   ]
  },
  {
   "cell_type": "code",
   "execution_count": 49,
   "id": "2e2cacd0",
   "metadata": {},
   "outputs": [
    {
     "name": "stdout",
     "output_type": "stream",
     "text": [
      "WARNING:tensorflow:AutoGraph could not transform <function Model.make_predict_function.<locals>.predict_function at 0x7fbb6061d620> and will run it as-is.\n",
      "Please report this to the TensorFlow team. When filing the bug, set the verbosity to 10 (on Linux, `export AUTOGRAPH_VERBOSITY=10`) and attach the full output.\n",
      "Cause: 'arguments' object has no attribute 'posonlyargs'\n",
      "To silence this warning, decorate the function with @tf.autograph.experimental.do_not_convert\n",
      "WARNING: AutoGraph could not transform <function Model.make_predict_function.<locals>.predict_function at 0x7fbb6061d620> and will run it as-is.\n",
      "Please report this to the TensorFlow team. When filing the bug, set the verbosity to 10 (on Linux, `export AUTOGRAPH_VERBOSITY=10`) and attach the full output.\n",
      "Cause: 'arguments' object has no attribute 'posonlyargs'\n",
      "To silence this warning, decorate the function with @tf.autograph.experimental.do_not_convert\n",
      "84/84 [==============================] - 1s 12ms/step\n"
     ]
    }
   ],
   "source": [
    "y_pred_clstm = (model_clstm.predict(X_test) > 0.2).astype(\"int32\")"
   ]
  },
  {
   "cell_type": "code",
   "execution_count": 50,
   "id": "8549251b",
   "metadata": {},
   "outputs": [
    {
     "data": {
      "text/plain": [
       "0.8871028037383177"
      ]
     },
     "execution_count": 50,
     "metadata": {},
     "output_type": "execute_result"
    }
   ],
   "source": [
    "accuracy_score(y_test,y_pred_clstm)"
   ]
  },
  {
   "cell_type": "code",
   "execution_count": 51,
   "id": "eb293a1a",
   "metadata": {},
   "outputs": [
    {
     "name": "stdout",
     "output_type": "stream",
     "text": [
      "              precision    recall  f1-score   support\n",
      "\n",
      "           0    0.95166   0.80000   0.86926      1255\n",
      "           1    0.84506   0.96408   0.90066      1420\n",
      "\n",
      "    accuracy                        0.88710      2675\n",
      "   macro avg    0.89836   0.88204   0.88496      2675\n",
      "weighted avg    0.89507   0.88710   0.88593      2675\n",
      "\n"
     ]
    }
   ],
   "source": [
    "print(classification_report(y_test, y_pred_clstm,digits=5))"
   ]
  },
  {
   "cell_type": "code",
   "execution_count": null,
   "id": "bf7145d7",
   "metadata": {},
   "outputs": [],
   "source": [
    "# input1=Input(shape=(maxlen,))\n",
    "# embed1=Embedding(max_features, output_dim=embed_size, weights=[embedding_matrix], input_length=maxlen, trainable=False)(input1)\n",
    "\n",
    "# #reshaped_input_2 = Reshape((1, 100))(input2)\n",
    "\n",
    "# #reshaped_data = Reshape((200, 1))(feature)\n",
    "# layer1 = Conv1D(filters=128, kernel_size=3, activation='relu',input_dim=2)(embed1)\n",
    "# layer2 = MaxPooling1D(pool_size=2)(layer1)\n",
    "# layer3 = LSTM(units=100 , recurrent_dropout = 0.25 , dropout = 0.2)(layer2)\n",
    "# input2=Input(shape=(100,))\n",
    "# feature =  Concatenate(axis=1)([layer3, input2])\n",
    "# layer4 = Dense(1, activation='sigmoid')(feature)\n",
    "# model_clstm_graph = Model([input1, input2], layer4)\n",
    "\n",
    "# model_clstm_graph.compile(optimizer=keras.optimizers.Adam(lr = 0.01), loss='binary_crossentropy', metrics=['accuracy'])"
   ]
  },
  {
   "cell_type": "code",
   "execution_count": 38,
   "id": "093b1079",
   "metadata": {},
   "outputs": [],
   "source": [
    "input1=Input(shape=(maxlen,))\n",
    "embed1=Embedding(max_features, output_dim=embed_size, weights=[embedding_matrix], input_length=maxlen, trainable=False)(input1)\n",
    "input2=Input(shape=(max_sent_len,100,))\n",
    "#reshaped_input_2 = Reshape((1, 100))(input2)\n",
    "feature =  Concatenate(axis=1)([embed1, input2])\n",
    "#reshaped_data = Reshape((200, 1))(feature)\n",
    "layer1 = Conv1D(filters=128, kernel_size=3, activation='relu',input_dim=2)(feature)\n",
    "layer2 = MaxPooling1D(pool_size=2)(layer1)\n",
    "layer3 = LSTM(units=100 , recurrent_dropout = 0.25 , dropout = 0.2)(layer2)\n",
    "layer4 = Dense(1, activation='sigmoid')(layer3)\n",
    "model_clstm_graph = Model([input1, input2], layer4)\n",
    "\n",
    "model_clstm_graph.compile(optimizer=keras.optimizers.Adam(lr = 0.01), loss='binary_crossentropy', metrics=['accuracy'])"
   ]
  },
  {
   "cell_type": "code",
   "execution_count": 39,
   "id": "88cdbcee",
   "metadata": {},
   "outputs": [
    {
     "name": "stdout",
     "output_type": "stream",
     "text": [
      "Model: \"model_1\"\n",
      "__________________________________________________________________________________________________\n",
      " Layer (type)                   Output Shape         Param #     Connected to                     \n",
      "==================================================================================================\n",
      " input_3 (InputLayer)           [(None, 100)]        0           []                               \n",
      "                                                                                                  \n",
      " embedding_1 (Embedding)        (None, 100, 100)     823100      ['input_3[0][0]']                \n",
      "                                                                                                  \n",
      " input_4 (InputLayer)           [(None, 7, 100)]     0           []                               \n",
      "                                                                                                  \n",
      " concatenate_1 (Concatenate)    (None, 107, 100)     0           ['embedding_1[0][0]',            \n",
      "                                                                  'input_4[0][0]']                \n",
      "                                                                                                  \n",
      " conv1d_1 (Conv1D)              (None, 105, 128)     38528       ['concatenate_1[0][0]']          \n",
      "                                                                                                  \n",
      " max_pooling1d_1 (MaxPooling1D)  (None, 52, 128)     0           ['conv1d_1[0][0]']               \n",
      "                                                                                                  \n",
      " lstm_1 (LSTM)                  (None, 100)          91600       ['max_pooling1d_1[0][0]']        \n",
      "                                                                                                  \n",
      " dense_1 (Dense)                (None, 1)            101         ['lstm_1[0][0]']                 \n",
      "                                                                                                  \n",
      "==================================================================================================\n",
      "Total params: 953,329\n",
      "Trainable params: 130,229\n",
      "Non-trainable params: 823,100\n",
      "__________________________________________________________________________________________________\n"
     ]
    }
   ],
   "source": [
    "model_clstm_graph.summary()"
   ]
  },
  {
   "cell_type": "code",
   "execution_count": 40,
   "id": "07d1f1f4",
   "metadata": {},
   "outputs": [
    {
     "name": "stdout",
     "output_type": "stream",
     "text": [
      "Epoch 1/200\n",
      "WARNING:tensorflow:AutoGraph could not transform <function Model.make_train_function.<locals>.train_function at 0x7fbd6c17cf28> and will run it as-is.\n",
      "Please report this to the TensorFlow team. When filing the bug, set the verbosity to 10 (on Linux, `export AUTOGRAPH_VERBOSITY=10`) and attach the full output.\n",
      "Cause: 'arguments' object has no attribute 'posonlyargs'\n",
      "To silence this warning, decorate the function with @tf.autograph.experimental.do_not_convert\n",
      "WARNING: AutoGraph could not transform <function Model.make_train_function.<locals>.train_function at 0x7fbd6c17cf28> and will run it as-is.\n",
      "Please report this to the TensorFlow team. When filing the bug, set the verbosity to 10 (on Linux, `export AUTOGRAPH_VERBOSITY=10`) and attach the full output.\n",
      "Cause: 'arguments' object has no attribute 'posonlyargs'\n",
      "To silence this warning, decorate the function with @tf.autograph.experimental.do_not_convert\n",
      "250/250 [==============================] - ETA: 0s - loss: 0.1881 - accuracy: 0.9199WARNING:tensorflow:AutoGraph could not transform <function Model.make_test_function.<locals>.test_function at 0x7fbb619dbea0> and will run it as-is.\n",
      "Please report this to the TensorFlow team. When filing the bug, set the verbosity to 10 (on Linux, `export AUTOGRAPH_VERBOSITY=10`) and attach the full output.\n",
      "Cause: 'arguments' object has no attribute 'posonlyargs'\n",
      "To silence this warning, decorate the function with @tf.autograph.experimental.do_not_convert\n",
      "WARNING: AutoGraph could not transform <function Model.make_test_function.<locals>.test_function at 0x7fbb619dbea0> and will run it as-is.\n",
      "Please report this to the TensorFlow team. When filing the bug, set the verbosity to 10 (on Linux, `export AUTOGRAPH_VERBOSITY=10`) and attach the full output.\n",
      "Cause: 'arguments' object has no attribute 'posonlyargs'\n",
      "To silence this warning, decorate the function with @tf.autograph.experimental.do_not_convert\n",
      "250/250 [==============================] - 35s 128ms/step - loss: 0.1881 - accuracy: 0.9199 - val_loss: 0.3306 - val_accuracy: 0.9134 - lr: 0.0100\n",
      "Epoch 2/200\n",
      "250/250 [==============================] - 31s 123ms/step - loss: 0.0235 - accuracy: 0.9923 - val_loss: 0.4413 - val_accuracy: 0.9171 - lr: 0.0100\n",
      "Epoch 3/200\n",
      "250/250 [==============================] - 30s 121ms/step - loss: 0.0102 - accuracy: 0.9968 - val_loss: 0.4995 - val_accuracy: 0.9196 - lr: 0.0100\n",
      "Epoch 4/200\n",
      "250/250 [==============================] - 30s 120ms/step - loss: 0.0094 - accuracy: 0.9971 - val_loss: 0.5160 - val_accuracy: 0.9078 - lr: 0.0100\n",
      "Epoch 5/200\n",
      "250/250 [==============================] - ETA: 0s - loss: 0.0045 - accuracy: 0.9984\n",
      "Epoch 5: ReduceLROnPlateau reducing learning rate to 0.004999999888241291.\n",
      "250/250 [==============================] - 30s 121ms/step - loss: 0.0045 - accuracy: 0.9984 - val_loss: 0.5578 - val_accuracy: 0.9128 - lr: 0.0100\n",
      "Epoch 6/200\n",
      "250/250 [==============================] - 30s 120ms/step - loss: 0.0012 - accuracy: 0.9997 - val_loss: 0.5788 - val_accuracy: 0.9165 - lr: 0.0050\n",
      "Epoch 6: early stopping\n"
     ]
    }
   ],
   "source": [
    "history_clstm_graph = model_clstm_graph.fit([x_train,np.array(x_g_train)], y_train, batch_size = batch_size , validation_split = .2 , epochs = epochs , callbacks = [learning_rate_reduction, early_stopping], steps_per_epoch=len(x_train) // 32)"
   ]
  },
  {
   "cell_type": "code",
   "execution_count": 41,
   "id": "b38604a3",
   "metadata": {},
   "outputs": [
    {
     "name": "stdout",
     "output_type": "stream",
     "text": [
      "WARNING:tensorflow:AutoGraph could not transform <function Model.make_predict_function.<locals>.predict_function at 0x7fbb64841620> and will run it as-is.\n",
      "Please report this to the TensorFlow team. When filing the bug, set the verbosity to 10 (on Linux, `export AUTOGRAPH_VERBOSITY=10`) and attach the full output.\n",
      "Cause: 'arguments' object has no attribute 'posonlyargs'\n",
      "To silence this warning, decorate the function with @tf.autograph.experimental.do_not_convert\n",
      "WARNING: AutoGraph could not transform <function Model.make_predict_function.<locals>.predict_function at 0x7fbb64841620> and will run it as-is.\n",
      "Please report this to the TensorFlow team. When filing the bug, set the verbosity to 10 (on Linux, `export AUTOGRAPH_VERBOSITY=10`) and attach the full output.\n",
      "Cause: 'arguments' object has no attribute 'posonlyargs'\n",
      "To silence this warning, decorate the function with @tf.autograph.experimental.do_not_convert\n",
      "84/84 [==============================] - 1s 13ms/step\n"
     ]
    }
   ],
   "source": [
    "y_pred_clstm_graph = (model_clstm_graph.predict([X_test,np.array(x_g_test)]) > 0.9).astype(\"int32\")"
   ]
  },
  {
   "cell_type": "code",
   "execution_count": 42,
   "id": "fb23ab53",
   "metadata": {},
   "outputs": [
    {
     "data": {
      "text/plain": [
       "0.9226168224299065"
      ]
     },
     "execution_count": 42,
     "metadata": {},
     "output_type": "execute_result"
    }
   ],
   "source": [
    "accuracy_score(y_test,y_pred_clstm_graph)"
   ]
  },
  {
   "cell_type": "code",
   "execution_count": 44,
   "id": "8d10576d",
   "metadata": {},
   "outputs": [
    {
     "name": "stdout",
     "output_type": "stream",
     "text": [
      "              precision    recall  f1-score   support\n",
      "\n",
      "           0    0.90184   0.93705   0.91911      1255\n",
      "           1    0.94238   0.90986   0.92583      1420\n",
      "\n",
      "    accuracy                        0.92262      2675\n",
      "   macro avg    0.92211   0.92346   0.92247      2675\n",
      "weighted avg    0.92336   0.92262   0.92268      2675\n",
      "\n"
     ]
    }
   ],
   "source": [
    "print(classification_report(y_test, y_pred_clstm_graph,digits=5))"
   ]
  },
  {
   "cell_type": "code",
   "execution_count": 52,
   "id": "69b54548",
   "metadata": {},
   "outputs": [
    {
     "name": "stdout",
     "output_type": "stream",
     "text": [
      "Indices where only Model 2 has correct predictions:\n",
      "[30, 73, 74, 77, 86, 87, 124, 139, 146, 157, 190, 198, 212, 228, 253, 254, 263, 280, 303, 318, 320, 362, 364, 368, 415, 417, 420, 480, 492, 499, 504, 509, 516, 523, 543, 569, 573, 602, 604, 628, 632, 634, 642, 677, 701, 727, 735, 766, 768, 796, 798, 817, 820, 846, 861, 889, 905, 912, 926, 927, 941, 947, 953, 962, 968, 976, 978, 981, 988, 990, 1000, 1008, 1009, 1039, 1063, 1066, 1084, 1101, 1102, 1116, 1126, 1133, 1141, 1142, 1144, 1153, 1168, 1172, 1180, 1204, 1240, 1265, 1285, 1299, 1310, 1333, 1335, 1339, 1363, 1373, 1391, 1399, 1400, 1418, 1423, 1436, 1443, 1444, 1482, 1483, 1486, 1488, 1510, 1512, 1518, 1520, 1522, 1537, 1551, 1597, 1627, 1679, 1682, 1692, 1707, 1710, 1711, 1721, 1735, 1738, 1754, 1757, 1766, 1775, 1789, 1790, 1803, 1834, 1839, 1844, 1857, 1883, 1917, 1923, 1939, 1955, 1989, 1993, 2000, 2002, 2013, 2026, 2034, 2043, 2045, 2062, 2073, 2086, 2103, 2131, 2140, 2146, 2170, 2181, 2187, 2203, 2208, 2225, 2238, 2252, 2271, 2278, 2306, 2314, 2316, 2322, 2339, 2350, 2352, 2353, 2371, 2380, 2432, 2435, 2439, 2441, 2451, 2471, 2487, 2494, 2495, 2523, 2544, 2552, 2574, 2597, 2610, 2627, 2629, 2651, 2665]\n"
     ]
    }
   ],
   "source": [
    "model2_correct_indices=[]\n",
    "for i in range(len(list(y_test))):\n",
    "    if list(y_test)[i] != y_pred_clstm[i] and list(y_test)[i] == y_pred_clstm_graph[i]:\n",
    "        model2_correct_indices.append(i)\n",
    "\n",
    "print(\"Indices where only Model 2 has correct predictions:\")\n",
    "print(model2_correct_indices)"
   ]
  },
  {
   "cell_type": "code",
   "execution_count": 55,
   "id": "ea67169a",
   "metadata": {},
   "outputs": [],
   "source": [
    "\n",
    "\n",
    "# Create the intermediate model to extract feature vector\n",
    "text_layer_featutres = Model(inputs=model_clstm_graph.input, outputs=model_clstm_graph.get_layer('embedding_1').output)\n",
    "amr_layer_featutres = Model(inputs=model_clstm_graph.input, outputs=model_clstm_graph.get_layer('input_4').output)\n",
    "text_amr_layer_featutres = Model(inputs=model_clstm_graph.input, outputs=model_clstm_graph.get_layer('concatenate_1').output)\n"
   ]
  },
  {
   "cell_type": "code",
   "execution_count": 56,
   "id": "3093192e",
   "metadata": {},
   "outputs": [
    {
     "name": "stdout",
     "output_type": "stream",
     "text": [
      "WARNING:tensorflow:AutoGraph could not transform <function Model.make_predict_function.<locals>.predict_function at 0x7fbd809d5f28> and will run it as-is.\n",
      "Please report this to the TensorFlow team. When filing the bug, set the verbosity to 10 (on Linux, `export AUTOGRAPH_VERBOSITY=10`) and attach the full output.\n",
      "Cause: 'arguments' object has no attribute 'posonlyargs'\n",
      "To silence this warning, decorate the function with @tf.autograph.experimental.do_not_convert\n",
      "WARNING: AutoGraph could not transform <function Model.make_predict_function.<locals>.predict_function at 0x7fbd809d5f28> and will run it as-is.\n",
      "Please report this to the TensorFlow team. When filing the bug, set the verbosity to 10 (on Linux, `export AUTOGRAPH_VERBOSITY=10`) and attach the full output.\n",
      "Cause: 'arguments' object has no attribute 'posonlyargs'\n",
      "To silence this warning, decorate the function with @tf.autograph.experimental.do_not_convert\n",
      "84/84 [==============================] - 0s 1ms/step\n",
      "WARNING:tensorflow:AutoGraph could not transform <function Model.make_predict_function.<locals>.predict_function at 0x7fbb640e4a60> and will run it as-is.\n",
      "Please report this to the TensorFlow team. When filing the bug, set the verbosity to 10 (on Linux, `export AUTOGRAPH_VERBOSITY=10`) and attach the full output.\n",
      "Cause: 'arguments' object has no attribute 'posonlyargs'\n",
      "To silence this warning, decorate the function with @tf.autograph.experimental.do_not_convert\n",
      "WARNING: AutoGraph could not transform <function Model.make_predict_function.<locals>.predict_function at 0x7fbb640e4a60> and will run it as-is.\n",
      "Please report this to the TensorFlow team. When filing the bug, set the verbosity to 10 (on Linux, `export AUTOGRAPH_VERBOSITY=10`) and attach the full output.\n",
      "Cause: 'arguments' object has no attribute 'posonlyargs'\n",
      "To silence this warning, decorate the function with @tf.autograph.experimental.do_not_convert\n",
      "84/84 [==============================] - 0s 1ms/step\n",
      "WARNING:tensorflow:AutoGraph could not transform <function Model.make_predict_function.<locals>.predict_function at 0x7fbb6404be18> and will run it as-is.\n",
      "Please report this to the TensorFlow team. When filing the bug, set the verbosity to 10 (on Linux, `export AUTOGRAPH_VERBOSITY=10`) and attach the full output.\n",
      "Cause: 'arguments' object has no attribute 'posonlyargs'\n",
      "To silence this warning, decorate the function with @tf.autograph.experimental.do_not_convert\n",
      "WARNING: AutoGraph could not transform <function Model.make_predict_function.<locals>.predict_function at 0x7fbb6404be18> and will run it as-is.\n",
      "Please report this to the TensorFlow team. When filing the bug, set the verbosity to 10 (on Linux, `export AUTOGRAPH_VERBOSITY=10`) and attach the full output.\n",
      "Cause: 'arguments' object has no attribute 'posonlyargs'\n",
      "To silence this warning, decorate the function with @tf.autograph.experimental.do_not_convert\n",
      "84/84 [==============================] - 0s 2ms/step\n"
     ]
    }
   ],
   "source": [
    "text_feature_vector = text_layer_featutres.predict([X_test,np.array(x_g_test)])\n",
    "amr_feature_vector = amr_layer_featutres.predict([X_test,np.array(x_g_test)])\n",
    "text_amr_feature_vector = text_amr_layer_featutres.predict([X_test,np.array(x_g_test)])"
   ]
  },
  {
   "cell_type": "code",
   "execution_count": 57,
   "id": "170574a0",
   "metadata": {},
   "outputs": [
    {
     "data": {
      "text/plain": [
       "2675"
      ]
     },
     "execution_count": 57,
     "metadata": {},
     "output_type": "execute_result"
    }
   ],
   "source": [
    "len(amr_feature_vector)"
   ]
  },
  {
   "cell_type": "code",
   "execution_count": 110,
   "id": "7d1a84cd",
   "metadata": {},
   "outputs": [
    {
     "name": "stdout",
     "output_type": "stream",
     "text": [
      "0 [1] [0]\n"
     ]
    }
   ],
   "source": [
    "print(list(y_test)[30], y_pred_clstm[30], y_pred_clstm_graph[30])"
   ]
  },
  {
   "cell_type": "code",
   "execution_count": 120,
   "id": "d2146032",
   "metadata": {},
   "outputs": [
    {
     "data": {
      "text/plain": [
       "array([[ 0.03137232,  0.06711751,  0.02044488, -0.03822739, -0.0107991 ,\n",
       "         0.02188032, -0.00087005, -0.03542587, -0.03563093, -0.0083448 ,\n",
       "        -0.01886936, -0.06899377,  0.04593752,  0.03458804,  0.01170159,\n",
       "         0.05758818,  0.03316605, -0.01884029, -0.01341788,  0.02556938,\n",
       "         0.02666711,  0.01691762,  0.09655944,  0.04338883,  0.06570669,\n",
       "        -0.00067764, -0.0449577 , -0.07833739,  0.09732731, -0.00097456,\n",
       "        -0.07924827, -0.02149149,  0.00462181,  0.03570174, -0.07662674,\n",
       "         0.01008137, -0.13839948,  0.12497722, -0.00591132,  0.04932652,\n",
       "        -0.03011743, -0.06146292, -0.02275738,  0.11232427,  0.02398733,\n",
       "         0.03886502,  0.00360268,  0.05966533,  0.0684947 ,  0.12823166,\n",
       "        -0.00456704,  0.01467984, -0.02991278, -0.0523587 , -0.03838616,\n",
       "        -0.04075903, -0.0624545 , -0.05003711,  0.03346669, -0.04810331,\n",
       "         0.12707549,  0.07610152, -0.05656109, -0.01125887,  0.15182345,\n",
       "         0.03701625,  0.00091872,  0.00116573,  0.06027794, -0.0697746 ,\n",
       "        -0.00279383, -0.00543272,  0.00746701, -0.01640906, -0.08948258,\n",
       "         0.0963525 ,  0.001371  , -0.10955899,  0.05095794, -0.03772379,\n",
       "        -0.02689048,  0.13857926, -0.06669393, -0.05400889, -0.10977171,\n",
       "        -0.1886778 , -0.09496783, -0.00288935,  0.04748897, -0.04324319,\n",
       "        -0.03753578,  0.02182159,  0.08426938,  0.06338891,  0.04673198,\n",
       "         0.00128374,  0.02291227, -0.05250466,  0.08162563,  0.03384351],\n",
       "       [ 0.        ,  0.        ,  0.        ,  0.        ,  0.        ,\n",
       "         0.        ,  0.        ,  0.        ,  0.        ,  0.        ,\n",
       "         0.        ,  0.        ,  0.        ,  0.        ,  0.        ,\n",
       "         0.        ,  0.        ,  0.        ,  0.        ,  0.        ,\n",
       "         0.        ,  0.        ,  0.        ,  0.        ,  0.        ,\n",
       "         0.        ,  0.        ,  0.        ,  0.        ,  0.        ,\n",
       "         0.        ,  0.        ,  0.        ,  0.        ,  0.        ,\n",
       "         0.        ,  0.        ,  0.        ,  0.        ,  0.        ,\n",
       "         0.        ,  0.        ,  0.        ,  0.        ,  0.        ,\n",
       "         0.        ,  0.        ,  0.        ,  0.        ,  0.        ,\n",
       "         0.        ,  0.        ,  0.        ,  0.        ,  0.        ,\n",
       "         0.        ,  0.        ,  0.        ,  0.        ,  0.        ,\n",
       "         0.        ,  0.        ,  0.        ,  0.        ,  0.        ,\n",
       "         0.        ,  0.        ,  0.        ,  0.        ,  0.        ,\n",
       "         0.        ,  0.        ,  0.        ,  0.        ,  0.        ,\n",
       "         0.        ,  0.        ,  0.        ,  0.        ,  0.        ,\n",
       "         0.        ,  0.        ,  0.        ,  0.        ,  0.        ,\n",
       "         0.        ,  0.        ,  0.        ,  0.        ,  0.        ,\n",
       "         0.        ,  0.        ,  0.        ,  0.        ,  0.        ,\n",
       "         0.        ,  0.        ,  0.        ,  0.        ,  0.        ],\n",
       "       [ 0.        ,  0.        ,  0.        ,  0.        ,  0.        ,\n",
       "         0.        ,  0.        ,  0.        ,  0.        ,  0.        ,\n",
       "         0.        ,  0.        ,  0.        ,  0.        ,  0.        ,\n",
       "         0.        ,  0.        ,  0.        ,  0.        ,  0.        ,\n",
       "         0.        ,  0.        ,  0.        ,  0.        ,  0.        ,\n",
       "         0.        ,  0.        ,  0.        ,  0.        ,  0.        ,\n",
       "         0.        ,  0.        ,  0.        ,  0.        ,  0.        ,\n",
       "         0.        ,  0.        ,  0.        ,  0.        ,  0.        ,\n",
       "         0.        ,  0.        ,  0.        ,  0.        ,  0.        ,\n",
       "         0.        ,  0.        ,  0.        ,  0.        ,  0.        ,\n",
       "         0.        ,  0.        ,  0.        ,  0.        ,  0.        ,\n",
       "         0.        ,  0.        ,  0.        ,  0.        ,  0.        ,\n",
       "         0.        ,  0.        ,  0.        ,  0.        ,  0.        ,\n",
       "         0.        ,  0.        ,  0.        ,  0.        ,  0.        ,\n",
       "         0.        ,  0.        ,  0.        ,  0.        ,  0.        ,\n",
       "         0.        ,  0.        ,  0.        ,  0.        ,  0.        ,\n",
       "         0.        ,  0.        ,  0.        ,  0.        ,  0.        ,\n",
       "         0.        ,  0.        ,  0.        ,  0.        ,  0.        ,\n",
       "         0.        ,  0.        ,  0.        ,  0.        ,  0.        ,\n",
       "         0.        ,  0.        ,  0.        ,  0.        ,  0.        ],\n",
       "       [ 0.        ,  0.        ,  0.        ,  0.        ,  0.        ,\n",
       "         0.        ,  0.        ,  0.        ,  0.        ,  0.        ,\n",
       "         0.        ,  0.        ,  0.        ,  0.        ,  0.        ,\n",
       "         0.        ,  0.        ,  0.        ,  0.        ,  0.        ,\n",
       "         0.        ,  0.        ,  0.        ,  0.        ,  0.        ,\n",
       "         0.        ,  0.        ,  0.        ,  0.        ,  0.        ,\n",
       "         0.        ,  0.        ,  0.        ,  0.        ,  0.        ,\n",
       "         0.        ,  0.        ,  0.        ,  0.        ,  0.        ,\n",
       "         0.        ,  0.        ,  0.        ,  0.        ,  0.        ,\n",
       "         0.        ,  0.        ,  0.        ,  0.        ,  0.        ,\n",
       "         0.        ,  0.        ,  0.        ,  0.        ,  0.        ,\n",
       "         0.        ,  0.        ,  0.        ,  0.        ,  0.        ,\n",
       "         0.        ,  0.        ,  0.        ,  0.        ,  0.        ,\n",
       "         0.        ,  0.        ,  0.        ,  0.        ,  0.        ,\n",
       "         0.        ,  0.        ,  0.        ,  0.        ,  0.        ,\n",
       "         0.        ,  0.        ,  0.        ,  0.        ,  0.        ,\n",
       "         0.        ,  0.        ,  0.        ,  0.        ,  0.        ,\n",
       "         0.        ,  0.        ,  0.        ,  0.        ,  0.        ,\n",
       "         0.        ,  0.        ,  0.        ,  0.        ,  0.        ,\n",
       "         0.        ,  0.        ,  0.        ,  0.        ,  0.        ],\n",
       "       [ 0.        ,  0.        ,  0.        ,  0.        ,  0.        ,\n",
       "         0.        ,  0.        ,  0.        ,  0.        ,  0.        ,\n",
       "         0.        ,  0.        ,  0.        ,  0.        ,  0.        ,\n",
       "         0.        ,  0.        ,  0.        ,  0.        ,  0.        ,\n",
       "         0.        ,  0.        ,  0.        ,  0.        ,  0.        ,\n",
       "         0.        ,  0.        ,  0.        ,  0.        ,  0.        ,\n",
       "         0.        ,  0.        ,  0.        ,  0.        ,  0.        ,\n",
       "         0.        ,  0.        ,  0.        ,  0.        ,  0.        ,\n",
       "         0.        ,  0.        ,  0.        ,  0.        ,  0.        ,\n",
       "         0.        ,  0.        ,  0.        ,  0.        ,  0.        ,\n",
       "         0.        ,  0.        ,  0.        ,  0.        ,  0.        ,\n",
       "         0.        ,  0.        ,  0.        ,  0.        ,  0.        ,\n",
       "         0.        ,  0.        ,  0.        ,  0.        ,  0.        ,\n",
       "         0.        ,  0.        ,  0.        ,  0.        ,  0.        ,\n",
       "         0.        ,  0.        ,  0.        ,  0.        ,  0.        ,\n",
       "         0.        ,  0.        ,  0.        ,  0.        ,  0.        ,\n",
       "         0.        ,  0.        ,  0.        ,  0.        ,  0.        ,\n",
       "         0.        ,  0.        ,  0.        ,  0.        ,  0.        ,\n",
       "         0.        ,  0.        ,  0.        ,  0.        ,  0.        ,\n",
       "         0.        ,  0.        ,  0.        ,  0.        ,  0.        ],\n",
       "       [ 0.        ,  0.        ,  0.        ,  0.        ,  0.        ,\n",
       "         0.        ,  0.        ,  0.        ,  0.        ,  0.        ,\n",
       "         0.        ,  0.        ,  0.        ,  0.        ,  0.        ,\n",
       "         0.        ,  0.        ,  0.        ,  0.        ,  0.        ,\n",
       "         0.        ,  0.        ,  0.        ,  0.        ,  0.        ,\n",
       "         0.        ,  0.        ,  0.        ,  0.        ,  0.        ,\n",
       "         0.        ,  0.        ,  0.        ,  0.        ,  0.        ,\n",
       "         0.        ,  0.        ,  0.        ,  0.        ,  0.        ,\n",
       "         0.        ,  0.        ,  0.        ,  0.        ,  0.        ,\n",
       "         0.        ,  0.        ,  0.        ,  0.        ,  0.        ,\n",
       "         0.        ,  0.        ,  0.        ,  0.        ,  0.        ,\n",
       "         0.        ,  0.        ,  0.        ,  0.        ,  0.        ,\n",
       "         0.        ,  0.        ,  0.        ,  0.        ,  0.        ,\n",
       "         0.        ,  0.        ,  0.        ,  0.        ,  0.        ,\n",
       "         0.        ,  0.        ,  0.        ,  0.        ,  0.        ,\n",
       "         0.        ,  0.        ,  0.        ,  0.        ,  0.        ,\n",
       "         0.        ,  0.        ,  0.        ,  0.        ,  0.        ,\n",
       "         0.        ,  0.        ,  0.        ,  0.        ,  0.        ,\n",
       "         0.        ,  0.        ,  0.        ,  0.        ,  0.        ,\n",
       "         0.        ,  0.        ,  0.        ,  0.        ,  0.        ],\n",
       "       [ 0.        ,  0.        ,  0.        ,  0.        ,  0.        ,\n",
       "         0.        ,  0.        ,  0.        ,  0.        ,  0.        ,\n",
       "         0.        ,  0.        ,  0.        ,  0.        ,  0.        ,\n",
       "         0.        ,  0.        ,  0.        ,  0.        ,  0.        ,\n",
       "         0.        ,  0.        ,  0.        ,  0.        ,  0.        ,\n",
       "         0.        ,  0.        ,  0.        ,  0.        ,  0.        ,\n",
       "         0.        ,  0.        ,  0.        ,  0.        ,  0.        ,\n",
       "         0.        ,  0.        ,  0.        ,  0.        ,  0.        ,\n",
       "         0.        ,  0.        ,  0.        ,  0.        ,  0.        ,\n",
       "         0.        ,  0.        ,  0.        ,  0.        ,  0.        ,\n",
       "         0.        ,  0.        ,  0.        ,  0.        ,  0.        ,\n",
       "         0.        ,  0.        ,  0.        ,  0.        ,  0.        ,\n",
       "         0.        ,  0.        ,  0.        ,  0.        ,  0.        ,\n",
       "         0.        ,  0.        ,  0.        ,  0.        ,  0.        ,\n",
       "         0.        ,  0.        ,  0.        ,  0.        ,  0.        ,\n",
       "         0.        ,  0.        ,  0.        ,  0.        ,  0.        ,\n",
       "         0.        ,  0.        ,  0.        ,  0.        ,  0.        ,\n",
       "         0.        ,  0.        ,  0.        ,  0.        ,  0.        ,\n",
       "         0.        ,  0.        ,  0.        ,  0.        ,  0.        ,\n",
       "         0.        ,  0.        ,  0.        ,  0.        ,  0.        ]])"
      ]
     },
     "execution_count": 120,
     "metadata": {},
     "output_type": "execute_result"
    }
   ],
   "source": [
    "[X_test,np.array(x_g_test)][1][30]"
   ]
  },
  {
   "cell_type": "code",
   "execution_count": 58,
   "id": "f8b0aefc",
   "metadata": {
    "scrolled": false
   },
   "outputs": [
    {
     "data": {
      "image/png": "[encoded data removed]",
      "text/plain": [
       "<Figure size 640x480 with 1 Axes>"
      ]
     },
     "metadata": {},
     "output_type": "display_data"
    }
   ],
   "source": [
    "import matplotlib.pyplot as plt\n",
    "\n",
    "# Assuming you have your feature vectors stored in variables 'feature_vector1' and 'feature_vectors3'\n",
    "# Assuming you have your true labels stored in variables 'labels1' and 'labels3'\n",
    "\n",
    "# # Scatter plot for feature_vector1\n",
    "# plt.scatter(range(len(text_feature_vector[2629][5])), text_feature_vector[2629][5], c='blue')\n",
    "# plt.xlabel('Feature Index')\n",
    "# plt.ylabel('Feature Value')\n",
    "# #plt.ylim(-0.2, 0.15)\n",
    "# plt.title('Scatter Plot - Feature Vector 1')\n",
    "\n",
    "# plt.show()\n",
    "\n",
    "\n",
    "# plt.scatter(range(len(amr_feature_vector[2629][0])),  amr_feature_vector[2629][0],\n",
    "#             c='green')\n",
    "\n",
    "# plt.xlabel('Feature Index')\n",
    "# plt.ylabel('Feature Value')\n",
    "# plt.title('Scatter Plot - Feature Vector 2')\n",
    "\n",
    "# plt.show()\n",
    "\n",
    "# Scatter plot for feature_vector1\n",
    "#plt.scatter(range(len([X_test,np.array(x_g_test)][0][910])+len([X_test,np.array(x_g_test)][1][910][1])), np.concatenate(([X_test,np.array(x_g_test)][0][910], [X_test,np.array(x_g_test)][1][910][0]),axis=0), cmap='viridis')\n",
    "\n",
    "plt.scatter(range(len(text_amr_feature_vector[1738][:100][5])), text_amr_feature_vector[1738][:100][5],c='blue')\n",
    "plt.scatter(range(len(text_amr_feature_vector[1738][100:][0])), text_amr_feature_vector[1738][100:][0],c='green')\n",
    "plt.xlabel('Feature Index')\n",
    "plt.ylabel('Feature Value')\n",
    "plt.title('Scatter Plot - Feature Vector 3')\n",
    "\n",
    "plt.show()\n",
    "\n",
    "\n",
    "# # Scatter plot for feature_vectors3\n",
    "# for i in range(len(feature_vectors3)):\n",
    "#     plt.scatter(range(len(x_train[30])), feature_vectors3[i], c=labels3[i], cmap='viridis')\n",
    "# plt.xlabel('Feature Index')\n",
    "# plt.ylabel('Feature Value')\n",
    "# plt.title('Scatter Plot - Feature Vector 3')\n",
    "# plt.colorbar(label='True Labels')\n",
    "# plt.show()\n"
   ]
  },
  {
   "cell_type": "code",
   "execution_count": 77,
   "id": "3bd43fee",
   "metadata": {},
   "outputs": [
    {
     "data": {
      "text/plain": [
       "0.075607635"
      ]
     },
     "execution_count": 77,
     "metadata": {},
     "output_type": "execute_result"
    }
   ],
   "source": [
    "feature_vector_2[1]"
   ]
  },
  {
   "cell_type": "code",
   "execution_count": 80,
   "id": "53fdec69",
   "metadata": {},
   "outputs": [
    {
     "name": "stderr",
     "output_type": "stream",
     "text": [
      "No artists with labels found to put in legend.  Note that artists whose label start with an underscore are ignored when legend() is called with no argument.\n"
     ]
    },
    {
     "data": {
      "text/plain": [
       "<Figure size 1000x600 with 0 Axes>"
      ]
     },
     "metadata": {},
     "output_type": "display_data"
    },
    {
     "data": {
      "image/png": "[encoded data removed]",
      "text/plain": [
       "<Figure size 600x600 with 3 Axes>"
      ]
     },
     "metadata": {},
     "output_type": "display_data"
    }
   ],
   "source": [
    "import seaborn as sns\n",
    "import matplotlib.pyplot as plt\n",
    "\n",
    "#\n",
    "# Create a heatmap\n",
    "plt.figure(figsize=(10, 6))\n",
    "g = sns.jointplot(\n",
    "    data=df,\n",
    "    x=\"Index\", y=\"Value\",hue=\"Type\",kind='kde'\n",
    ")\n",
    "\n",
    "# Set labels and title\n",
    "plt.xlabel('Feature Index')\n",
    "plt.ylabel('Feature Vector')\n",
    "plt.legend()\n",
    "plt.title('Heatmap - Feature Vector 3')\n",
    "\n",
    "# Show the plot\n",
    "plt.show()\n"
   ]
  },
  {
   "cell_type": "code",
   "execution_count": 74,
   "id": "5fd0c723",
   "metadata": {},
   "outputs": [
    {
     "data": {
      "text/html": [
       "<div>\n",
       "<style scoped>\n",
       "    .dataframe tbody tr th:only-of-type {\n",
       "        vertical-align: middle;\n",
       "    }\n",
       "\n",
       "    .dataframe tbody tr th {\n",
       "        vertical-align: top;\n",
       "    }\n",
       "\n",
       "    .dataframe thead th {\n",
       "        text-align: right;\n",
       "    }\n",
       "</style>\n",
       "<table border=\"1\" class=\"dataframe\">\n",
       "  <thead>\n",
       "    <tr style=\"text-align: right;\">\n",
       "      <th></th>\n",
       "      <th>species</th>\n",
       "      <th>island</th>\n",
       "      <th>bill_length_mm</th>\n",
       "      <th>bill_depth_mm</th>\n",
       "      <th>flipper_length_mm</th>\n",
       "      <th>body_mass_g</th>\n",
       "      <th>sex</th>\n",
       "    </tr>\n",
       "  </thead>\n",
       "  <tbody>\n",
       "    <tr>\n",
       "      <th>0</th>\n",
       "      <td>Adelie</td>\n",
       "      <td>Torgersen</td>\n",
       "      <td>39.1</td>\n",
       "      <td>18.7</td>\n",
       "      <td>181.0</td>\n",
       "      <td>3750.0</td>\n",
       "      <td>Male</td>\n",
       "    </tr>\n",
       "    <tr>\n",
       "      <th>1</th>\n",
       "      <td>Adelie</td>\n",
       "      <td>Torgersen</td>\n",
       "      <td>39.5</td>\n",
       "      <td>17.4</td>\n",
       "      <td>186.0</td>\n",
       "      <td>3800.0</td>\n",
       "      <td>Female</td>\n",
       "    </tr>\n",
       "    <tr>\n",
       "      <th>2</th>\n",
       "      <td>Adelie</td>\n",
       "      <td>Torgersen</td>\n",
       "      <td>40.3</td>\n",
       "      <td>18.0</td>\n",
       "      <td>195.0</td>\n",
       "      <td>3250.0</td>\n",
       "      <td>Female</td>\n",
       "    </tr>\n",
       "    <tr>\n",
       "      <th>3</th>\n",
       "      <td>Adelie</td>\n",
       "      <td>Torgersen</td>\n",
       "      <td>NaN</td>\n",
       "      <td>NaN</td>\n",
       "      <td>NaN</td>\n",
       "      <td>NaN</td>\n",
       "      <td>NaN</td>\n",
       "    </tr>\n",
       "    <tr>\n",
       "      <th>4</th>\n",
       "      <td>Adelie</td>\n",
       "      <td>Torgersen</td>\n",
       "      <td>36.7</td>\n",
       "      <td>19.3</td>\n",
       "      <td>193.0</td>\n",
       "      <td>3450.0</td>\n",
       "      <td>Female</td>\n",
       "    </tr>\n",
       "    <tr>\n",
       "      <th>...</th>\n",
       "      <td>...</td>\n",
       "      <td>...</td>\n",
       "      <td>...</td>\n",
       "      <td>...</td>\n",
       "      <td>...</td>\n",
       "      <td>...</td>\n",
       "      <td>...</td>\n",
       "    </tr>\n",
       "    <tr>\n",
       "      <th>339</th>\n",
       "      <td>Gentoo</td>\n",
       "      <td>Biscoe</td>\n",
       "      <td>NaN</td>\n",
       "      <td>NaN</td>\n",
       "      <td>NaN</td>\n",
       "      <td>NaN</td>\n",
       "      <td>NaN</td>\n",
       "    </tr>\n",
       "    <tr>\n",
       "      <th>340</th>\n",
       "      <td>Gentoo</td>\n",
       "      <td>Biscoe</td>\n",
       "      <td>46.8</td>\n",
       "      <td>14.3</td>\n",
       "      <td>215.0</td>\n",
       "      <td>4850.0</td>\n",
       "      <td>Female</td>\n",
       "    </tr>\n",
       "    <tr>\n",
       "      <th>341</th>\n",
       "      <td>Gentoo</td>\n",
       "      <td>Biscoe</td>\n",
       "      <td>50.4</td>\n",
       "      <td>15.7</td>\n",
       "      <td>222.0</td>\n",
       "      <td>5750.0</td>\n",
       "      <td>Male</td>\n",
       "    </tr>\n",
       "    <tr>\n",
       "      <th>342</th>\n",
       "      <td>Gentoo</td>\n",
       "      <td>Biscoe</td>\n",
       "      <td>45.2</td>\n",
       "      <td>14.8</td>\n",
       "      <td>212.0</td>\n",
       "      <td>5200.0</td>\n",
       "      <td>Female</td>\n",
       "    </tr>\n",
       "    <tr>\n",
       "      <th>343</th>\n",
       "      <td>Gentoo</td>\n",
       "      <td>Biscoe</td>\n",
       "      <td>49.9</td>\n",
       "      <td>16.1</td>\n",
       "      <td>213.0</td>\n",
       "      <td>5400.0</td>\n",
       "      <td>Male</td>\n",
       "    </tr>\n",
       "  </tbody>\n",
       "</table>\n",
       "<p>344 rows × 7 columns</p>\n",
       "</div>"
      ],
      "text/plain": [
       "    species     island  bill_length_mm  bill_depth_mm  flipper_length_mm  \\\n",
       "0    Adelie  Torgersen            39.1           18.7              181.0   \n",
       "1    Adelie  Torgersen            39.5           17.4              186.0   \n",
       "2    Adelie  Torgersen            40.3           18.0              195.0   \n",
       "3    Adelie  Torgersen             NaN            NaN                NaN   \n",
       "4    Adelie  Torgersen            36.7           19.3              193.0   \n",
       "..      ...        ...             ...            ...                ...   \n",
       "339  Gentoo     Biscoe             NaN            NaN                NaN   \n",
       "340  Gentoo     Biscoe            46.8           14.3              215.0   \n",
       "341  Gentoo     Biscoe            50.4           15.7              222.0   \n",
       "342  Gentoo     Biscoe            45.2           14.8              212.0   \n",
       "343  Gentoo     Biscoe            49.9           16.1              213.0   \n",
       "\n",
       "     body_mass_g     sex  \n",
       "0         3750.0    Male  \n",
       "1         3800.0  Female  \n",
       "2         3250.0  Female  \n",
       "3            NaN     NaN  \n",
       "4         3450.0  Female  \n",
       "..           ...     ...  \n",
       "339          NaN     NaN  \n",
       "340       4850.0  Female  \n",
       "341       5750.0    Male  \n",
       "342       5200.0  Female  \n",
       "343       5400.0    Male  \n",
       "\n",
       "[344 rows x 7 columns]"
      ]
     },
     "execution_count": 74,
     "metadata": {},
     "output_type": "execute_result"
    }
   ],
   "source": [
    "penguins"
   ]
  },
  {
   "cell_type": "code",
   "execution_count": 121,
   "id": "c873e08c",
   "metadata": {},
   "outputs": [
    {
     "name": "stdout",
     "output_type": "stream",
     "text": [
      "Defaulting to user installation because normal site-packages is not writeable\n",
      "Requirement already satisfied: seaborn in /DATA/gupta37/.local/lib/python3.7/site-packages (0.11.2)\n",
      "Collecting seaborn\n",
      "  Downloading seaborn-0.12.2-py3-none-any.whl (293 kB)\n",
      "\u001b[2K     \u001b[90m━━━━━━━━━━━━━━━━━━━━━━━━━━━━━━━━━━━━━━━\u001b[0m \u001b[32m293.3/293.3 kB\u001b[0m \u001b[31m2.1 MB/s\u001b[0m eta \u001b[36m0:00:00\u001b[0ma \u001b[36m0:00:01\u001b[0m\n",
      "\u001b[?25hRequirement already satisfied: numpy!=1.24.0,>=1.17 in /DATA/gupta37/.local/lib/python3.7/site-packages (from seaborn) (1.20.3)\n",
      "Requirement already satisfied: pandas>=0.25 in /DATA/gupta37/.local/lib/python3.7/site-packages (from seaborn) (1.3.5)\n",
      "Requirement already satisfied: matplotlib!=3.6.1,>=3.1 in /DATA/gupta37/.local/lib/python3.7/site-packages (from seaborn) (3.5.3)\n",
      "Requirement already satisfied: typing_extensions in /DATA/gupta37/.local/lib/python3.7/site-packages (from seaborn) (4.1.1)\n",
      "Requirement already satisfied: cycler>=0.10 in /DATA/gupta37/.local/lib/python3.7/site-packages (from matplotlib!=3.6.1,>=3.1->seaborn) (0.11.0)\n",
      "Requirement already satisfied: fonttools>=4.22.0 in /DATA/gupta37/.local/lib/python3.7/site-packages (from matplotlib!=3.6.1,>=3.1->seaborn) (4.37.0)\n",
      "Requirement already satisfied: kiwisolver>=1.0.1 in /DATA/gupta37/.local/lib/python3.7/site-packages (from matplotlib!=3.6.1,>=3.1->seaborn) (1.4.4)\n",
      "Requirement already satisfied: packaging>=20.0 in /DATA/gupta37/.local/lib/python3.7/site-packages (from matplotlib!=3.6.1,>=3.1->seaborn) (21.3)\n",
      "Requirement already satisfied: pillow>=6.2.0 in /DATA/gupta37/.local/lib/python3.7/site-packages (from matplotlib!=3.6.1,>=3.1->seaborn) (8.4.0)\n",
      "Requirement already satisfied: pyparsing>=2.2.1 in /usr/local/lib/python3.7/dist-packages (from matplotlib!=3.6.1,>=3.1->seaborn) (2.4.7)\n",
      "Requirement already satisfied: python-dateutil>=2.7 in /DATA/gupta37/.local/lib/python3.7/site-packages (from matplotlib!=3.6.1,>=3.1->seaborn) (2.8.2)\n",
      "Requirement already satisfied: pytz>=2017.3 in /DATA/gupta37/.local/lib/python3.7/site-packages (from pandas>=0.25->seaborn) (2022.2.1)\n",
      "Requirement already satisfied: six>=1.5 in /DATA/gupta37/.local/lib/python3.7/site-packages (from python-dateutil>=2.7->matplotlib!=3.6.1,>=3.1->seaborn) (1.16.0)\n",
      "Installing collected packages: seaborn\n",
      "  Attempting uninstall: seaborn\n",
      "    Found existing installation: seaborn 0.11.2\n",
      "    Uninstalling seaborn-0.11.2:\n",
      "      Successfully uninstalled seaborn-0.11.2\n",
      "Successfully installed seaborn-0.12.2\n"
     ]
    }
   ],
   "source": [
    "!pip install seaborn --upgrade"
   ]
  },
  {
   "cell_type": "code",
   "execution_count": 170,
   "id": "f2d592d2",
   "metadata": {},
   "outputs": [],
   "source": [
    "import pandas as pd\n",
    "\n",
    "# Create a list of dictionaries for each row\n",
    "data1 = [{'Value': value, 'Index': index, 'Type': 'text'} for index, value in enumerate(text_amr_feature_vector[1738][:100][90])]\n",
    "data1 += [{'Value': value, 'Index': index, 'Type': 'amr'} for index, value in enumerate(text_amr_feature_vector[1738][100:][0])]\n",
    "data2 = [{'Value': value, 'Index': index, 'Type': 'text'} for index, value in enumerate(text_amr_feature_vector[1373][:100][92])]\n",
    "data2 += [{'Value': value, 'Index': index, 'Type': 'amr'} for index, value in enumerate(text_amr_feature_vector[1373][100:][0])]\n",
    "data3 = [{'Value': value, 'Index': index, 'Type': 'text'} for index, value in enumerate(text_amr_feature_vector[1444][:100][99])]\n",
    "data3 += [{'Value': value, 'Index': index, 'Type': 'amr'} for index, value in enumerate(text_amr_feature_vector[1444][100:][0])]\n",
    "\n",
    "# Create a DataFrame\n",
    "df1 = pd.DataFrame(data1)\n",
    "df2 = pd.DataFrame(data2)\n",
    "df3 = pd.DataFrame(data3)\n",
    "# Display the DataFrame\n",
    "#print(df)\n"
   ]
  },
  {
   "cell_type": "code",
   "execution_count": 171,
   "id": "a0d97cb0",
   "metadata": {},
   "outputs": [
    {
     "data": {
      "image/png": "[encoded data removed]",
      "text/plain": [
       "<Figure size 1500x450 with 3 Axes>"
      ]
     },
     "metadata": {},
     "output_type": "display_data"
    }
   ],
   "source": [
    "import seaborn as sns\n",
    "import matplotlib.pyplot as plt\n",
    "\n",
    "# Create subplots with 1 row and 3 columns\n",
    "fig, axes = plt.subplots(1, 3, figsize=(15, 4.5))\n",
    "\n",
    "# Iterate over each dataframe and corresponding axis\n",
    "for i, (data, ax) in enumerate(zip([df1, df2, df3], axes)):\n",
    "    sns.scatterplot(data=data, x=\"Index\", y=\"Value\", hue=\"Type\", alpha=0.8, ax=ax)\n",
    "    if i == 0:\n",
    "        ax.set_ylabel('Feature Vector')  # Set y-label for the first subplot\n",
    "    else:\n",
    "        ax.set_ylabel('')  # Remove y-label for other subplots\n",
    "    ax.set_xlabel('')\n",
    "    ax.legend().remove() \n",
    "\n",
    "# Set the legend outside the subplots\n",
    "\n",
    "# Adjust the spacing between subplots\n",
    "plt.tight_layout()\n",
    "plt.legend(loc=9, frameon=False, ncol=4, bbox_to_anchor=(-0.9, 1.15), prop={\"size\":16})\n",
    "# Show the plot\n",
    "plt.show()\n"
   ]
  },
  {
   "cell_type": "code",
   "execution_count": 89,
   "id": "dbd4ca38",
   "metadata": {},
   "outputs": [
    {
     "data": {
      "text/plain": [
       "<seaborn.axisgrid.JointGrid at 0x7fbb633d8780>"
      ]
     },
     "execution_count": 89,
     "metadata": {},
     "output_type": "execute_result"
    },
    {
     "data": {
      "image/png": "[encoded data removed]",
      "text/plain": [
       "<Figure size 600x600 with 3 Axes>"
      ]
     },
     "metadata": {},
     "output_type": "display_data"
    }
   ],
   "source": [
    "import seaborn as sns\n",
    "sns.set_theme(style=\"white\")\n",
    "\n",
    "#df = sns.load_dataset(\"penguins\")\n",
    "\n",
    "g = sns.JointGrid(data=df, x=\"Index\", y=\"Value\", space=0)\n",
    "g.plot_joint(sns.kdeplot,\n",
    "             fill=True,\n",
    "             thresh=0, levels=100, cmap=\"rocket\",color='blue')\n",
    "g.plot_marginals(sns.histplot, color=\"green\", alpha=1, bins=25)"
   ]
  },
  {
   "cell_type": "code",
   "execution_count": 73,
   "id": "2d7f5830",
   "metadata": {},
   "outputs": [
    {
     "data": {
      "image/png": "[encoded data removed]",
      "text/plain": [
       "<Figure size 600x600 with 3 Axes>"
      ]
     },
     "metadata": {},
     "output_type": "display_data"
    }
   ],
   "source": [
    "import seaborn as sns\n",
    "sns.set_theme(style=\"ticks\")\n",
    "\n",
    "# Load the penguins dataset\n",
    "penguins = sns.load_dataset(\"penguins\")\n",
    "\n",
    "# Show the joint distribution using kernel density estimation\n",
    "g = sns.jointplot(\n",
    "    data=penguins,\n",
    "    x=\"bill_length_mm\", y=\"bill_depth_mm\", hue=\"species\",\n",
    "    kind=\"kde\",\n",
    ")"
   ]
  },
  {
   "cell_type": "code",
   "execution_count": 66,
   "id": "dfc069a2",
   "metadata": {},
   "outputs": [
    {
     "data": {
      "text/plain": [
       "(100,)"
      ]
     },
     "execution_count": 66,
     "metadata": {},
     "output_type": "execute_result"
    }
   ],
   "source": [
    "feature_vector_2.shape"
   ]
  },
  {
   "cell_type": "code",
   "execution_count": 86,
   "id": "d4dd89f8",
   "metadata": {
    "scrolled": false
   },
   "outputs": [
    {
     "ename": "AttributeError",
     "evalue": "'bool' object has no attribute 'all'",
     "output_type": "error",
     "traceback": [
      "\u001b[0;31m---------------------------------------------------------------------------\u001b[0m",
      "\u001b[0;31mAttributeError\u001b[0m                            Traceback (most recent call last)",
      "\u001b[0;32m/tmp/ipykernel_44493/987654911.py\u001b[0m in \u001b[0;36m<module>\u001b[0;34m\u001b[0m\n\u001b[1;32m      5\u001b[0m \u001b[0;31m# Assuming you have your true labels stored in variables 'labels1' and 'labels3'\u001b[0m\u001b[0;34m\u001b[0m\u001b[0;34m\u001b[0m\u001b[0;34m\u001b[0m\u001b[0m\n\u001b[1;32m      6\u001b[0m \u001b[0;34m\u001b[0m\u001b[0m\n\u001b[0;32m----> 7\u001b[0;31m \u001b[0msns\u001b[0m\u001b[0;34m.\u001b[0m\u001b[0mstripplot\u001b[0m\u001b[0;34m(\u001b[0m\u001b[0mx\u001b[0m\u001b[0;34m=\u001b[0m\u001b[0mrange\u001b[0m\u001b[0;34m(\u001b[0m\u001b[0mlen\u001b[0m\u001b[0;34m(\u001b[0m\u001b[0mtext_amr_feature_vector\u001b[0m\u001b[0;34m[\u001b[0m\u001b[0;36m2629\u001b[0m\u001b[0;34m]\u001b[0m\u001b[0;34m[\u001b[0m\u001b[0;34m:\u001b[0m\u001b[0;36m100\u001b[0m\u001b[0;34m]\u001b[0m\u001b[0;34m[\u001b[0m\u001b[0;36m0\u001b[0m\u001b[0;34m]\u001b[0m\u001b[0;34m)\u001b[0m\u001b[0;34m)\u001b[0m\u001b[0;34m,\u001b[0m \u001b[0my\u001b[0m\u001b[0;34m=\u001b[0m\u001b[0mtext_amr_feature_vector\u001b[0m\u001b[0;34m[\u001b[0m\u001b[0;36m2629\u001b[0m\u001b[0;34m]\u001b[0m\u001b[0;34m[\u001b[0m\u001b[0;34m:\u001b[0m\u001b[0;36m100\u001b[0m\u001b[0;34m]\u001b[0m\u001b[0;34m[\u001b[0m\u001b[0;36m0\u001b[0m\u001b[0;34m]\u001b[0m\u001b[0;34m,\u001b[0m \u001b[0mcolor\u001b[0m\u001b[0;34m=\u001b[0m\u001b[0;34m'blue'\u001b[0m\u001b[0;34m,\u001b[0m \u001b[0mjitter\u001b[0m\u001b[0;34m=\u001b[0m\u001b[0;32mTrue\u001b[0m\u001b[0;34m)\u001b[0m\u001b[0;34m\u001b[0m\u001b[0;34m\u001b[0m\u001b[0m\n\u001b[0m\u001b[1;32m      8\u001b[0m \u001b[0msns\u001b[0m\u001b[0;34m.\u001b[0m\u001b[0mstripplot\u001b[0m\u001b[0;34m(\u001b[0m\u001b[0mx\u001b[0m\u001b[0;34m=\u001b[0m\u001b[0mrange\u001b[0m\u001b[0;34m(\u001b[0m\u001b[0mlen\u001b[0m\u001b[0;34m(\u001b[0m\u001b[0mtext_amr_feature_vector\u001b[0m\u001b[0;34m[\u001b[0m\u001b[0;36m2629\u001b[0m\u001b[0;34m]\u001b[0m\u001b[0;34m[\u001b[0m\u001b[0;36m100\u001b[0m\u001b[0;34m:\u001b[0m\u001b[0;34m]\u001b[0m\u001b[0;34m[\u001b[0m\u001b[0;36m0\u001b[0m\u001b[0;34m]\u001b[0m\u001b[0;34m)\u001b[0m\u001b[0;34m)\u001b[0m\u001b[0;34m,\u001b[0m \u001b[0my\u001b[0m\u001b[0;34m=\u001b[0m\u001b[0mtext_amr_feature_vector\u001b[0m\u001b[0;34m[\u001b[0m\u001b[0;36m2629\u001b[0m\u001b[0;34m]\u001b[0m\u001b[0;34m[\u001b[0m\u001b[0;36m100\u001b[0m\u001b[0;34m:\u001b[0m\u001b[0;34m]\u001b[0m\u001b[0;34m[\u001b[0m\u001b[0;36m0\u001b[0m\u001b[0;34m]\u001b[0m\u001b[0;34m,\u001b[0m \u001b[0mcolor\u001b[0m\u001b[0;34m=\u001b[0m\u001b[0;34m'green'\u001b[0m\u001b[0;34m,\u001b[0m \u001b[0mjitter\u001b[0m\u001b[0;34m=\u001b[0m\u001b[0;32mTrue\u001b[0m\u001b[0;34m)\u001b[0m\u001b[0;34m\u001b[0m\u001b[0;34m\u001b[0m\u001b[0m\n\u001b[1;32m      9\u001b[0m \u001b[0mplt\u001b[0m\u001b[0;34m.\u001b[0m\u001b[0mxlabel\u001b[0m\u001b[0;34m(\u001b[0m\u001b[0;34m'Feature Index'\u001b[0m\u001b[0;34m)\u001b[0m\u001b[0;34m\u001b[0m\u001b[0;34m\u001b[0m\u001b[0m\n",
      "\u001b[0;32m~/.local/lib/python3.7/site-packages/seaborn/_decorators.py\u001b[0m in \u001b[0;36minner_f\u001b[0;34m(*args, **kwargs)\u001b[0m\n\u001b[1;32m     44\u001b[0m             )\n\u001b[1;32m     45\u001b[0m         \u001b[0mkwargs\u001b[0m\u001b[0;34m.\u001b[0m\u001b[0mupdate\u001b[0m\u001b[0;34m(\u001b[0m\u001b[0;34m{\u001b[0m\u001b[0mk\u001b[0m\u001b[0;34m:\u001b[0m \u001b[0marg\u001b[0m \u001b[0;32mfor\u001b[0m \u001b[0mk\u001b[0m\u001b[0;34m,\u001b[0m \u001b[0marg\u001b[0m \u001b[0;32min\u001b[0m \u001b[0mzip\u001b[0m\u001b[0;34m(\u001b[0m\u001b[0msig\u001b[0m\u001b[0;34m.\u001b[0m\u001b[0mparameters\u001b[0m\u001b[0;34m,\u001b[0m \u001b[0margs\u001b[0m\u001b[0;34m)\u001b[0m\u001b[0;34m}\u001b[0m\u001b[0;34m)\u001b[0m\u001b[0;34m\u001b[0m\u001b[0;34m\u001b[0m\u001b[0m\n\u001b[0;32m---> 46\u001b[0;31m         \u001b[0;32mreturn\u001b[0m \u001b[0mf\u001b[0m\u001b[0;34m(\u001b[0m\u001b[0;34m**\u001b[0m\u001b[0mkwargs\u001b[0m\u001b[0;34m)\u001b[0m\u001b[0;34m\u001b[0m\u001b[0;34m\u001b[0m\u001b[0m\n\u001b[0m\u001b[1;32m     47\u001b[0m     \u001b[0;32mreturn\u001b[0m \u001b[0minner_f\u001b[0m\u001b[0;34m\u001b[0m\u001b[0;34m\u001b[0m\u001b[0m\n\u001b[1;32m     48\u001b[0m \u001b[0;34m\u001b[0m\u001b[0m\n",
      "\u001b[0;32m~/.local/lib/python3.7/site-packages/seaborn/categorical.py\u001b[0m in \u001b[0;36mstripplot\u001b[0;34m(x, y, hue, data, order, hue_order, jitter, dodge, orient, color, palette, size, edgecolor, linewidth, ax, **kwargs)\u001b[0m\n\u001b[1;32m   2806\u001b[0m \u001b[0;34m\u001b[0m\u001b[0m\n\u001b[1;32m   2807\u001b[0m     plotter = _StripPlotter(x, y, hue, data, order, hue_order,\n\u001b[0;32m-> 2808\u001b[0;31m                             jitter, dodge, orient, color, palette)\n\u001b[0m\u001b[1;32m   2809\u001b[0m     \u001b[0;32mif\u001b[0m \u001b[0max\u001b[0m \u001b[0;32mis\u001b[0m \u001b[0;32mNone\u001b[0m\u001b[0;34m:\u001b[0m\u001b[0;34m\u001b[0m\u001b[0;34m\u001b[0m\u001b[0m\n\u001b[1;32m   2810\u001b[0m         \u001b[0max\u001b[0m \u001b[0;34m=\u001b[0m \u001b[0mplt\u001b[0m\u001b[0;34m.\u001b[0m\u001b[0mgca\u001b[0m\u001b[0;34m(\u001b[0m\u001b[0;34m)\u001b[0m\u001b[0;34m\u001b[0m\u001b[0;34m\u001b[0m\u001b[0m\n",
      "\u001b[0;32m~/.local/lib/python3.7/site-packages/seaborn/categorical.py\u001b[0m in \u001b[0;36m__init__\u001b[0;34m(self, x, y, hue, data, order, hue_order, jitter, dodge, orient, color, palette)\u001b[0m\n\u001b[1;32m   1097\u001b[0m                  jitter, dodge, orient, color, palette):\n\u001b[1;32m   1098\u001b[0m         \u001b[0;34m\"\"\"Initialize the plotter.\"\"\"\u001b[0m\u001b[0;34m\u001b[0m\u001b[0;34m\u001b[0m\u001b[0m\n\u001b[0;32m-> 1099\u001b[0;31m         \u001b[0mself\u001b[0m\u001b[0;34m.\u001b[0m\u001b[0mestablish_variables\u001b[0m\u001b[0;34m(\u001b[0m\u001b[0mx\u001b[0m\u001b[0;34m,\u001b[0m \u001b[0my\u001b[0m\u001b[0;34m,\u001b[0m \u001b[0mhue\u001b[0m\u001b[0;34m,\u001b[0m \u001b[0mdata\u001b[0m\u001b[0;34m,\u001b[0m \u001b[0morient\u001b[0m\u001b[0;34m,\u001b[0m \u001b[0morder\u001b[0m\u001b[0;34m,\u001b[0m \u001b[0mhue_order\u001b[0m\u001b[0;34m)\u001b[0m\u001b[0;34m\u001b[0m\u001b[0;34m\u001b[0m\u001b[0m\n\u001b[0m\u001b[1;32m   1100\u001b[0m         \u001b[0mself\u001b[0m\u001b[0;34m.\u001b[0m\u001b[0mestablish_colors\u001b[0m\u001b[0;34m(\u001b[0m\u001b[0mcolor\u001b[0m\u001b[0;34m,\u001b[0m \u001b[0mpalette\u001b[0m\u001b[0;34m,\u001b[0m \u001b[0;36m1\u001b[0m\u001b[0;34m)\u001b[0m\u001b[0;34m\u001b[0m\u001b[0;34m\u001b[0m\u001b[0m\n\u001b[1;32m   1101\u001b[0m \u001b[0;34m\u001b[0m\u001b[0m\n",
      "\u001b[0;32m~/.local/lib/python3.7/site-packages/seaborn/categorical.py\u001b[0m in \u001b[0;36mestablish_variables\u001b[0;34m(self, x, y, hue, data, orient, order, hue_order, units)\u001b[0m\n\u001b[1;32m    155\u001b[0m             \u001b[0;31m# Figure out the plotting orientation\u001b[0m\u001b[0;34m\u001b[0m\u001b[0;34m\u001b[0m\u001b[0;34m\u001b[0m\u001b[0m\n\u001b[1;32m    156\u001b[0m             orient = infer_orient(\n\u001b[0;32m--> 157\u001b[0;31m                 \u001b[0mx\u001b[0m\u001b[0;34m,\u001b[0m \u001b[0my\u001b[0m\u001b[0;34m,\u001b[0m \u001b[0morient\u001b[0m\u001b[0;34m,\u001b[0m \u001b[0mrequire_numeric\u001b[0m\u001b[0;34m=\u001b[0m\u001b[0mself\u001b[0m\u001b[0;34m.\u001b[0m\u001b[0mrequire_numeric\u001b[0m\u001b[0;34m\u001b[0m\u001b[0;34m\u001b[0m\u001b[0m\n\u001b[0m\u001b[1;32m    158\u001b[0m             )\n\u001b[1;32m    159\u001b[0m \u001b[0;34m\u001b[0m\u001b[0m\n",
      "\u001b[0;32m~/.local/lib/python3.7/site-packages/seaborn/_core.py\u001b[0m in \u001b[0;36minfer_orient\u001b[0;34m(x, y, orient, require_numeric)\u001b[0m\n\u001b[1;32m   1309\u001b[0m     \"\"\"\n\u001b[1;32m   1310\u001b[0m \u001b[0;34m\u001b[0m\u001b[0m\n\u001b[0;32m-> 1311\u001b[0;31m     \u001b[0mx_type\u001b[0m \u001b[0;34m=\u001b[0m \u001b[0;32mNone\u001b[0m \u001b[0;32mif\u001b[0m \u001b[0mx\u001b[0m \u001b[0;32mis\u001b[0m \u001b[0;32mNone\u001b[0m \u001b[0;32melse\u001b[0m \u001b[0mvariable_type\u001b[0m\u001b[0;34m(\u001b[0m\u001b[0mx\u001b[0m\u001b[0;34m)\u001b[0m\u001b[0;34m\u001b[0m\u001b[0;34m\u001b[0m\u001b[0m\n\u001b[0m\u001b[1;32m   1312\u001b[0m     \u001b[0my_type\u001b[0m \u001b[0;34m=\u001b[0m \u001b[0;32mNone\u001b[0m \u001b[0;32mif\u001b[0m \u001b[0my\u001b[0m \u001b[0;32mis\u001b[0m \u001b[0;32mNone\u001b[0m \u001b[0;32melse\u001b[0m \u001b[0mvariable_type\u001b[0m\u001b[0;34m(\u001b[0m\u001b[0my\u001b[0m\u001b[0;34m)\u001b[0m\u001b[0;34m\u001b[0m\u001b[0;34m\u001b[0m\u001b[0m\n\u001b[1;32m   1313\u001b[0m \u001b[0;34m\u001b[0m\u001b[0m\n",
      "\u001b[0;32m~/.local/lib/python3.7/site-packages/seaborn/_core.py\u001b[0m in \u001b[0;36mvariable_type\u001b[0;34m(vector, boolean_type)\u001b[0m\n\u001b[1;32m   1227\u001b[0m \u001b[0;34m\u001b[0m\u001b[0m\n\u001b[1;32m   1228\u001b[0m     \u001b[0;31m# Special-case all-na data, which is always \"numeric\"\u001b[0m\u001b[0;34m\u001b[0m\u001b[0;34m\u001b[0m\u001b[0;34m\u001b[0m\u001b[0m\n\u001b[0;32m-> 1229\u001b[0;31m     \u001b[0;32mif\u001b[0m \u001b[0mpd\u001b[0m\u001b[0;34m.\u001b[0m\u001b[0misna\u001b[0m\u001b[0;34m(\u001b[0m\u001b[0mvector\u001b[0m\u001b[0;34m)\u001b[0m\u001b[0;34m.\u001b[0m\u001b[0mall\u001b[0m\u001b[0;34m(\u001b[0m\u001b[0;34m)\u001b[0m\u001b[0;34m:\u001b[0m\u001b[0;34m\u001b[0m\u001b[0;34m\u001b[0m\u001b[0m\n\u001b[0m\u001b[1;32m   1230\u001b[0m         \u001b[0;32mreturn\u001b[0m \u001b[0;34m\"numeric\"\u001b[0m\u001b[0;34m\u001b[0m\u001b[0;34m\u001b[0m\u001b[0m\n\u001b[1;32m   1231\u001b[0m \u001b[0;34m\u001b[0m\u001b[0m\n",
      "\u001b[0;31mAttributeError\u001b[0m: 'bool' object has no attribute 'all'"
     ]
    }
   ],
   "source": [
    "import seaborn as sns\n",
    "import matplotlib.pyplot as plt\n",
    "\n",
    "# Assuming you have your feature vectors stored in variables 'text_feature_vector' and 'amr_feature_vector'\n",
    "# Assuming you have your true labels stored in variables 'labels1' and 'labels3'\n",
    "\n",
    "sns.stripplot(x=range(len(text_amr_feature_vector[2629][:100][0])), y=text_amr_feature_vector[2629][:100][0], color='blue', jitter=True)\n",
    "sns.stripplot(x=range(len(text_amr_feature_vector[2629][100:][0])), y=text_amr_feature_vector[2629][100:][0], color='green', jitter=True)\n",
    "plt.xlabel('Feature Index')\n",
    "plt.ylabel('Feature Value')\n",
    "plt.ylim(-0.2, 0.15)\n",
    "plt.title('Strip Plot - Feature Vector 3')\n",
    "plt.show()\n",
    "\n",
    "\n",
    "\n",
    "# Line plot for feature_vector2\n",
    "sns.lineplot(x=range(len(amr_feature_vector[2629][0])), y=amr_feature_vector[2629][0], color='green')\n",
    "plt.xlabel('Feature Index')\n",
    "plt.ylabel('Feature Value')\n",
    "plt.title('Line Plot - Feature Vector 2')\n",
    "plt.show()\n",
    "\n",
    "\n",
    "# Violin plot for feature_vector3\n",
    "sns.lineplot(x=range(len(text_amr_feature_vector[2629][:100][0])), y=text_amr_feature_vector[2629][:100][0], color='blue')\n",
    "sns.lineplot(x=range(len(text_amr_feature_vector[2629][100:][0])), y=text_amr_feature_vector[2629][100:][0], color='green')\n",
    "plt.xlabel('Feature Index')\n",
    "plt.ylabel('Feature Value')\n",
    "plt.ylim(-0.2, 0.15)\n",
    "plt.title('Violin Plot - Feature Vector 3')\n",
    "plt.show()\n"
   ]
  },
  {
   "cell_type": "code",
   "execution_count": 77,
   "id": "a5f618b4",
   "metadata": {},
   "outputs": [
    {
     "name": "stderr",
     "output_type": "stream",
     "text": [
      "/DATA/gupta37/.local/lib/python3.7/site-packages/seaborn/_decorators.py:43: FutureWarning: Pass the following variables as keyword args: x, y. From version 0.12, the only valid positional argument will be `data`, and passing other arguments without an explicit keyword will result in an error or misinterpretation.\n",
      "  FutureWarning\n",
      "/DATA/gupta37/.local/lib/python3.7/site-packages/seaborn/_decorators.py:43: FutureWarning: Pass the following variables as keyword args: x, y. From version 0.12, the only valid positional argument will be `data`, and passing other arguments without an explicit keyword will result in an error or misinterpretation.\n",
      "  FutureWarning\n",
      "/DATA/gupta37/.local/lib/python3.7/site-packages/seaborn/_decorators.py:43: FutureWarning: Pass the following variable as a keyword arg: y. From version 0.12, the only valid positional argument will be `data`, and passing other arguments without an explicit keyword will result in an error or misinterpretation.\n",
      "  FutureWarning\n",
      "/DATA/gupta37/.local/lib/python3.7/site-packages/seaborn/distributions.py:1718: UserWarning: `shade_lowest` is now deprecated in favor of `thresh`. Setting `thresh=0.05`, but please update your code.\n",
      "  warnings.warn(msg, UserWarning)\n",
      "/DATA/gupta37/.local/lib/python3.7/site-packages/seaborn/_decorators.py:43: FutureWarning: Pass the following variable as a keyword arg: y. From version 0.12, the only valid positional argument will be `data`, and passing other arguments without an explicit keyword will result in an error or misinterpretation.\n",
      "  FutureWarning\n",
      "/DATA/gupta37/.local/lib/python3.7/site-packages/seaborn/distributions.py:1718: UserWarning: `shade_lowest` is now deprecated in favor of `thresh`. Setting `thresh=0.05`, but please update your code.\n",
      "  warnings.warn(msg, UserWarning)\n"
     ]
    },
    {
     "data": {
      "image/png": "[encoded data removed]",
      "text/plain": [
       "<Figure size 640x480 with 1 Axes>"
      ]
     },
     "metadata": {},
     "output_type": "display_data"
    }
   ],
   "source": [
    "import seaborn as sns\n",
    "import matplotlib.pyplot as plt\n",
    "\n",
    "\n",
    "# Create a scatter plot\n",
    "sns.scatterplot(range(len(text_amr_feature_vector[2629][:100][0])), text_amr_feature_vector[2629][:100][0])\n",
    "# Create a scatter plot\n",
    "sns.scatterplot(range(len(text_amr_feature_vector[2629][100:][0])), text_amr_feature_vector[2629][100:][0])\n",
    "# Estimate the density using KDE\n",
    "sns.kdeplot(range(len(text_amr_feature_vector[2629][:100][0])), text_amr_feature_vector[2629][:100][0], cmap='Reds', shade=True, shade_lowest=False)\n",
    "sns.kdeplot(range(len(text_amr_feature_vector[2629][100:][0])), text_amr_feature_vector[2629][100:][0], cmap='viridis', shade=True, shade_lowest=False)\n",
    "\n",
    "plt.xlabel('X-axis')\n",
    "plt.ylabel('Y-axis')\n",
    "plt.title('Scatter Plot with Highlighted Dense Area')\n",
    "\n",
    "plt.show()\n"
   ]
  },
  {
   "cell_type": "code",
   "execution_count": 62,
   "id": "7c7e6b8f",
   "metadata": {},
   "outputs": [
    {
     "data": {
      "text/plain": [
       "10000"
      ]
     },
     "execution_count": 62,
     "metadata": {},
     "output_type": "execute_result"
    }
   ],
   "source": [
    "len(text_feature_vector[52].flatten())"
   ]
  },
  {
   "cell_type": "code",
   "execution_count": 138,
   "id": "1cabe656",
   "metadata": {},
   "outputs": [
    {
     "data": {
      "text/plain": [
       "200"
      ]
     },
     "execution_count": 138,
     "metadata": {},
     "output_type": "execute_result"
    }
   ],
   "source": [
    "len(np.concatenate(([X_test,np.array(x_g_test)][0][30], [X_test,np.array(x_g_test)][1][30][0]),axis=0))"
   ]
  },
  {
   "cell_type": "code",
   "execution_count": 139,
   "id": "0d2a079c",
   "metadata": {},
   "outputs": [
    {
     "data": {
      "text/plain": [
       "array([   0,    0,    0,    0,    0,    0,    0,    0,    0,    0,    0,\n",
       "          0,    0,    0,    0,    0,    0,    0,    0,    0,    0,    0,\n",
       "          0,    0,    0,    0,    0,    0,    0,    0,    0,    0,    0,\n",
       "          0,    0,    0,    0,    0,    0,    0,    0,    0,    0,    0,\n",
       "          0,    0,    0,    0,    0,    0,    0,    0,    0,    0,    0,\n",
       "          0,    0,    0,    0,    0,    0,    0,    0,    0,    0,    0,\n",
       "          0,    0,    0,    0,    0,    0,    0,    0,    0,    0,    0,\n",
       "          0,    0,    0,    0,    0,    0,    0,    0,    0,    0,    0,\n",
       "          0,    0,    0, 1813,  334,    1, 1546, 2171, 2550,  967,  466,\n",
       "         32], dtype=int32)"
      ]
     },
     "execution_count": 139,
     "metadata": {},
     "output_type": "execute_result"
    }
   ],
   "source": [
    "X_test[30]"
   ]
  },
  {
   "cell_type": "markdown",
   "id": "0eef0d2f",
   "metadata": {},
   "source": [
    "# BiLSTM"
   ]
  },
  {
   "cell_type": "code",
   "execution_count": 96,
   "id": "be705f6c",
   "metadata": {},
   "outputs": [
    {
     "name": "stderr",
     "output_type": "stream",
     "text": [
      "/DATA/gupta37/.local/lib/python3.7/site-packages/keras/optimizers/optimizer_v2/adam.py:117: UserWarning: The `lr` argument is deprecated, use `learning_rate` instead.\n",
      "  super().__init__(name, **kwargs)\n"
     ]
    }
   ],
   "source": [
    "input1=Input(shape=(maxlen,))\n",
    "embed1=Embedding(max_features, output_dim=embed_size, weights=[embedding_matrix], input_length=maxlen, trainable=False)(input1)\n",
    "layer1 =Bidirectional(LSTM(units=32, return_sequences=True))(embed1)\n",
    "layer2 = Bidirectional(LSTM(units=16))(layer1)\n",
    "layer3 = Dense(units=64, activation='relu')(layer2)\n",
    "layer4 = Dropout(0.2)(layer3)\n",
    "layer5 = Dense(1, activation='sigmoid')(layer4)\n",
    "model_bilstm = Model(input1, layer5)\n",
    "model_bilstm.compile(optimizer=keras.optimizers.Adam(lr = 0.01), loss='binary_crossentropy', metrics=['accuracy'])"
   ]
  },
  {
   "cell_type": "code",
   "execution_count": 97,
   "id": "dd1c4df6",
   "metadata": {},
   "outputs": [
    {
     "name": "stdout",
     "output_type": "stream",
     "text": [
      "Model: \"model_2\"\n",
      "_________________________________________________________________\n",
      " Layer (type)                Output Shape              Param #   \n",
      "=================================================================\n",
      " input_3 (InputLayer)        [(None, 100)]             0         \n",
      "                                                                 \n",
      " embedding_2 (Embedding)     (None, 100, 100)          823100    \n",
      "                                                                 \n",
      " bidirectional_2 (Bidirectio  (None, 100, 64)          34048     \n",
      " nal)                                                            \n",
      "                                                                 \n",
      " bidirectional_3 (Bidirectio  (None, 32)               10368     \n",
      " nal)                                                            \n",
      "                                                                 \n",
      " dense_3 (Dense)             (None, 64)                2112      \n",
      "                                                                 \n",
      " dropout_1 (Dropout)         (None, 64)                0         \n",
      "                                                                 \n",
      " dense_4 (Dense)             (None, 1)                 65        \n",
      "                                                                 \n",
      "=================================================================\n",
      "Total params: 869,693\n",
      "Trainable params: 46,593\n",
      "Non-trainable params: 823,100\n",
      "_________________________________________________________________\n"
     ]
    }
   ],
   "source": [
    "model_bilstm.summary()"
   ]
  },
  {
   "cell_type": "code",
   "execution_count": 98,
   "id": "967de909",
   "metadata": {
    "scrolled": false
   },
   "outputs": [
    {
     "name": "stdout",
     "output_type": "stream",
     "text": [
      "Epoch 1/200\n",
      "WARNING:tensorflow:AutoGraph could not transform <function Model.make_train_function.<locals>.train_function at 0x7f0eed28cae8> and will run it as-is.\n",
      "Please report this to the TensorFlow team. When filing the bug, set the verbosity to 10 (on Linux, `export AUTOGRAPH_VERBOSITY=10`) and attach the full output.\n",
      "Cause: 'arguments' object has no attribute 'posonlyargs'\n",
      "To silence this warning, decorate the function with @tf.autograph.experimental.do_not_convert\n",
      "WARNING: AutoGraph could not transform <function Model.make_train_function.<locals>.train_function at 0x7f0eed28cae8> and will run it as-is.\n",
      "Please report this to the TensorFlow team. When filing the bug, set the verbosity to 10 (on Linux, `export AUTOGRAPH_VERBOSITY=10`) and attach the full output.\n",
      "Cause: 'arguments' object has no attribute 'posonlyargs'\n",
      "To silence this warning, decorate the function with @tf.autograph.experimental.do_not_convert\n",
      "26/26 [==============================] - ETA: 0s - loss: 0.4344 - accuracy: 0.7963WARNING:tensorflow:AutoGraph could not transform <function Model.make_test_function.<locals>.test_function at 0x7f0ee1ba5ae8> and will run it as-is.\n",
      "Please report this to the TensorFlow team. When filing the bug, set the verbosity to 10 (on Linux, `export AUTOGRAPH_VERBOSITY=10`) and attach the full output.\n",
      "Cause: 'arguments' object has no attribute 'posonlyargs'\n",
      "To silence this warning, decorate the function with @tf.autograph.experimental.do_not_convert\n",
      "WARNING: AutoGraph could not transform <function Model.make_test_function.<locals>.test_function at 0x7f0ee1ba5ae8> and will run it as-is.\n",
      "Please report this to the TensorFlow team. When filing the bug, set the verbosity to 10 (on Linux, `export AUTOGRAPH_VERBOSITY=10`) and attach the full output.\n",
      "Cause: 'arguments' object has no attribute 'posonlyargs'\n",
      "To silence this warning, decorate the function with @tf.autograph.experimental.do_not_convert\n",
      "26/26 [==============================] - 14s 257ms/step - loss: 0.4344 - accuracy: 0.7963 - val_loss: 0.2966 - val_accuracy: 0.8760 - lr: 0.0100\n",
      "Epoch 2/200\n",
      "26/26 [==============================] - 4s 173ms/step - loss: 0.2514 - accuracy: 0.9044 - val_loss: 0.2464 - val_accuracy: 0.8997 - lr: 0.0100\n",
      "Epoch 3/200\n",
      "26/26 [==============================] - 4s 173ms/step - loss: 0.1826 - accuracy: 0.9277 - val_loss: 0.2230 - val_accuracy: 0.9065 - lr: 0.0100\n",
      "Epoch 4/200\n",
      "26/26 [==============================] - 4s 173ms/step - loss: 0.1322 - accuracy: 0.9512 - val_loss: 0.2358 - val_accuracy: 0.9140 - lr: 0.0100\n",
      "Epoch 5/200\n",
      "26/26 [==============================] - 4s 174ms/step - loss: 0.1044 - accuracy: 0.9601 - val_loss: 0.3027 - val_accuracy: 0.8966 - lr: 0.0100\n",
      "Epoch 6/200\n",
      "26/26 [==============================] - ETA: 0s - loss: 0.1168 - accuracy: 0.9559\n",
      "Epoch 6: ReduceLROnPlateau reducing learning rate to 0.004999999888241291.\n",
      "26/26 [==============================] - 5s 175ms/step - loss: 0.1168 - accuracy: 0.9559 - val_loss: 0.2711 - val_accuracy: 0.9090 - lr: 0.0100\n",
      "Epoch 7/200\n",
      "26/26 [==============================] - 4s 173ms/step - loss: 0.0667 - accuracy: 0.9765 - val_loss: 0.2704 - val_accuracy: 0.9146 - lr: 0.0050\n",
      "Epoch 8/200\n",
      "26/26 [==============================] - 5s 174ms/step - loss: 0.0379 - accuracy: 0.9877 - val_loss: 0.3398 - val_accuracy: 0.9065 - lr: 0.0050\n",
      "Epoch 8: early stopping\n"
     ]
    }
   ],
   "source": [
    "history_bilstm = model_bilstm.fit(x_train, y_train, batch_size = batch_size , validation_split = .2 , epochs = epochs , callbacks = [learning_rate_reduction, early_stopping])"
   ]
  },
  {
   "cell_type": "code",
   "execution_count": 99,
   "id": "7eb61b37",
   "metadata": {},
   "outputs": [
    {
     "name": "stdout",
     "output_type": "stream",
     "text": [
      "WARNING:tensorflow:AutoGraph could not transform <function Model.make_predict_function.<locals>.predict_function at 0x7f0ea02d4d90> and will run it as-is.\n",
      "Please report this to the TensorFlow team. When filing the bug, set the verbosity to 10 (on Linux, `export AUTOGRAPH_VERBOSITY=10`) and attach the full output.\n",
      "Cause: 'arguments' object has no attribute 'posonlyargs'\n",
      "To silence this warning, decorate the function with @tf.autograph.experimental.do_not_convert\n",
      "WARNING: AutoGraph could not transform <function Model.make_predict_function.<locals>.predict_function at 0x7f0ea02d4d90> and will run it as-is.\n",
      "Please report this to the TensorFlow team. When filing the bug, set the verbosity to 10 (on Linux, `export AUTOGRAPH_VERBOSITY=10`) and attach the full output.\n",
      "Cause: 'arguments' object has no attribute 'posonlyargs'\n",
      "To silence this warning, decorate the function with @tf.autograph.experimental.do_not_convert\n",
      "84/84 [==============================] - 4s 25ms/step\n"
     ]
    },
    {
     "data": {
      "text/plain": [
       "0.9136448598130841"
      ]
     },
     "execution_count": 99,
     "metadata": {},
     "output_type": "execute_result"
    }
   ],
   "source": [
    "y_pred = (model_bilstm.predict(X_test) > 0.7).astype(\"int32\")\n",
    "\n",
    "accuracy_score(y_test,y_pred)"
   ]
  },
  {
   "cell_type": "code",
   "execution_count": 100,
   "id": "cc1595a8",
   "metadata": {},
   "outputs": [
    {
     "name": "stdout",
     "output_type": "stream",
     "text": [
      "              precision    recall  f1-score   support\n",
      "\n",
      "           0    0.87372   0.95378   0.91200      1255\n",
      "           1    0.95556   0.87817   0.91523      1420\n",
      "\n",
      "    accuracy                        0.91364      2675\n",
      "   macro avg    0.91464   0.91598   0.91361      2675\n",
      "weighted avg    0.91716   0.91364   0.91371      2675\n",
      "\n"
     ]
    }
   ],
   "source": [
    "print(classification_report(y_test, y_pred,digits=5))"
   ]
  },
  {
   "cell_type": "code",
   "execution_count": 62,
   "id": "ded51925",
   "metadata": {},
   "outputs": [
    {
     "name": "stderr",
     "output_type": "stream",
     "text": [
      "/DATA/gupta37/.local/lib/python3.7/site-packages/keras/optimizers/optimizer_v2/adam.py:117: UserWarning: The `lr` argument is deprecated, use `learning_rate` instead.\n",
      "  super().__init__(name, **kwargs)\n"
     ]
    }
   ],
   "source": [
    "input1=Input(shape=(maxlen,))\n",
    "embed1=Embedding(max_features, output_dim=embed_size, weights=[embedding_matrix], input_length=maxlen, trainable=False)(input1)\n",
    "input2=Input(shape=(max_sent_len,100,))\n",
    "#reshaped_input_2 = Reshape((1, 100))(input2)\n",
    "feature =  Concatenate(axis=1)([embed1, input2])\n",
    "layer1 =Bidirectional(LSTM(units=32, return_sequences=True))(feature)\n",
    "layer2 = Bidirectional(LSTM(units=16))(layer1)\n",
    "layer3 = Dense(units=64, activation='relu')(layer2)\n",
    "layer4 = Dropout(0.2)(layer3)\n",
    "layer5 = Dense(1, activation='sigmoid')(layer4)\n",
    "model_bilstm_graph = Model([input1, input2], layer5)\n",
    "model_bilstm_graph.compile(optimizer=keras.optimizers.Adam(lr = 0.01), loss='binary_crossentropy', metrics=['accuracy'])"
   ]
  },
  {
   "cell_type": "code",
   "execution_count": 63,
   "id": "b0306a96",
   "metadata": {},
   "outputs": [
    {
     "name": "stdout",
     "output_type": "stream",
     "text": [
      "Model: \"model_5\"\n",
      "__________________________________________________________________________________________________\n",
      " Layer (type)                   Output Shape         Param #     Connected to                     \n",
      "==================================================================================================\n",
      " input_8 (InputLayer)           [(None, 100)]        0           []                               \n",
      "                                                                                                  \n",
      " embedding_5 (Embedding)        (None, 100, 100)     823100      ['input_8[0][0]']                \n",
      "                                                                                                  \n",
      " input_9 (InputLayer)           [(None, 7, 100)]     0           []                               \n",
      "                                                                                                  \n",
      " concatenate_2 (Concatenate)    (None, 107, 100)     0           ['embedding_5[0][0]',            \n",
      "                                                                  'input_9[0][0]']                \n",
      "                                                                                                  \n",
      " bidirectional_8 (Bidirectional  (None, 107, 64)     34048       ['concatenate_2[0][0]']          \n",
      " )                                                                                                \n",
      "                                                                                                  \n",
      " bidirectional_9 (Bidirectional  (None, 32)          10368       ['bidirectional_8[0][0]']        \n",
      " )                                                                                                \n",
      "                                                                                                  \n",
      " dense_9 (Dense)                (None, 64)           2112        ['bidirectional_9[0][0]']        \n",
      "                                                                                                  \n",
      " dropout_4 (Dropout)            (None, 64)           0           ['dense_9[0][0]']                \n",
      "                                                                                                  \n",
      " dense_10 (Dense)               (None, 1)            65          ['dropout_4[0][0]']              \n",
      "                                                                                                  \n",
      "==================================================================================================\n",
      "Total params: 869,693\n",
      "Trainable params: 46,593\n",
      "Non-trainable params: 823,100\n",
      "__________________________________________________________________________________________________\n"
     ]
    }
   ],
   "source": [
    "model_bilstm_graph.summary()"
   ]
  },
  {
   "cell_type": "code",
   "execution_count": 64,
   "id": "5e4e59b1",
   "metadata": {},
   "outputs": [
    {
     "name": "stdout",
     "output_type": "stream",
     "text": [
      "Epoch 1/200\n",
      "WARNING:tensorflow:AutoGraph could not transform <function Model.make_train_function.<locals>.train_function at 0x7fb388334620> and will run it as-is.\n",
      "Please report this to the TensorFlow team. When filing the bug, set the verbosity to 10 (on Linux, `export AUTOGRAPH_VERBOSITY=10`) and attach the full output.\n",
      "Cause: 'arguments' object has no attribute 'posonlyargs'\n",
      "To silence this warning, decorate the function with @tf.autograph.experimental.do_not_convert\n",
      "WARNING: AutoGraph could not transform <function Model.make_train_function.<locals>.train_function at 0x7fb388334620> and will run it as-is.\n",
      "Please report this to the TensorFlow team. When filing the bug, set the verbosity to 10 (on Linux, `export AUTOGRAPH_VERBOSITY=10`) and attach the full output.\n",
      "Cause: 'arguments' object has no attribute 'posonlyargs'\n",
      "To silence this warning, decorate the function with @tf.autograph.experimental.do_not_convert\n",
      "26/26 [==============================] - ETA: 0s - loss: 0.4645 - accuracy: 0.7832WARNING:tensorflow:AutoGraph could not transform <function Model.make_test_function.<locals>.test_function at 0x7fb35836a488> and will run it as-is.\n",
      "Please report this to the TensorFlow team. When filing the bug, set the verbosity to 10 (on Linux, `export AUTOGRAPH_VERBOSITY=10`) and attach the full output.\n",
      "Cause: 'arguments' object has no attribute 'posonlyargs'\n",
      "To silence this warning, decorate the function with @tf.autograph.experimental.do_not_convert\n",
      "WARNING: AutoGraph could not transform <function Model.make_test_function.<locals>.test_function at 0x7fb35836a488> and will run it as-is.\n",
      "Please report this to the TensorFlow team. When filing the bug, set the verbosity to 10 (on Linux, `export AUTOGRAPH_VERBOSITY=10`) and attach the full output.\n",
      "Cause: 'arguments' object has no attribute 'posonlyargs'\n",
      "To silence this warning, decorate the function with @tf.autograph.experimental.do_not_convert\n",
      "26/26 [==============================] - 14s 258ms/step - loss: 0.4645 - accuracy: 0.7832 - val_loss: 0.3264 - val_accuracy: 0.8667 - lr: 0.0100\n",
      "Epoch 2/200\n",
      "26/26 [==============================] - 5s 186ms/step - loss: 0.2829 - accuracy: 0.8894 - val_loss: 0.2647 - val_accuracy: 0.8829 - lr: 0.0100\n",
      "Epoch 3/200\n",
      "26/26 [==============================] - 5s 186ms/step - loss: 0.2177 - accuracy: 0.9162 - val_loss: 0.2272 - val_accuracy: 0.9028 - lr: 0.0100\n",
      "Epoch 4/200\n",
      "26/26 [==============================] - 5s 187ms/step - loss: 0.1664 - accuracy: 0.9371 - val_loss: 0.2282 - val_accuracy: 0.8997 - lr: 0.0100\n",
      "Epoch 5/200\n",
      "26/26 [==============================] - ETA: 0s - loss: 0.1451 - accuracy: 0.9430\n",
      "Epoch 5: ReduceLROnPlateau reducing learning rate to 0.004999999888241291.\n",
      "26/26 [==============================] - 5s 188ms/step - loss: 0.1451 - accuracy: 0.9430 - val_loss: 0.2720 - val_accuracy: 0.8991 - lr: 0.0100\n",
      "Epoch 6/200\n",
      "26/26 [==============================] - 5s 187ms/step - loss: 0.1023 - accuracy: 0.9629 - val_loss: 0.2548 - val_accuracy: 0.9165 - lr: 0.0050\n",
      "Epoch 7/200\n",
      "26/26 [==============================] - 5s 185ms/step - loss: 0.0781 - accuracy: 0.9737 - val_loss: 0.2575 - val_accuracy: 0.9109 - lr: 0.0050\n",
      "Epoch 8/200\n",
      "26/26 [==============================] - 5s 190ms/step - loss: 0.0545 - accuracy: 0.9819 - val_loss: 0.3177 - val_accuracy: 0.9202 - lr: 0.0050\n",
      "Epoch 8: early stopping\n"
     ]
    }
   ],
   "source": [
    "history_bilstm_graph = model_bilstm_graph.fit([x_train,np.array(x_g_train)], y_train, batch_size = batch_size , validation_split=0.2 , epochs = epochs , callbacks = [learning_rate_reduction, early_stopping])"
   ]
  },
  {
   "cell_type": "code",
   "execution_count": 67,
   "id": "d2d4afa0",
   "metadata": {},
   "outputs": [
    {
     "name": "stdout",
     "output_type": "stream",
     "text": [
      "84/84 [==============================] - 2s 27ms/step\n"
     ]
    },
    {
     "data": {
      "text/plain": [
       "0.9244859813084112"
      ]
     },
     "execution_count": 67,
     "metadata": {},
     "output_type": "execute_result"
    }
   ],
   "source": [
    "y_pred = (model_bilstm_graph.predict([X_test,np.array(x_g_test)]) > 0.5).astype(\"int32\")\n",
    "\n",
    "accuracy_score(y_test,y_pred)"
   ]
  },
  {
   "cell_type": "code",
   "execution_count": 68,
   "id": "185b6659",
   "metadata": {},
   "outputs": [
    {
     "name": "stdout",
     "output_type": "stream",
     "text": [
      "              precision    recall  f1-score   support\n",
      "\n",
      "           0    0.91294   0.92749   0.92016      1255\n",
      "           1    0.93500   0.92183   0.92837      1420\n",
      "\n",
      "    accuracy                        0.92449      2675\n",
      "   macro avg    0.92397   0.92466   0.92426      2675\n",
      "weighted avg    0.92465   0.92449   0.92452      2675\n",
      "\n"
     ]
    }
   ],
   "source": [
    "print(classification_report(y_test, y_pred,digits=5))"
   ]
  },
  {
   "cell_type": "code",
   "execution_count": 101,
   "id": "84c4c073",
   "metadata": {},
   "outputs": [],
   "source": [
    "file1=pd.read_excel(r'./africa_data/Fake News (mzanzi stories) Fake.xlsx', header=None)\n",
    "file2=pd.read_excel(r'./africa_data/Fake News (sa-news.com) Fake.xlsx', header=None)\n",
    "file3=pd.read_excel(r'./africa_data/Fake News (search67.com) Fake.xlsx', header=None)\n",
    "file4=pd.read_excel(r'./africa_data/Fake News (whatsappgroup.co.za) Fake.xlsx', header=None)"
   ]
  },
  {
   "cell_type": "code",
   "execution_count": 102,
   "id": "29cd01dd",
   "metadata": {},
   "outputs": [],
   "source": [
    "afr_test_df = pd.DataFrame(pd.concat([file1[5], file2[5], file3[5],file4[5]], axis=0))\n",
    "\n",
    "# Reset the index of the combined dataframe\n",
    "afr_test_df.reset_index(drop=True, inplace=True)\n",
    "afr_test_df = afr_test_df.rename(columns={5: 'tweet'})\n",
    "afr_test_df['label']= 0"
   ]
  },
  {
   "cell_type": "code",
   "execution_count": 103,
   "id": "5f14cb2e",
   "metadata": {},
   "outputs": [],
   "source": [
    "afr_test_df['tweet']= afr_test_df['tweet'].apply(lambda x :str(x))"
   ]
  },
  {
   "cell_type": "code",
   "execution_count": 104,
   "id": "4245b904",
   "metadata": {},
   "outputs": [
    {
     "name": "stderr",
     "output_type": "stream",
     "text": [
      "/DATA/gupta37/.local/lib/python3.7/site-packages/bs4/__init__.py:439: MarkupResemblesLocatorWarning: The input looks more like a filename than markup. You may want to open this file and pass the filehandle into Beautiful Soup.\n",
      "  MarkupResemblesLocatorWarning\n"
     ]
    },
    {
     "data": {
      "text/plain": [
       "1506"
      ]
     },
     "execution_count": 104,
     "metadata": {},
     "output_type": "execute_result"
    }
   ],
   "source": [
    "stop = set(stopwords.words('english'))\n",
    "punctuation = list(string.punctuation)\n",
    "stop.update(punctuation)\n",
    "\n",
    "def strip_html(text):\n",
    "    soup = BeautifulSoup(text, \"html.parser\")\n",
    "    return soup.get_text()\n",
    "\n",
    "#Removing the square brackets\n",
    "def remove_between_square_brackets(text):\n",
    "    return re.sub('\\[[^]]*\\]', '', text)\n",
    "# Removing URL's\n",
    "def remove_between_square_brackets(text):\n",
    "    return re.sub(r'http\\S+', '', text)\n",
    "#Removing the stopwords from text\n",
    "def remove_stopwords(text):\n",
    "    final_text = []\n",
    "    for i in text.split():\n",
    "        if i.strip().lower() not in stop:\n",
    "            final_text.append(i.strip())\n",
    "    return \" \".join(final_text)\n",
    "#Removing the noisy text\n",
    "def denoise_text(text):\n",
    "    text = strip_html(text)\n",
    "    text = remove_between_square_brackets(text)\n",
    "    text = remove_stopwords(text)\n",
    "    return text\n",
    "#Apply function on review column\n",
    "afr_test_df['tweet']=afr_test_df['tweet'].apply(denoise_text)\n",
    "\n",
    "def get_corpus(text):\n",
    "    words = []\n",
    "    for i in text:\n",
    "        for j in i.split():\n",
    "            words.append(j.strip())\n",
    "    return words\n",
    "corpus = get_corpus(afr_test_df.tweet)\n",
    "\n",
    "\n",
    "def get_max_len(text):\n",
    "    words_len = []\n",
    "    for i in text:\n",
    "        words=[]\n",
    "        for j in i.split():\n",
    "            words.append(j.strip())\n",
    "        words_len.append(len(words))\n",
    "    return words_len\n",
    "max_len = max(get_max_len(afr_test_df.tweet))\n",
    "\n",
    "max_len"
   ]
  },
  {
   "cell_type": "code",
   "execution_count": 105,
   "id": "3e41003d",
   "metadata": {},
   "outputs": [],
   "source": [
    "max_features = 8231\n",
    "maxlen = 100\n",
    "max_sent_len=7\n",
    "\n",
    "\n",
    "tokenizer = text.Tokenizer(num_words=max_features)\n",
    "tokenizer.fit_on_texts(afr_test_df['tweet'])\n",
    "tokenized_train = tokenizer.texts_to_sequences(afr_test_df['tweet'])\n",
    "x_afr_test = sequence.pad_sequences(tokenized_train, maxlen=maxlen)\n",
    "\n",
    "# tokenized_test = tokenizer.texts_to_sequences(x_test)\n",
    "# X_test = sequence.pad_sequences(tokenized_test, maxlen=maxlen)\n",
    "\n",
    "# EMBEDDING_FILE = './glove.twitter.27B.100d.txt'\n",
    "\n",
    "# def get_coefs(word, *arr): \n",
    "#     return word, np.asarray(arr, dtype='float32')\n",
    "# embeddings_index = dict(get_coefs(*o.rstrip().rsplit(' ')) for o in open(EMBEDDING_FILE))\n",
    "\n",
    "# all_embs = np.stack(embeddings_index.values())\n",
    "# emb_mean,emb_std = all_embs.mean(), all_embs.std()\n",
    "# embed_size = all_embs.shape[1]\n",
    "\n"
   ]
  },
  {
   "cell_type": "code",
   "execution_count": 106,
   "id": "1029e867",
   "metadata": {},
   "outputs": [],
   "source": [
    "# word_index = tokenizer.word_index\n",
    "# nb_words = min(max_features, len(word_index))\n",
    "# #change below line if computing normal stats is too slow\n",
    "# embedding_matrix = embedding_matrix = np.random.normal(emb_mean, emb_std, (nb_words, embed_size))\n",
    "# for word, i in word_index.items():\n",
    "#     if i >= max_features: continue\n",
    "#     embedding_vector = embeddings_index.get(word)\n",
    "#     if embedding_vector is not None: embedding_matrix[i] = embedding_vector"
   ]
  },
  {
   "cell_type": "code",
   "execution_count": 107,
   "id": "aeb390af",
   "metadata": {},
   "outputs": [
    {
     "data": {
      "text/plain": [
       "array([   0,    0,    0,    0,    0,    0,    0,    0,    0,    0,    0,\n",
       "          0,    0,    0,    0,    0,    0,    0,    0,    0,    0,    0,\n",
       "          0,    0,    0,    0,    0,    0,    0,    0,    0,    0,    0,\n",
       "          0,    0,    0,    0,    0,    0,    0,    0,    0,    0,    0,\n",
       "          0,    0,    0,    0,    0,    0,    0,    0,    0,    0,   54,\n",
       "         28,  838,   28, 6694,   28, 1453, 3556,  130,   16,  263, 6694,\n",
       "        144, 1930,   33,   72,  564,   72, 5653,  167,    2, 1521, 6695,\n",
       "       3908, 1401, 1049,   28,  184, 3253,   28,   55,  578,   54, 1654,\n",
       "         28, 6694,  578, 1016, 5654,   41,  137,   28,   91,  137,   28,\n",
       "         45], dtype=int32)"
      ]
     },
     "execution_count": 107,
     "metadata": {},
     "output_type": "execute_result"
    }
   ],
   "source": [
    "x_afr_test[0]"
   ]
  },
  {
   "cell_type": "code",
   "execution_count": 108,
   "id": "6086b8df",
   "metadata": {},
   "outputs": [
    {
     "name": "stdout",
     "output_type": "stream",
     "text": [
      "23/23 [==============================] - 1s 25ms/step\n"
     ]
    },
    {
     "data": {
      "text/plain": [
       "0.39389736477115117"
      ]
     },
     "execution_count": 108,
     "metadata": {},
     "output_type": "execute_result"
    }
   ],
   "source": [
    "y_pred = (model_bilstm.predict(x_afr_test) > 0.5).astype(\"int32\")\n",
    "\n",
    "accuracy_score(afr_test_df['label'],y_pred)"
   ]
  },
  {
   "cell_type": "code",
   "execution_count": 110,
   "id": "da2bc057",
   "metadata": {},
   "outputs": [
    {
     "data": {
      "text/plain": [
       "array([[0],\n",
       "       [0],\n",
       "       [1],\n",
       "       [1],\n",
       "       [0],\n",
       "       [1],\n",
       "       [1],\n",
       "       [0],\n",
       "       [1],\n",
       "       [1],\n",
       "       [1],\n",
       "       [0],\n",
       "       [1],\n",
       "       [1],\n",
       "       [0],\n",
       "       [1],\n",
       "       [0],\n",
       "       [0],\n",
       "       [0],\n",
       "       [0],\n",
       "       [0],\n",
       "       [1],\n",
       "       [0],\n",
       "       [1],\n",
       "       [1],\n",
       "       [1],\n",
       "       [1],\n",
       "       [1],\n",
       "       [0],\n",
       "       [1],\n",
       "       [0],\n",
       "       [1],\n",
       "       [1],\n",
       "       [1],\n",
       "       [1],\n",
       "       [1],\n",
       "       [1],\n",
       "       [0],\n",
       "       [1],\n",
       "       [1],\n",
       "       [0],\n",
       "       [0],\n",
       "       [1],\n",
       "       [1],\n",
       "       [0],\n",
       "       [1],\n",
       "       [1],\n",
       "       [1],\n",
       "       [1],\n",
       "       [1],\n",
       "       [1],\n",
       "       [1],\n",
       "       [1],\n",
       "       [0],\n",
       "       [1],\n",
       "       [0],\n",
       "       [1],\n",
       "       [1],\n",
       "       [1],\n",
       "       [0],\n",
       "       [0],\n",
       "       [0],\n",
       "       [1],\n",
       "       [0],\n",
       "       [1],\n",
       "       [1],\n",
       "       [1],\n",
       "       [1],\n",
       "       [1],\n",
       "       [0],\n",
       "       [1],\n",
       "       [1],\n",
       "       [1],\n",
       "       [1],\n",
       "       [1],\n",
       "       [0],\n",
       "       [1],\n",
       "       [0],\n",
       "       [1],\n",
       "       [0],\n",
       "       [0],\n",
       "       [1],\n",
       "       [0],\n",
       "       [0],\n",
       "       [1],\n",
       "       [0],\n",
       "       [0],\n",
       "       [0],\n",
       "       [1],\n",
       "       [1],\n",
       "       [1],\n",
       "       [0],\n",
       "       [1],\n",
       "       [1],\n",
       "       [0],\n",
       "       [1],\n",
       "       [0],\n",
       "       [0],\n",
       "       [0],\n",
       "       [0],\n",
       "       [1],\n",
       "       [1],\n",
       "       [1],\n",
       "       [0],\n",
       "       [1],\n",
       "       [1],\n",
       "       [1],\n",
       "       [1],\n",
       "       [0],\n",
       "       [1],\n",
       "       [0],\n",
       "       [0],\n",
       "       [1],\n",
       "       [0],\n",
       "       [1],\n",
       "       [0],\n",
       "       [1],\n",
       "       [0],\n",
       "       [1],\n",
       "       [1],\n",
       "       [1],\n",
       "       [0],\n",
       "       [1],\n",
       "       [1],\n",
       "       [0],\n",
       "       [1],\n",
       "       [1],\n",
       "       [0],\n",
       "       [1],\n",
       "       [1],\n",
       "       [0],\n",
       "       [0],\n",
       "       [1],\n",
       "       [1],\n",
       "       [0],\n",
       "       [0],\n",
       "       [0],\n",
       "       [0],\n",
       "       [0],\n",
       "       [0],\n",
       "       [1],\n",
       "       [1],\n",
       "       [1],\n",
       "       [1],\n",
       "       [1],\n",
       "       [0],\n",
       "       [1],\n",
       "       [0],\n",
       "       [1],\n",
       "       [0],\n",
       "       [1],\n",
       "       [1],\n",
       "       [1],\n",
       "       [0],\n",
       "       [0],\n",
       "       [0],\n",
       "       [1],\n",
       "       [1],\n",
       "       [0],\n",
       "       [1],\n",
       "       [1],\n",
       "       [1],\n",
       "       [0],\n",
       "       [0],\n",
       "       [0],\n",
       "       [0],\n",
       "       [0],\n",
       "       [0],\n",
       "       [1],\n",
       "       [1],\n",
       "       [1],\n",
       "       [1],\n",
       "       [1],\n",
       "       [1],\n",
       "       [1],\n",
       "       [1],\n",
       "       [0],\n",
       "       [1],\n",
       "       [1],\n",
       "       [1],\n",
       "       [1],\n",
       "       [1],\n",
       "       [1],\n",
       "       [1],\n",
       "       [1],\n",
       "       [1],\n",
       "       [0],\n",
       "       [1],\n",
       "       [1],\n",
       "       [1],\n",
       "       [1],\n",
       "       [1],\n",
       "       [1],\n",
       "       [0],\n",
       "       [0],\n",
       "       [0],\n",
       "       [1],\n",
       "       [1],\n",
       "       [1],\n",
       "       [1],\n",
       "       [1],\n",
       "       [1],\n",
       "       [1],\n",
       "       [1],\n",
       "       [1],\n",
       "       [0],\n",
       "       [1],\n",
       "       [0],\n",
       "       [1],\n",
       "       [1],\n",
       "       [1],\n",
       "       [1],\n",
       "       [1],\n",
       "       [1],\n",
       "       [0],\n",
       "       [1],\n",
       "       [0],\n",
       "       [0],\n",
       "       [0],\n",
       "       [1],\n",
       "       [1],\n",
       "       [0],\n",
       "       [0],\n",
       "       [1],\n",
       "       [0],\n",
       "       [1],\n",
       "       [1],\n",
       "       [1],\n",
       "       [1],\n",
       "       [1],\n",
       "       [1],\n",
       "       [0],\n",
       "       [1],\n",
       "       [1],\n",
       "       [0],\n",
       "       [0],\n",
       "       [1],\n",
       "       [0],\n",
       "       [0],\n",
       "       [0],\n",
       "       [0],\n",
       "       [0],\n",
       "       [0],\n",
       "       [1],\n",
       "       [0],\n",
       "       [1],\n",
       "       [1],\n",
       "       [0],\n",
       "       [1],\n",
       "       [1],\n",
       "       [1],\n",
       "       [1],\n",
       "       [0],\n",
       "       [0],\n",
       "       [1],\n",
       "       [0],\n",
       "       [1],\n",
       "       [1],\n",
       "       [1],\n",
       "       [1],\n",
       "       [1],\n",
       "       [0],\n",
       "       [0],\n",
       "       [0],\n",
       "       [1],\n",
       "       [0],\n",
       "       [1],\n",
       "       [1],\n",
       "       [1],\n",
       "       [1],\n",
       "       [1],\n",
       "       [1],\n",
       "       [0],\n",
       "       [0],\n",
       "       [1],\n",
       "       [0],\n",
       "       [0],\n",
       "       [1],\n",
       "       [1],\n",
       "       [1],\n",
       "       [0],\n",
       "       [1],\n",
       "       [1],\n",
       "       [1],\n",
       "       [0],\n",
       "       [0],\n",
       "       [0],\n",
       "       [0],\n",
       "       [1],\n",
       "       [0],\n",
       "       [1],\n",
       "       [1],\n",
       "       [0],\n",
       "       [0],\n",
       "       [1],\n",
       "       [0],\n",
       "       [1],\n",
       "       [1],\n",
       "       [1],\n",
       "       [1],\n",
       "       [1],\n",
       "       [1],\n",
       "       [1],\n",
       "       [1],\n",
       "       [0],\n",
       "       [0],\n",
       "       [1],\n",
       "       [0],\n",
       "       [0],\n",
       "       [1],\n",
       "       [1],\n",
       "       [1],\n",
       "       [0],\n",
       "       [1],\n",
       "       [0],\n",
       "       [0],\n",
       "       [1],\n",
       "       [1],\n",
       "       [0],\n",
       "       [1],\n",
       "       [0],\n",
       "       [0],\n",
       "       [1],\n",
       "       [1],\n",
       "       [1],\n",
       "       [1],\n",
       "       [1],\n",
       "       [0],\n",
       "       [1],\n",
       "       [1],\n",
       "       [0],\n",
       "       [1],\n",
       "       [1],\n",
       "       [0],\n",
       "       [1],\n",
       "       [1],\n",
       "       [0],\n",
       "       [1],\n",
       "       [0],\n",
       "       [1],\n",
       "       [0],\n",
       "       [1],\n",
       "       [1],\n",
       "       [1],\n",
       "       [0],\n",
       "       [1],\n",
       "       [0],\n",
       "       [0],\n",
       "       [1],\n",
       "       [0],\n",
       "       [0],\n",
       "       [1],\n",
       "       [1],\n",
       "       [0],\n",
       "       [1],\n",
       "       [1],\n",
       "       [0],\n",
       "       [1],\n",
       "       [1],\n",
       "       [1],\n",
       "       [1],\n",
       "       [1],\n",
       "       [1],\n",
       "       [1],\n",
       "       [1],\n",
       "       [1],\n",
       "       [1],\n",
       "       [1],\n",
       "       [0],\n",
       "       [0],\n",
       "       [1],\n",
       "       [1],\n",
       "       [1],\n",
       "       [0],\n",
       "       [0],\n",
       "       [1],\n",
       "       [0],\n",
       "       [1],\n",
       "       [1],\n",
       "       [0],\n",
       "       [1],\n",
       "       [0],\n",
       "       [1],\n",
       "       [1],\n",
       "       [1],\n",
       "       [0],\n",
       "       [1],\n",
       "       [1],\n",
       "       [1],\n",
       "       [1],\n",
       "       [0],\n",
       "       [1],\n",
       "       [0],\n",
       "       [0],\n",
       "       [1],\n",
       "       [0],\n",
       "       [1],\n",
       "       [1],\n",
       "       [1],\n",
       "       [1],\n",
       "       [0],\n",
       "       [1],\n",
       "       [1],\n",
       "       [0],\n",
       "       [0],\n",
       "       [0],\n",
       "       [1],\n",
       "       [1],\n",
       "       [1],\n",
       "       [1],\n",
       "       [0],\n",
       "       [0],\n",
       "       [0],\n",
       "       [0],\n",
       "       [1],\n",
       "       [0],\n",
       "       [1],\n",
       "       [0],\n",
       "       [1],\n",
       "       [1],\n",
       "       [0],\n",
       "       [1],\n",
       "       [1],\n",
       "       [1],\n",
       "       [0],\n",
       "       [1],\n",
       "       [1],\n",
       "       [0],\n",
       "       [0],\n",
       "       [0],\n",
       "       [1],\n",
       "       [0],\n",
       "       [0],\n",
       "       [1],\n",
       "       [0],\n",
       "       [1],\n",
       "       [0],\n",
       "       [0],\n",
       "       [1],\n",
       "       [0],\n",
       "       [0],\n",
       "       [0],\n",
       "       [1],\n",
       "       [0],\n",
       "       [0],\n",
       "       [1],\n",
       "       [1],\n",
       "       [0],\n",
       "       [1],\n",
       "       [1],\n",
       "       [1],\n",
       "       [0],\n",
       "       [1],\n",
       "       [1],\n",
       "       [1],\n",
       "       [0],\n",
       "       [0],\n",
       "       [1],\n",
       "       [1],\n",
       "       [0],\n",
       "       [1],\n",
       "       [0],\n",
       "       [0],\n",
       "       [0],\n",
       "       [1],\n",
       "       [1],\n",
       "       [0],\n",
       "       [0],\n",
       "       [1],\n",
       "       [1],\n",
       "       [1],\n",
       "       [1],\n",
       "       [1],\n",
       "       [0],\n",
       "       [1],\n",
       "       [1],\n",
       "       [1],\n",
       "       [0],\n",
       "       [1],\n",
       "       [1],\n",
       "       [1],\n",
       "       [0],\n",
       "       [1],\n",
       "       [1],\n",
       "       [0],\n",
       "       [1],\n",
       "       [1],\n",
       "       [1],\n",
       "       [1],\n",
       "       [1],\n",
       "       [0],\n",
       "       [1],\n",
       "       [1],\n",
       "       [1],\n",
       "       [1],\n",
       "       [1],\n",
       "       [1],\n",
       "       [1],\n",
       "       [1],\n",
       "       [0],\n",
       "       [1],\n",
       "       [0],\n",
       "       [1],\n",
       "       [1],\n",
       "       [0],\n",
       "       [1],\n",
       "       [1],\n",
       "       [1],\n",
       "       [1],\n",
       "       [0],\n",
       "       [1],\n",
       "       [1],\n",
       "       [1],\n",
       "       [0],\n",
       "       [0],\n",
       "       [1],\n",
       "       [1],\n",
       "       [1],\n",
       "       [0],\n",
       "       [1],\n",
       "       [1],\n",
       "       [1],\n",
       "       [1],\n",
       "       [0],\n",
       "       [1],\n",
       "       [0],\n",
       "       [0],\n",
       "       [1],\n",
       "       [1],\n",
       "       [0],\n",
       "       [0],\n",
       "       [0],\n",
       "       [0],\n",
       "       [1],\n",
       "       [0],\n",
       "       [1],\n",
       "       [1],\n",
       "       [0],\n",
       "       [1],\n",
       "       [0],\n",
       "       [1],\n",
       "       [0],\n",
       "       [1],\n",
       "       [0],\n",
       "       [0],\n",
       "       [0],\n",
       "       [0],\n",
       "       [1],\n",
       "       [1],\n",
       "       [1],\n",
       "       [0],\n",
       "       [1],\n",
       "       [0],\n",
       "       [1],\n",
       "       [0],\n",
       "       [1],\n",
       "       [0],\n",
       "       [1],\n",
       "       [1],\n",
       "       [1],\n",
       "       [0],\n",
       "       [0],\n",
       "       [0],\n",
       "       [0],\n",
       "       [0],\n",
       "       [0],\n",
       "       [1],\n",
       "       [1],\n",
       "       [1],\n",
       "       [1],\n",
       "       [1],\n",
       "       [1],\n",
       "       [1],\n",
       "       [0],\n",
       "       [0],\n",
       "       [0],\n",
       "       [1],\n",
       "       [1],\n",
       "       [1],\n",
       "       [1],\n",
       "       [1],\n",
       "       [1],\n",
       "       [0],\n",
       "       [1],\n",
       "       [1],\n",
       "       [1],\n",
       "       [1],\n",
       "       [0],\n",
       "       [0],\n",
       "       [0],\n",
       "       [1],\n",
       "       [0],\n",
       "       [1],\n",
       "       [1],\n",
       "       [0],\n",
       "       [0],\n",
       "       [0],\n",
       "       [1],\n",
       "       [0],\n",
       "       [0],\n",
       "       [0],\n",
       "       [1],\n",
       "       [0],\n",
       "       [1],\n",
       "       [1],\n",
       "       [1],\n",
       "       [1],\n",
       "       [0],\n",
       "       [1],\n",
       "       [1],\n",
       "       [0],\n",
       "       [0],\n",
       "       [1],\n",
       "       [0],\n",
       "       [1],\n",
       "       [1],\n",
       "       [1],\n",
       "       [1],\n",
       "       [1],\n",
       "       [0],\n",
       "       [1],\n",
       "       [1],\n",
       "       [0],\n",
       "       [0],\n",
       "       [0],\n",
       "       [0],\n",
       "       [0],\n",
       "       [1],\n",
       "       [1],\n",
       "       [0],\n",
       "       [1],\n",
       "       [0],\n",
       "       [0],\n",
       "       [1],\n",
       "       [0],\n",
       "       [1],\n",
       "       [1],\n",
       "       [0],\n",
       "       [0],\n",
       "       [1],\n",
       "       [1],\n",
       "       [1],\n",
       "       [0],\n",
       "       [0],\n",
       "       [1],\n",
       "       [0],\n",
       "       [1],\n",
       "       [0],\n",
       "       [0],\n",
       "       [1],\n",
       "       [1],\n",
       "       [0],\n",
       "       [1],\n",
       "       [0],\n",
       "       [1],\n",
       "       [1],\n",
       "       [1],\n",
       "       [1],\n",
       "       [0],\n",
       "       [1],\n",
       "       [1],\n",
       "       [1],\n",
       "       [1],\n",
       "       [1],\n",
       "       [1],\n",
       "       [1],\n",
       "       [1],\n",
       "       [0],\n",
       "       [1],\n",
       "       [0],\n",
       "       [1],\n",
       "       [1],\n",
       "       [1],\n",
       "       [1],\n",
       "       [1],\n",
       "       [1],\n",
       "       [1],\n",
       "       [0],\n",
       "       [1],\n",
       "       [0],\n",
       "       [0],\n",
       "       [1],\n",
       "       [1],\n",
       "       [0],\n",
       "       [1],\n",
       "       [0],\n",
       "       [1],\n",
       "       [1],\n",
       "       [0],\n",
       "       [0],\n",
       "       [1],\n",
       "       [0],\n",
       "       [1],\n",
       "       [0],\n",
       "       [0],\n",
       "       [1],\n",
       "       [0],\n",
       "       [1],\n",
       "       [1],\n",
       "       [1],\n",
       "       [1],\n",
       "       [0],\n",
       "       [1],\n",
       "       [0],\n",
       "       [0],\n",
       "       [1],\n",
       "       [0],\n",
       "       [1],\n",
       "       [1],\n",
       "       [1],\n",
       "       [1],\n",
       "       [0],\n",
       "       [0],\n",
       "       [0],\n",
       "       [1],\n",
       "       [1],\n",
       "       [1],\n",
       "       [0],\n",
       "       [0],\n",
       "       [1],\n",
       "       [1]], dtype=int32)"
      ]
     },
     "execution_count": 110,
     "metadata": {},
     "output_type": "execute_result"
    }
   ],
   "source": [
    "y_pred"
   ]
  },
  {
   "cell_type": "code",
   "execution_count": null,
   "id": "0bd23146",
   "metadata": {},
   "outputs": [],
   "source": []
  }
 ],
 "metadata": {
  "kernelspec": {
   "display_name": "Python 3 (ipykernel)",
   "language": "python",
   "name": "python3"
  },
  "language_info": {
   "codemirror_mode": {
    "name": "ipython",
    "version": 3
   },
   "file_extension": ".py",
   "mimetype": "text/x-python",
   "name": "python",
   "nbconvert_exporter": "python",
   "pygments_lexer": "ipython3",
   "version": "3.7.3"
  }
 },
 "nbformat": 4,
 "nbformat_minor": 5
}
